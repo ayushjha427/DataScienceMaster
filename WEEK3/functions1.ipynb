{
 "cells": [
  {
   "cell_type": "code",
   "execution_count": 1,
   "id": "f1635fbf-d043-4252-93c9-cb78cc65a34e",
   "metadata": {},
   "outputs": [
    {
     "name": "stdout",
     "output_type": "stream",
     "text": [
      "this is my print\n"
     ]
    }
   ],
   "source": [
    "print(\"this is my print\")"
   ]
  },
  {
   "cell_type": "code",
   "execution_count": 2,
   "id": "9e8c3e6e-e646-4b79-bc1f-0a9ada3710d1",
   "metadata": {},
   "outputs": [],
   "source": [
    "l=[324,45,45,45]"
   ]
  },
  {
   "cell_type": "code",
   "execution_count": 3,
   "id": "7af49193-5bb6-4389-a69e-6666ef2d09c4",
   "metadata": {},
   "outputs": [
    {
     "data": {
      "text/plain": [
       "4"
      ]
     },
     "execution_count": 3,
     "metadata": {},
     "output_type": "execute_result"
    }
   ],
   "source": [
    "len(l)"
   ]
  },
  {
   "cell_type": "code",
   "execution_count": 4,
   "id": "ff364e26-5f45-4c80-98e8-c1b16080e2c9",
   "metadata": {},
   "outputs": [
    {
     "data": {
      "text/plain": [
       "list"
      ]
     },
     "execution_count": 4,
     "metadata": {},
     "output_type": "execute_result"
    }
   ],
   "source": [
    "type(l)"
   ]
  },
  {
   "cell_type": "code",
   "execution_count": 5,
   "id": "d97a6c8e-f1f4-4ff4-9690-7d9d33c7ed60",
   "metadata": {},
   "outputs": [],
   "source": [
    "#function is necessary in coding\n",
    "#function increase reusability of code\n",
    "#def is use for creating a function in python"
   ]
  },
  {
   "cell_type": "code",
   "execution_count": 6,
   "id": "f4b2f9a0-66b2-4e7a-aaf1-0bfe5768fb34",
   "metadata": {},
   "outputs": [],
   "source": [
    "def test():\n",
    "    pass #pass keyword use for excute function without any assigning task\n",
    "    "
   ]
  },
  {
   "cell_type": "code",
   "execution_count": 7,
   "id": "5af4d383-4695-490a-82bd-ccd7f01336d0",
   "metadata": {},
   "outputs": [],
   "source": [
    "def test1():\n",
    "    print(\"my name is ayush\")"
   ]
  },
  {
   "cell_type": "code",
   "execution_count": 8,
   "id": "accb5c4b-b543-4ee0-9723-fdc22c8669c3",
   "metadata": {},
   "outputs": [
    {
     "name": "stdout",
     "output_type": "stream",
     "text": [
      "my name is ayush\n"
     ]
    }
   ],
   "source": [
    "test1()#calling function"
   ]
  },
  {
   "cell_type": "code",
   "execution_count": 9,
   "id": "93194b35-906c-4417-bc83-a94bfa43f444",
   "metadata": {},
   "outputs": [
    {
     "name": "stdout",
     "output_type": "stream",
     "text": [
      "my name is ayush\n"
     ]
    },
    {
     "ename": "TypeError",
     "evalue": "unsupported operand type(s) for +: 'NoneType' and 'str'",
     "output_type": "error",
     "traceback": [
      "\u001b[0;31m---------------------------------------------------------------------------\u001b[0m",
      "\u001b[0;31mTypeError\u001b[0m                                 Traceback (most recent call last)",
      "Cell \u001b[0;32mIn[9], line 1\u001b[0m\n\u001b[0;32m----> 1\u001b[0m \u001b[43mtest1\u001b[49m\u001b[43m(\u001b[49m\u001b[43m)\u001b[49m\u001b[43m \u001b[49m\u001b[38;5;241;43m+\u001b[39;49m\u001b[38;5;124;43m\"\u001b[39;49m\u001b[38;5;124;43mayush\u001b[39;49m\u001b[38;5;124;43m\"\u001b[39;49m \u001b[38;5;66;03m# becuse this is none type its doing print so can't congantinate with string\u001b[39;00m\n",
      "\u001b[0;31mTypeError\u001b[0m: unsupported operand type(s) for +: 'NoneType' and 'str'"
     ]
    }
   ],
   "source": [
    "test1() +\"ayush\" # becuse this is none type its doing print so can't congantinate with string"
   ]
  },
  {
   "cell_type": "code",
   "execution_count": null,
   "id": "7eaa65e5-c543-47af-8d57-5d073d5cea16",
   "metadata": {},
   "outputs": [],
   "source": [
    "#handling previous error we do\n",
    "def test2():\n",
    "    return \"this is my name \""
   ]
  },
  {
   "cell_type": "code",
   "execution_count": 12,
   "id": "26ce8b25-a951-4dd6-8824-5fd7478b52ca",
   "metadata": {},
   "outputs": [
    {
     "ename": "NameError",
     "evalue": "name 'test2' is not defined",
     "output_type": "error",
     "traceback": [
      "\u001b[0;31m---------------------------------------------------------------------------\u001b[0m",
      "\u001b[0;31mNameError\u001b[0m                                 Traceback (most recent call last)",
      "Cell \u001b[0;32mIn[12], line 1\u001b[0m\n\u001b[0;32m----> 1\u001b[0m \u001b[43mtest2\u001b[49m()\n",
      "\u001b[0;31mNameError\u001b[0m: name 'test2' is not defined"
     ]
    }
   ],
   "source": [
    "test2()"
   ]
  },
  {
   "cell_type": "code",
   "execution_count": 11,
   "id": "855373a0-8ebc-476c-8da7-bc867016eb7c",
   "metadata": {},
   "outputs": [
    {
     "ename": "NameError",
     "evalue": "name 'test2' is not defined",
     "output_type": "error",
     "traceback": [
      "\u001b[0;31m---------------------------------------------------------------------------\u001b[0m",
      "\u001b[0;31mNameError\u001b[0m                                 Traceback (most recent call last)",
      "Cell \u001b[0;32mIn[11], line 1\u001b[0m\n\u001b[0;32m----> 1\u001b[0m \u001b[43mtest2\u001b[49m() \u001b[38;5;241m+\u001b[39m \u001b[38;5;124m\"\u001b[39m\u001b[38;5;124mayush\u001b[39m\u001b[38;5;124m\"\u001b[39m\n",
      "\u001b[0;31mNameError\u001b[0m: name 'test2' is not defined"
     ]
    }
   ],
   "source": [
    "test2() + \"ayush\""
   ]
  },
  {
   "cell_type": "code",
   "execution_count": 16,
   "id": "e69016c3-1eee-443b-a1e1-22a86f8b3447",
   "metadata": {},
   "outputs": [],
   "source": [
    "# so we use return instead of print to congatinate "
   ]
  },
  {
   "cell_type": "code",
   "execution_count": 13,
   "id": "0dfd04de-3e8c-4ad7-ac28-3ac5aa665210",
   "metadata": {},
   "outputs": [],
   "source": [
    "def test3():\n",
    "    return \"ayush\",23,345.6,[1,2,3]"
   ]
  },
  {
   "cell_type": "code",
   "execution_count": 14,
   "id": "b87d1baf-1534-4293-92b9-7de5f515d415",
   "metadata": {},
   "outputs": [
    {
     "data": {
      "text/plain": [
       "('ayush', 23, 345.6, [1, 2, 3])"
      ]
     },
     "execution_count": 14,
     "metadata": {},
     "output_type": "execute_result"
    }
   ],
   "source": [
    "test3()"
   ]
  },
  {
   "cell_type": "code",
   "execution_count": 15,
   "id": "c3aa50c7-7608-43a2-8128-62e2e7cfafff",
   "metadata": {},
   "outputs": [],
   "source": [
    "a,b,c,d=test3()"
   ]
  },
  {
   "cell_type": "code",
   "execution_count": 16,
   "id": "995e2fa7-2c46-45a6-841b-2df0f9529a06",
   "metadata": {},
   "outputs": [
    {
     "data": {
      "text/plain": [
       "'ayush'"
      ]
     },
     "execution_count": 16,
     "metadata": {},
     "output_type": "execute_result"
    }
   ],
   "source": [
    "a # assigning data to function in each variable index wise"
   ]
  },
  {
   "cell_type": "code",
   "execution_count": 17,
   "id": "ff78a6d3-042e-49fb-8695-c62273b50579",
   "metadata": {},
   "outputs": [
    {
     "data": {
      "text/plain": [
       "23"
      ]
     },
     "execution_count": 17,
     "metadata": {},
     "output_type": "execute_result"
    }
   ],
   "source": [
    "b"
   ]
  },
  {
   "cell_type": "code",
   "execution_count": 18,
   "id": "9fe11b92-425a-4bab-9076-85f704d1f4f3",
   "metadata": {},
   "outputs": [
    {
     "data": {
      "text/plain": [
       "345.6"
      ]
     },
     "execution_count": 18,
     "metadata": {},
     "output_type": "execute_result"
    }
   ],
   "source": [
    "c"
   ]
  },
  {
   "cell_type": "code",
   "execution_count": 19,
   "id": "9372abf4-13cd-4d85-91b7-c72aab11465d",
   "metadata": {},
   "outputs": [
    {
     "data": {
      "text/plain": [
       "[1, 2, 3]"
      ]
     },
     "execution_count": 19,
     "metadata": {},
     "output_type": "execute_result"
    }
   ],
   "source": [
    "d\n"
   ]
  },
  {
   "cell_type": "code",
   "execution_count": 20,
   "id": "aa46a93a-7e5c-4397-93b7-8bd739dd4179",
   "metadata": {},
   "outputs": [],
   "source": [
    "def test4():\n",
    "    a = 5+6/7\n",
    "    return a"
   ]
  },
  {
   "cell_type": "code",
   "execution_count": 21,
   "id": "22b0d9fe-2822-4735-84c5-b8d87d005fbd",
   "metadata": {},
   "outputs": [
    {
     "data": {
      "text/plain": [
       "5.857142857142857"
      ]
     },
     "execution_count": 21,
     "metadata": {},
     "output_type": "execute_result"
    }
   ],
   "source": [
    "test4()"
   ]
  },
  {
   "cell_type": "code",
   "execution_count": 22,
   "id": "28c353d9-a9cf-44a4-864e-65130215eb1f",
   "metadata": {},
   "outputs": [],
   "source": [
    "def test5(a,b,c):\n",
    "    d = a+b/c\n",
    "    return d\n",
    "    "
   ]
  },
  {
   "cell_type": "code",
   "execution_count": 23,
   "id": "fe04a38a-d8ee-4619-b5fa-ae297e61cead",
   "metadata": {},
   "outputs": [
    {
     "ename": "TypeError",
     "evalue": "test5() missing 3 required positional arguments: 'a', 'b', and 'c'",
     "output_type": "error",
     "traceback": [
      "\u001b[0;31m---------------------------------------------------------------------------\u001b[0m",
      "\u001b[0;31mTypeError\u001b[0m                                 Traceback (most recent call last)",
      "Cell \u001b[0;32mIn[23], line 1\u001b[0m\n\u001b[0;32m----> 1\u001b[0m \u001b[43mtest5\u001b[49m\u001b[43m(\u001b[49m\u001b[43m)\u001b[49m \u001b[38;5;66;03m# error  because value not assign of the a,b,c in argument \u001b[39;00m\n",
      "\u001b[0;31mTypeError\u001b[0m: test5() missing 3 required positional arguments: 'a', 'b', and 'c'"
     ]
    }
   ],
   "source": [
    "test5() # error  because value not assign of the a,b,c in argument "
   ]
  },
  {
   "cell_type": "code",
   "execution_count": 24,
   "id": "6504501b-5ea1-4b39-ba5a-617e67a95411",
   "metadata": {},
   "outputs": [
    {
     "data": {
      "text/plain": [
       "2.625"
      ]
     },
     "execution_count": 24,
     "metadata": {},
     "output_type": "execute_result"
    }
   ],
   "source": [
    "test5(2,5,8)"
   ]
  },
  {
   "cell_type": "code",
   "execution_count": 25,
   "id": "12d6a688-7769-49e8-a04d-b32f548c76b0",
   "metadata": {},
   "outputs": [],
   "source": [
    "def test6(a,b):\n",
    "    return a+b"
   ]
  },
  {
   "cell_type": "code",
   "execution_count": 26,
   "id": "38076360-5252-4b9b-98f3-1c750b0847f4",
   "metadata": {},
   "outputs": [
    {
     "data": {
      "text/plain": [
       "7"
      ]
     },
     "execution_count": 26,
     "metadata": {},
     "output_type": "execute_result"
    }
   ],
   "source": [
    "test6(3,4)\n"
   ]
  },
  {
   "cell_type": "code",
   "execution_count": 27,
   "id": "f2e60b87-e008-4bd4-b9b8-d3c9cdfcbe10",
   "metadata": {},
   "outputs": [
    {
     "data": {
      "text/plain": [
       "'ayush jha'"
      ]
     },
     "execution_count": 27,
     "metadata": {},
     "output_type": "execute_result"
    }
   ],
   "source": [
    "test6(\"ayush\",\" jha\")"
   ]
  },
  {
   "cell_type": "code",
   "execution_count": 28,
   "id": "7fe5110b-57d9-4d39-b52a-529c141fbc40",
   "metadata": {},
   "outputs": [
    {
     "data": {
      "text/plain": [
       "[1, 2, 3, 4, 5, 6, 7]"
      ]
     },
     "execution_count": 28,
     "metadata": {},
     "output_type": "execute_result"
    }
   ],
   "source": [
    "test6([1,2,3,4],[5,6,7])"
   ]
  },
  {
   "cell_type": "code",
   "execution_count": 55,
   "id": "99276ae8-e6eb-4f0f-bad1-18e85dd70812",
   "metadata": {},
   "outputs": [],
   "source": [
    "l=[1,2,3,4,\"ayush\",\"jha\",[1,2,3,4,5,6]]"
   ]
  },
  {
   "cell_type": "code",
   "execution_count": 56,
   "id": "11e03016-c0c2-4c5c-bc72-91f3d45fd139",
   "metadata": {},
   "outputs": [],
   "source": [
    "#without function\n",
    "l1=[]\n",
    "for i in l :\n",
    "    if type(i) == int or type(i) == float :\n",
    "        l1.append(i)"
   ]
  },
  {
   "cell_type": "code",
   "execution_count": 57,
   "id": "70f8ac3f-7fd7-4598-ac21-7c47fba62581",
   "metadata": {},
   "outputs": [
    {
     "data": {
      "text/plain": [
       "[1, 2, 3, 4]"
      ]
     },
     "execution_count": 57,
     "metadata": {},
     "output_type": "execute_result"
    }
   ],
   "source": [
    "l1"
   ]
  },
  {
   "cell_type": "code",
   "execution_count": 61,
   "id": "c0597ac8-a278-407b-ab6e-6c3c63a6b703",
   "metadata": {},
   "outputs": [],
   "source": [
    "l=[1,2,3,4,\"ayush\",\"jha\",[1,2,3,4,5,6]]"
   ]
  },
  {
   "cell_type": "code",
   "execution_count": 62,
   "id": "3e6dcd50-26ce-4f61-ae2f-4e32f222ecfb",
   "metadata": {},
   "outputs": [],
   "source": [
    "def test7(l):\n",
    "    l1 = []\n",
    "    for i in l :\n",
    "        if type(i) == int or type(i) == float :\n",
    "            l1.append(i)\n",
    "            return l1\n",
    " "
   ]
  },
  {
   "cell_type": "code",
   "execution_count": 64,
   "id": "f62ec06e-e0b9-4039-a5c9-6924496d360e",
   "metadata": {},
   "outputs": [
    {
     "data": {
      "text/plain": [
       "[1]"
      ]
     },
     "execution_count": 64,
     "metadata": {},
     "output_type": "execute_result"
    }
   ],
   "source": [
    "test7(l1)"
   ]
  },
  {
   "cell_type": "code",
   "execution_count": 65,
   "id": "46be7a47-8859-4ac3-a289-052bd0ebfcf2",
   "metadata": {},
   "outputs": [
    {
     "data": {
      "text/plain": [
       "[1, 2, 3, 4, 'ayush', 'jha', [1, 2, 3, 4, 5, 6]]"
      ]
     },
     "execution_count": 65,
     "metadata": {},
     "output_type": "execute_result"
    }
   ],
   "source": [
    "l"
   ]
  },
  {
   "cell_type": "code",
   "execution_count": 73,
   "id": "606f6d1b-3aa9-4588-811a-9f7d3c07abf9",
   "metadata": {},
   "outputs": [],
   "source": [
    "def test9(a) :\n",
    "    \"\"\"this is my function to extract numeric data\"\"\"\n",
    "    l2 = []\n",
    "    for i in a :\n",
    "        if type(i) == list:\n",
    "            for j in i :\n",
    "                l2.append(j)\n",
    "        else :\n",
    "            if type(i) == int or type(i) == float :\n",
    "                l.append(i)\n",
    "            return l"
   ]
  },
  {
   "cell_type": "code",
   "execution_count": 75,
   "id": "01beca17-5c04-4661-8833-56bdfc6e4eef",
   "metadata": {},
   "outputs": [
    {
     "data": {
      "text/plain": [
       "[1, 2, 3, 4, 'ayush', 'jha', [1, 2, 3, 4, 5, 6], 1, 1, 1, 1, 1]"
      ]
     },
     "execution_count": 75,
     "metadata": {},
     "output_type": "execute_result"
    }
   ],
   "source": [
    "test9(l)"
   ]
  },
  {
   "cell_type": "code",
   "execution_count": 2,
   "id": "5276b731-17b6-426a-93ec-b559da44fbf7",
   "metadata": {},
   "outputs": [],
   "source": [
    "def test10(a,b):\n",
    "    return a+b"
   ]
  },
  {
   "cell_type": "code",
   "execution_count": 3,
   "id": "80ee3122-8d1c-48e4-9687-a9fef74b7960",
   "metadata": {},
   "outputs": [],
   "source": [
    "def test11(*args):\n",
    "    return args"
   ]
  },
  {
   "cell_type": "code",
   "execution_count": 4,
   "id": "14516209-8c19-47f0-908e-06e3236f15d8",
   "metadata": {},
   "outputs": [
    {
     "data": {
      "text/plain": [
       "tuple"
      ]
     },
     "execution_count": 4,
     "metadata": {},
     "output_type": "execute_result"
    }
   ],
   "source": [
    "type(test11())"
   ]
  },
  {
   "cell_type": "code",
   "execution_count": 5,
   "id": "4966ea7f-a441-4917-9bb8-54e2aee25638",
   "metadata": {},
   "outputs": [
    {
     "data": {
      "text/plain": [
       "(1, 2, 3)"
      ]
     },
     "execution_count": 5,
     "metadata": {},
     "output_type": "execute_result"
    }
   ],
   "source": [
    "test11(1,2,3)"
   ]
  },
  {
   "cell_type": "code",
   "execution_count": 6,
   "id": "12cd2f00-494f-4ba6-8957-a8efa4b480c8",
   "metadata": {},
   "outputs": [
    {
     "data": {
      "text/plain": [
       "tuple"
      ]
     },
     "execution_count": 6,
     "metadata": {},
     "output_type": "execute_result"
    }
   ],
   "source": [
    "type(test11())"
   ]
  },
  {
   "cell_type": "code",
   "execution_count": 7,
   "id": "8f82a82e-537f-43d2-8dc8-2643a8f9a487",
   "metadata": {},
   "outputs": [
    {
     "data": {
      "text/plain": [
       "(1, 2, 3, 'ayush', 'jha', [1, 2, 3, 4, 4])"
      ]
     },
     "execution_count": 7,
     "metadata": {},
     "output_type": "execute_result"
    }
   ],
   "source": [
    "test11(1,2,3, \"ayush\",\"jha\",[1,2,3,4,4])"
   ]
  },
  {
   "cell_type": "code",
   "execution_count": 8,
   "id": "30a0bce3-403f-4b05-ab73-5bb727e12db5",
   "metadata": {},
   "outputs": [
    {
     "data": {
      "text/plain": [
       "tuple"
      ]
     },
     "execution_count": 8,
     "metadata": {},
     "output_type": "execute_result"
    }
   ],
   "source": [
    "type(test11())"
   ]
  },
  {
   "cell_type": "code",
   "execution_count": 9,
   "id": "bf3521ab-69ea-4e2c-8ad6-004db11a329e",
   "metadata": {},
   "outputs": [],
   "source": [
    "#args is not a keywords you write anything it's a argument so we write\n",
    "#args as a simplicity"
   ]
  },
  {
   "cell_type": "code",
   "execution_count": 11,
   "id": "503a79a6-6719-4600-bacb-0f42ef50407b",
   "metadata": {},
   "outputs": [],
   "source": [
    "def test13(*args, a) :\n",
    "    return args , a"
   ]
  },
  {
   "cell_type": "code",
   "execution_count": 12,
   "id": "59a30d40-09f9-43f3-89c3-36a1392ca6e8",
   "metadata": {},
   "outputs": [
    {
     "ename": "TypeError",
     "evalue": "test13() missing 1 required keyword-only argument: 'a'",
     "output_type": "error",
     "traceback": [
      "\u001b[0;31m---------------------------------------------------------------------------\u001b[0m",
      "\u001b[0;31mTypeError\u001b[0m                                 Traceback (most recent call last)",
      "Cell \u001b[0;32mIn[12], line 1\u001b[0m\n\u001b[0;32m----> 1\u001b[0m \u001b[43mtest13\u001b[49m\u001b[43m(\u001b[49m\u001b[38;5;241;43m1\u001b[39;49m\u001b[43m,\u001b[49m\u001b[38;5;241;43m2\u001b[39;49m\u001b[43m,\u001b[49m\u001b[38;5;241;43m3\u001b[39;49m\u001b[43m,\u001b[49m\u001b[38;5;241;43m4\u001b[39;49m\u001b[43m)\u001b[49m\n",
      "\u001b[0;31mTypeError\u001b[0m: test13() missing 1 required keyword-only argument: 'a'"
     ]
    }
   ],
   "source": [
    "test13(1,2,3,4) #error because of confusion in which is going to \n",
    "#assign the value.."
   ]
  },
  {
   "cell_type": "code",
   "execution_count": 13,
   "id": "aa6fe614-2ae0-4848-a0e2-85ee8b19f5ef",
   "metadata": {},
   "outputs": [
    {
     "data": {
      "text/plain": [
       "((1, 2, 3, 4), 23)"
      ]
     },
     "execution_count": 13,
     "metadata": {},
     "output_type": "execute_result"
    }
   ],
   "source": [
    "test13(1,2,3,4 ,a =23) # now error solve becz we assign another value a "
   ]
  },
  {
   "cell_type": "code",
   "execution_count": 18,
   "id": "0e1974e3-8215-4b9a-bacf-e47fe53c7be8",
   "metadata": {},
   "outputs": [],
   "source": [
    "def test14(c,d,a=23,b=1,):\n",
    "    return a,b,c,d"
   ]
  },
  {
   "cell_type": "code",
   "execution_count": 19,
   "id": "ae4d8aa5-84c4-4ffe-996c-7802b591fefe",
   "metadata": {},
   "outputs": [
    {
     "ename": "TypeError",
     "evalue": "test14() missing 2 required positional arguments: 'c' and 'd'",
     "output_type": "error",
     "traceback": [
      "\u001b[0;31m---------------------------------------------------------------------------\u001b[0m",
      "\u001b[0;31mTypeError\u001b[0m                                 Traceback (most recent call last)",
      "Cell \u001b[0;32mIn[19], line 1\u001b[0m\n\u001b[0;32m----> 1\u001b[0m \u001b[43mtest14\u001b[49m\u001b[43m(\u001b[49m\u001b[43m)\u001b[49m\u001b[38;5;66;03m# the vlaue of c and d not define\u001b[39;00m\n",
      "\u001b[0;31mTypeError\u001b[0m: test14() missing 2 required positional arguments: 'c' and 'd'"
     ]
    }
   ],
   "source": [
    "test14()# the vlaue of c and d not define"
   ]
  },
  {
   "cell_type": "code",
   "execution_count": 20,
   "id": "adc0f313-c832-4317-a491-4fcec8065926",
   "metadata": {},
   "outputs": [
    {
     "data": {
      "text/plain": [
       "(23, 1, 3, 4)"
      ]
     },
     "execution_count": 20,
     "metadata": {},
     "output_type": "execute_result"
    }
   ],
   "source": [
    "test14(3,4)"
   ]
  },
  {
   "cell_type": "code",
   "execution_count": 21,
   "id": "d6d28818-b2f3-429c-9403-0cd661d1cfa5",
   "metadata": {},
   "outputs": [
    {
     "data": {
      "text/plain": [
       "(55, 1, 2, 5)"
      ]
     },
     "execution_count": 21,
     "metadata": {},
     "output_type": "execute_result"
    }
   ],
   "source": [
    "test14(2,5,a = 55) #the value of change and vlaue override"
   ]
  },
  {
   "cell_type": "code",
   "execution_count": 26,
   "id": "0d2f0184-38af-4ed0-a070-bf5140b59ff9",
   "metadata": {},
   "outputs": [],
   "source": [
    "def test15(**kwargs):\n",
    "    return kwargs"
   ]
  },
  {
   "cell_type": "code",
   "execution_count": 27,
   "id": "5749da9c-b8e8-4652-9e39-c6bb6514ec65",
   "metadata": {},
   "outputs": [
    {
     "data": {
      "text/plain": [
       "{}"
      ]
     },
     "execution_count": 27,
     "metadata": {},
     "output_type": "execute_result"
    }
   ],
   "source": [
    "test15()"
   ]
  },
  {
   "cell_type": "code",
   "execution_count": 28,
   "id": "65d60e6d-4af4-4874-9f0c-b7e46dd9b28b",
   "metadata": {},
   "outputs": [
    {
     "data": {
      "text/plain": [
       "dict"
      ]
     },
     "execution_count": 28,
     "metadata": {},
     "output_type": "execute_result"
    }
   ],
   "source": [
    "type(test15())"
   ]
  },
  {
   "cell_type": "code",
   "execution_count": 29,
   "id": "081eee08-4d40-4058-9bde-7fb607be8ce9",
   "metadata": {},
   "outputs": [
    {
     "data": {
      "text/plain": [
       "{'a': [1, 2, 3, 4], 'b': 'ayush', 'c': 23.45}"
      ]
     },
     "execution_count": 29,
     "metadata": {},
     "output_type": "execute_result"
    }
   ],
   "source": [
    "test15(a=[1,2,3,4],b = \"ayush\",c=23.45)"
   ]
  },
  {
   "cell_type": "code",
   "execution_count": null,
   "id": "4841d789-786b-4337-b79d-8b22f8ea4f73",
   "metadata": {},
   "outputs": [],
   "source": []
  }
 ],
 "metadata": {
  "kernelspec": {
   "display_name": "Python 3 (ipykernel)",
   "language": "python",
   "name": "python3"
  },
  "language_info": {
   "codemirror_mode": {
    "name": "ipython",
    "version": 3
   },
   "file_extension": ".py",
   "mimetype": "text/x-python",
   "name": "python",
   "nbconvert_exporter": "python",
   "pygments_lexer": "ipython3",
   "version": "3.10.8"
  }
 },
 "nbformat": 4,
 "nbformat_minor": 5
}
