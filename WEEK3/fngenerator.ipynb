{
 "cells": [
  {
   "cell_type": "code",
   "execution_count": 1,
   "id": "df9c5e14-001d-4108-aeb9-f0bac7be80b8",
   "metadata": {},
   "outputs": [
    {
     "data": {
      "text/plain": [
       "range(0, 10)"
      ]
     },
     "execution_count": 1,
     "metadata": {},
     "output_type": "execute_result"
    }
   ],
   "source": [
    "range(10)"
   ]
  },
  {
   "cell_type": "code",
   "execution_count": 3,
   "id": "92040f7d-c4d5-4279-ae8b-b6bcf26c5171",
   "metadata": {},
   "outputs": [
    {
     "name": "stdout",
     "output_type": "stream",
     "text": [
      "0\n",
      "1\n",
      "2\n",
      "3\n",
      "4\n",
      "5\n",
      "6\n",
      "7\n",
      "8\n",
      "9\n"
     ]
    }
   ],
   "source": [
    "for  i in range(10):\n",
    "    print(i)"
   ]
  },
  {
   "cell_type": "code",
   "execution_count": 4,
   "id": "4073d36f-b19a-4087-a793-da33809fd786",
   "metadata": {},
   "outputs": [],
   "source": [
    "#fibonacci series\n",
    "#fibonaci is a number where next number is sum of itself andd previous number\n",
    "def test_fib(n):\n",
    "    a,b =0,1\n",
    "    for i in range(n):\n",
    "        yield a  \n",
    "        \n",
    "        #yield is a special keyword in python used for data throwing or returning a data\n",
    "        a,b = b, a+b\n",
    "        "
   ]
  },
  {
   "cell_type": "code",
   "execution_count": 7,
   "id": "e9b50b9a-bbda-4600-8b7f-2cc4ce26f827",
   "metadata": {},
   "outputs": [
    {
     "name": "stdout",
     "output_type": "stream",
     "text": [
      "0\n",
      "1\n",
      "1\n",
      "2\n",
      "3\n",
      "5\n",
      "8\n",
      "13\n",
      "21\n",
      "34\n"
     ]
    }
   ],
   "source": [
    "for i in test_fib(10):\n",
    "    print(i)"
   ]
  },
  {
   "cell_type": "code",
   "execution_count": 8,
   "id": "4a610422-5219-4228-b1ff-af8972963163",
   "metadata": {},
   "outputs": [],
   "source": [
    "#generator function improve memory utilization"
   ]
  },
  {
   "cell_type": "code",
   "execution_count": 9,
   "id": "547e4b23-4d27-4754-a2cd-6f2e5f3365b3",
   "metadata": {},
   "outputs": [],
   "source": [
    "def test_fib1():\n",
    "    a,b =0,1\n",
    "    while True:\n",
    "        yield a \n",
    "        a,b = b ,a+b"
   ]
  },
  {
   "cell_type": "code",
   "execution_count": 10,
   "id": "7e925ba2-a21a-41f0-92f6-81cdd7e6687d",
   "metadata": {},
   "outputs": [],
   "source": [
    "fib = test_fib1()\n",
    "\n"
   ]
  },
  {
   "cell_type": "code",
   "execution_count": 11,
   "id": "63744a43-31e4-4180-a1ab-66659910a6fe",
   "metadata": {},
   "outputs": [
    {
     "name": "stdout",
     "output_type": "stream",
     "text": [
      "0\n",
      "1\n",
      "1\n",
      "2\n",
      "3\n",
      "5\n",
      "8\n",
      "13\n",
      "21\n",
      "34\n"
     ]
    }
   ],
   "source": [
    "for i in range(10):\n",
    "    print(next(fib))\n",
    "    "
   ]
  },
  {
   "cell_type": "code",
   "execution_count": 12,
   "id": "bdf70186-ed74-4526-82f2-0652be58f5a7",
   "metadata": {},
   "outputs": [],
   "source": [
    "s= \"ayush\""
   ]
  },
  {
   "cell_type": "code",
   "execution_count": 13,
   "id": "c61666d7-2a95-4317-ab98-a2a7e98b2cb0",
   "metadata": {},
   "outputs": [
    {
     "name": "stdout",
     "output_type": "stream",
     "text": [
      "a\n",
      "y\n",
      "u\n",
      "s\n",
      "h\n"
     ]
    }
   ],
   "source": [
    "for i in s :\n",
    "    print(i)"
   ]
  },
  {
   "cell_type": "code",
   "execution_count": 14,
   "id": "941bce62-316d-445f-b09c-0a15dbc33728",
   "metadata": {},
   "outputs": [
    {
     "ename": "TypeError",
     "evalue": "'str' object is not an iterator",
     "output_type": "error",
     "traceback": [
      "\u001b[0;31m---------------------------------------------------------------------------\u001b[0m",
      "\u001b[0;31mTypeError\u001b[0m                                 Traceback (most recent call last)",
      "Cell \u001b[0;32mIn[14], line 1\u001b[0m\n\u001b[0;32m----> 1\u001b[0m \u001b[38;5;28;43mnext\u001b[39;49m\u001b[43m(\u001b[49m\u001b[43ms\u001b[49m\u001b[43m)\u001b[49m\n",
      "\u001b[0;31mTypeError\u001b[0m: 'str' object is not an iterator"
     ]
    }
   ],
   "source": [
    "next(s) #string is not a next iterator object but int is "
   ]
  },
  {
   "cell_type": "code",
   "execution_count": 15,
   "id": "9c91cae0-9391-44be-a803-07ddcd7ed319",
   "metadata": {},
   "outputs": [],
   "source": [
    "# the use of next in python is retriving next data which is after the point"
   ]
  },
  {
   "cell_type": "code",
   "execution_count": 16,
   "id": "600beb96-0568-44fa-8097-32e7efe5c774",
   "metadata": {},
   "outputs": [],
   "source": [
    "s1=iter(s) \n",
    "#iter use for converting string iterable to itrator"
   ]
  },
  {
   "cell_type": "code",
   "execution_count": 18,
   "id": "ada577a0-c316-4cda-b572-7a5454d7a7b0",
   "metadata": {},
   "outputs": [
    {
     "data": {
      "text/plain": [
       "'a'"
      ]
     },
     "execution_count": 18,
     "metadata": {},
     "output_type": "execute_result"
    }
   ],
   "source": [
    "next(s1)"
   ]
  },
  {
   "cell_type": "code",
   "execution_count": 20,
   "id": "97cf9fbd-8d59-4585-a7bd-cf48ff0b83c0",
   "metadata": {},
   "outputs": [
    {
     "data": {
      "text/plain": [
       "'y'"
      ]
     },
     "execution_count": 20,
     "metadata": {},
     "output_type": "execute_result"
    }
   ],
   "source": [
    "next(s1)"
   ]
  },
  {
   "cell_type": "code",
   "execution_count": 21,
   "id": "45f59ac4-accb-4c08-933c-af262206a44a",
   "metadata": {},
   "outputs": [
    {
     "data": {
      "text/plain": [
       "'u'"
      ]
     },
     "execution_count": 21,
     "metadata": {},
     "output_type": "execute_result"
    }
   ],
   "source": [
    "next(s1)"
   ]
  },
  {
   "cell_type": "code",
   "execution_count": 22,
   "id": "43244c02-d532-4d15-9b31-140daa27275a",
   "metadata": {},
   "outputs": [
    {
     "data": {
      "text/plain": [
       "'s'"
      ]
     },
     "execution_count": 22,
     "metadata": {},
     "output_type": "execute_result"
    }
   ],
   "source": [
    "next(s1)"
   ]
  },
  {
   "cell_type": "code",
   "execution_count": 23,
   "id": "03159b29-4c13-4fe4-9b8f-c08d4964f72e",
   "metadata": {},
   "outputs": [],
   "source": [
    "#str is itrable but not a itrator so we pur in iter function and then string is iterator"
   ]
  },
  {
   "cell_type": "code",
   "execution_count": 24,
   "id": "1bb25384-42e1-4ee3-9c39-c1f63f010c72",
   "metadata": {},
   "outputs": [
    {
     "data": {
      "text/plain": [
       "'h'"
      ]
     },
     "execution_count": 24,
     "metadata": {},
     "output_type": "execute_result"
    }
   ],
   "source": [
    "next(s1)"
   ]
  },
  {
   "cell_type": "code",
   "execution_count": 25,
   "id": "9562804e-3885-4d68-bbe1-e937efa50302",
   "metadata": {},
   "outputs": [
    {
     "ename": "StopIteration",
     "evalue": "",
     "output_type": "error",
     "traceback": [
      "\u001b[0;31m---------------------------------------------------------------------------\u001b[0m",
      "\u001b[0;31mStopIteration\u001b[0m                             Traceback (most recent call last)",
      "Cell \u001b[0;32mIn[25], line 1\u001b[0m\n\u001b[0;32m----> 1\u001b[0m \u001b[38;5;28;43mnext\u001b[39;49m\u001b[43m(\u001b[49m\u001b[43ms1\u001b[49m\u001b[43m)\u001b[49m\n",
      "\u001b[0;31mStopIteration\u001b[0m: "
     ]
    }
   ],
   "source": [
    "next(s1)"
   ]
  },
  {
   "cell_type": "code",
   "execution_count": 26,
   "id": "b1afbb10-36e9-4419-b1fb-b51a6cd421af",
   "metadata": {},
   "outputs": [],
   "source": [
    "#int is not a itrable its itrator "
   ]
  },
  {
   "cell_type": "code",
   "execution_count": 27,
   "id": "7479533f-73bd-4f9e-8da4-9d62a5ba79c2",
   "metadata": {},
   "outputs": [
    {
     "data": {
      "text/plain": [
       "generator"
      ]
     },
     "execution_count": 27,
     "metadata": {},
     "output_type": "execute_result"
    }
   ],
   "source": [
    "type(fib) #generator that means a iterator function.."
   ]
  },
  {
   "cell_type": "code",
   "execution_count": 31,
   "id": "b7d4aa4b-2ab1-42db-8070-9d27d9de8b96",
   "metadata": {},
   "outputs": [],
   "source": [
    "def count_test(n):\n",
    "    count=1\n",
    "    while count <= n :\n",
    "        yield count\n",
    "        count = count + 1"
   ]
  },
  {
   "cell_type": "code",
   "execution_count": 32,
   "id": "ea305b5b-8e2c-4d7c-b967-dee0c5a709fb",
   "metadata": {},
   "outputs": [],
   "source": [
    "c=count_test(5)"
   ]
  },
  {
   "cell_type": "code",
   "execution_count": 33,
   "id": "dad5370d-e8e6-4e1d-beee-1c6b400fb6cc",
   "metadata": {},
   "outputs": [
    {
     "name": "stdout",
     "output_type": "stream",
     "text": [
      "1\n",
      "2\n",
      "3\n",
      "4\n",
      "5\n"
     ]
    }
   ],
   "source": [
    "for i in c :\n",
    "    print(i)"
   ]
  },
  {
   "cell_type": "code",
   "execution_count": null,
   "id": "90d67089-b83b-44bd-9198-b380c028ad49",
   "metadata": {},
   "outputs": [],
   "source": []
  }
 ],
 "metadata": {
  "kernelspec": {
   "display_name": "Python 3 (ipykernel)",
   "language": "python",
   "name": "python3"
  },
  "language_info": {
   "codemirror_mode": {
    "name": "ipython",
    "version": 3
   },
   "file_extension": ".py",
   "mimetype": "text/x-python",
   "name": "python",
   "nbconvert_exporter": "python",
   "pygments_lexer": "ipython3",
   "version": "3.10.8"
  }
 },
 "nbformat": 4,
 "nbformat_minor": 5
}
