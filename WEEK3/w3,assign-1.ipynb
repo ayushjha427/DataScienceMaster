{
 "cells": [
  {
   "cell_type": "markdown",
   "id": "2cdde9d0-0f02-4795-97c9-50f8473d0ec6",
   "metadata": {},
   "source": [
    "Q1. Which keyword is used to create a function? Create a function to return a list of odd numbers in the\n",
    "range of 1 to 25."
   ]
  },
  {
   "cell_type": "markdown",
   "id": "7fa4d4e4-5fe3-4f09-865c-d89c30bf1dec",
   "metadata": {},
   "source": [
    "def keyword is used to create a function"
   ]
  },
  {
   "cell_type": "code",
   "execution_count": 1,
   "id": "a59d2ea2-c019-4b36-8491-048d65d7d498",
   "metadata": {},
   "outputs": [
    {
     "name": "stdout",
     "output_type": "stream",
     "text": [
      "[1, 3, 5, 7, 9, 11, 13, 15, 17, 19, 21, 23]\n"
     ]
    }
   ],
   "source": [
    "def odd_numbers():\n",
    "    l1 = []\n",
    "    for num in range(1, 25):\n",
    "        if num % 2 != 0:\n",
    "            l1.append(num)\n",
    "    \n",
    "    return l1\n",
    "         \n",
    "ans = odd_numbers()\n",
    "print(ans)\n",
    "        "
   ]
  },
  {
   "cell_type": "markdown",
   "id": "215a697b-2c7f-4a87-8342-12ea3d843388",
   "metadata": {},
   "source": [
    "Q2. Why *args and **kwargs is used in some functions? Create a function each for *args and **kwargs\n",
    "to demonstrate their use."
   ]
  },
  {
   "cell_type": "markdown",
   "id": "7dafc5df-1379-457d-97d2-94ce69319ed8",
   "metadata": {},
   "source": [
    "ANSWER\n",
    "*args and **kwargs make function flexible we use them because when we need to alow to pass any nmber of \n",
    "keywords arguments\n",
    "*args:-use when you are not sure about the number of arguments might receieved by function.\n",
    " *kwargs:-useful when you need to privide optional named argument to function"
   ]
  },
  {
   "cell_type": "code",
   "execution_count": 2,
   "id": "73ae6428-e5d6-4fe8-89e4-19fa5159201b",
   "metadata": {},
   "outputs": [],
   "source": [
    "def args(*args) :\n",
    "    return args "
   ]
  },
  {
   "cell_type": "code",
   "execution_count": 3,
   "id": "31f156a6-4788-417f-bc40-1ba70c1f4db8",
   "metadata": {},
   "outputs": [],
   "source": [
    "def kwargs(**kwargs):\n",
    "    return kwargs"
   ]
  },
  {
   "cell_type": "markdown",
   "id": "bfd5deef-648a-41dc-ba0a-3ecfadcd189e",
   "metadata": {},
   "source": [
    "Q3. What is an iterator in python? Name the method used to initialise the iterator object and the method\n",
    "used for iteration. Use these methods to print the first five elements of the given list [2, 4, 6, 8, 10, 12, 14,\n",
    "16, 18, 20]."
   ]
  },
  {
   "cell_type": "markdown",
   "id": "81f4b0b9-7278-4401-860c-f2fe305a6b35",
   "metadata": {},
   "source": [
    "Ans \n",
    "An object that allow you to iterate over collection of data such as list , tuples , sets\n",
    "iterator have two method \n",
    "__iter__() for initializing \n",
    "__next__() for iterating the elements\n"
   ]
  },
  {
   "cell_type": "code",
   "execution_count": 7,
   "id": "29d88034-015e-433c-a131-250f341627d1",
   "metadata": {},
   "outputs": [
    {
     "name": "stdout",
     "output_type": "stream",
     "text": [
      "2\n",
      "4\n",
      "6\n",
      "8\n",
      "10\n"
     ]
    }
   ],
   "source": [
    "my_list = [2, 4, 6, 8, 10, 12, 14, 16, 18, 20]\n",
    "my_iter = iter(my_list)\n",
    "    \n",
    "for i in range(5):\n",
    "        print(next(my_iter))"
   ]
  },
  {
   "cell_type": "markdown",
   "id": "892199e6-7ce6-4a78-a161-d611b54d2aae",
   "metadata": {},
   "source": [
    "Q4. What is a generator function in python? Why yield keyword is used? Give an example of a generator\n",
    "function."
   ]
  },
  {
   "cell_type": "markdown",
   "id": "b92981e8-673e-444f-966c-d7c48c55202e",
   "metadata": {},
   "source": [
    "ANS.   \n",
    "generator allow to declare a fucntion that behave like a iterator and improve memory utilization\n",
    "yield keyword used for returning generator object. yield  is simial to return "
   ]
  },
  {
   "cell_type": "code",
   "execution_count": 7,
   "id": "b32de9ae-601c-4e75-8ad9-626ad1f674e6",
   "metadata": {},
   "outputs": [],
   "source": [
    "def count_test(n):\n",
    "    count=1\n",
    "    while count <= n :\n",
    "        yield count\n",
    "        count = count + 1"
   ]
  },
  {
   "cell_type": "code",
   "execution_count": 8,
   "id": "79be2f54-67a0-4d8f-9388-db3ef328c7ef",
   "metadata": {},
   "outputs": [],
   "source": [
    "c=count_test(5)"
   ]
  },
  {
   "cell_type": "code",
   "execution_count": 9,
   "id": "3b0c6151-ffd7-47db-bd4c-06053a05be78",
   "metadata": {},
   "outputs": [
    {
     "name": "stdout",
     "output_type": "stream",
     "text": [
      "1\n",
      "2\n",
      "3\n",
      "4\n",
      "5\n"
     ]
    }
   ],
   "source": [
    "for i in c :\n",
    "    print(i)"
   ]
  },
  {
   "cell_type": "markdown",
   "id": "c6e0a6e7-d4ff-426c-ac32-b31da985ceb5",
   "metadata": {},
   "source": [
    "Q5. Create a generator function for prime numbers less than 1000. Use the next() method to print the\n",
    "first 20 prime numbers."
   ]
  },
  {
   "cell_type": "code",
   "execution_count": 17,
   "id": "771113f0-5367-4cc1-85c7-a7a09bd4ddcf",
   "metadata": {},
   "outputs": [
    {
     "name": "stdout",
     "output_type": "stream",
     "text": [
      "3\n",
      "5\n",
      "7\n",
      "11\n",
      "13\n",
      "17\n",
      "19\n",
      "23\n",
      "29\n",
      "31\n",
      "37\n",
      "41\n",
      "43\n",
      "47\n",
      "53\n",
      "59\n",
      "61\n",
      "67\n",
      "71\n",
      "73\n"
     ]
    }
   ],
   "source": [
    "def primes():\n",
    "    yield 2\n",
    "    primes_list = [2]\n",
    "    for i in range(3, 1000):\n",
    "        is_prime = True\n",
    "        for prime in primes_list:\n",
    "            if i % prime == 0:\n",
    "                is_prime = False\n",
    "                break\n",
    "        if is_prime:\n",
    "            primes_list.append(i)\n",
    "            yield i\n",
    "\n",
    "prime_gen = primes()\n",
    "# the next() method to print the first 20 prime numbers.\n",
    "for i in range(20):\n",
    "    print(next(prime_gen))\n"
   ]
  },
  {
   "cell_type": "markdown",
   "id": "c9f19c18-6d12-4e5b-92b3-a8b18f3a406b",
   "metadata": {},
   "source": [
    "Q6. Write a python program to print the first 10 Fibonacci numbers using a while loop."
   ]
  },
  {
   "cell_type": "code",
   "execution_count": 18,
   "id": "50768598-d9e4-46c6-b777-46b007162b25",
   "metadata": {},
   "outputs": [
    {
     "name": "stdout",
     "output_type": "stream",
     "text": [
      "0\n",
      "1\n",
      "1\n",
      "2\n",
      "3\n",
      "5\n",
      "8\n",
      "13\n",
      "21\n",
      "34\n"
     ]
    }
   ],
   "source": [
    "def fibonacci(n):\n",
    "    a, b = 0, 1\n",
    "    count = 0\n",
    "    while count < n:\n",
    "        print(a)\n",
    "        a, b = b, a + b\n",
    "        count += 1\n",
    "\n",
    "fibonacci(10)"
   ]
  },
  {
   "cell_type": "markdown",
   "id": "24392a90-acd4-4fa8-babb-8d64a5b207b5",
   "metadata": {},
   "source": [
    "Q7. Write a List Comprehension to iterate through the given string: ‘pwskills’.\n",
    "Expected output: ['p', 'w', 's', 'k', 'i', 'l', 'l', 's']"
   ]
  },
  {
   "cell_type": "code",
   "execution_count": 21,
   "id": "4e951d58-5eb7-4a7c-92d4-f470c137afab",
   "metadata": {},
   "outputs": [
    {
     "name": "stdout",
     "output_type": "stream",
     "text": [
      "['p', 'w', 's', 'k', 'i', 'l', 'l', 's']\n"
     ]
    }
   ],
   "source": [
    "string = 'pwskills'\n",
    "result = [i for i in string]\n",
    "print(result)"
   ]
  },
  {
   "cell_type": "markdown",
   "id": "9ae4e941-9b7a-4c63-b8a6-56077e6732bf",
   "metadata": {},
   "source": [
    "Q8. Write a python program to check whether a given number is Palindrome or not using a while loop."
   ]
  },
  {
   "cell_type": "code",
   "execution_count": 24,
   "id": "5628a6ca-2de8-4410-be00-866e8accee72",
   "metadata": {},
   "outputs": [
    {
     "name": "stdin",
     "output_type": "stream",
     "text": [
      "Please give a number :  22\n"
     ]
    },
    {
     "name": "stdout",
     "output_type": "stream",
     "text": [
      "Given number is a palindrome\n"
     ]
    }
   ],
   "source": [
    "n = int(input(\"Please give a number : \"))\n",
    "def reverse(num):\n",
    "    if num<10:\n",
    "        return num   \n",
    "    else:\n",
    "        return int(str(num%10) + str(reverse(num//10)))\n",
    "def isPalindrome(num):\n",
    "    if num == reverse(num):\n",
    "        return 1\n",
    "    return 0\n",
    "if isPalindrome(n) == 1:\n",
    "    print(\"Given number is a palindrome\")\n",
    "else:\n",
    "    print(\"Given number is a not palindrome\") \n"
   ]
  },
  {
   "cell_type": "markdown",
   "id": "e247bbef-caf6-41e6-a61f-bc6c33d532fb",
   "metadata": {},
   "source": [
    "Q9. Write a code to print odd numbers from 1 to 100 using list comprehension.\n",
    "\n",
    "Note: Use a list comprehension to create a list from 1 to 100 and use another List comprehension to filter\n",
    "out odd numbers."
   ]
  },
  {
   "cell_type": "code",
   "execution_count": 31,
   "id": "4a66556f-80ba-4d32-b506-d5432e9299e2",
   "metadata": {},
   "outputs": [],
   "source": [
    "# Using list comprehension to create a list from 1 to 100\n",
    "numbers = [num for num in range(1, 101)]"
   ]
  },
  {
   "cell_type": "code",
   "execution_count": 32,
   "id": "3e65b179-2822-48ed-9f3e-aa8dde659373",
   "metadata": {},
   "outputs": [],
   "source": [
    "# Using another list comprehension to filter out odd numbers\n",
    "odd_numbers = [num for num in numbers if num % 2 != 0]"
   ]
  },
  {
   "cell_type": "code",
   "execution_count": 33,
   "id": "14ee2264-fe14-409a-9182-b4c25b53ec1b",
   "metadata": {},
   "outputs": [
    {
     "name": "stdout",
     "output_type": "stream",
     "text": [
      "[1, 3, 5, 7, 9, 11, 13, 15, 17, 19, 21, 23, 25, 27, 29, 31, 33, 35, 37, 39, 41, 43, 45, 47, 49, 51, 53, 55, 57, 59, 61, 63, 65, 67, 69, 71, 73, 75, 77, 79, 81, 83, 85, 87, 89, 91, 93, 95, 97, 99]\n"
     ]
    }
   ],
   "source": [
    "# Printing the list of odd numbers\n",
    "print(odd_numbers)"
   ]
  },
  {
   "cell_type": "code",
   "execution_count": null,
   "id": "ef143866-b934-471a-8e40-9ce17de37ec7",
   "metadata": {},
   "outputs": [],
   "source": []
  }
 ],
 "metadata": {
  "kernelspec": {
   "display_name": "Python 3 (ipykernel)",
   "language": "python",
   "name": "python3"
  },
  "language_info": {
   "codemirror_mode": {
    "name": "ipython",
    "version": 3
   },
   "file_extension": ".py",
   "mimetype": "text/x-python",
   "name": "python",
   "nbconvert_exporter": "python",
   "pygments_lexer": "ipython3",
   "version": "3.10.8"
  }
 },
 "nbformat": 4,
 "nbformat_minor": 5
}
