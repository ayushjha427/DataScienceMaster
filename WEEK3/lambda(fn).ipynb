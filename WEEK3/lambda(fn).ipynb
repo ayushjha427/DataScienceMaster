{
 "cells": [
  {
   "cell_type": "code",
   "execution_count": 1,
   "id": "1231dd52-8ffa-4286-96dc-07dfa9b2d1f3",
   "metadata": {},
   "outputs": [],
   "source": [
    "n=3\n",
    "p=2"
   ]
  },
  {
   "cell_type": "code",
   "execution_count": 2,
   "id": "787169a1-65d3-4dd5-a3bc-2a32e36e2578",
   "metadata": {},
   "outputs": [
    {
     "data": {
      "text/plain": [
       "9"
      ]
     },
     "execution_count": 2,
     "metadata": {},
     "output_type": "execute_result"
    }
   ],
   "source": [
    "def test(n,p):\n",
    "    return n**p\n",
    "test(3,2)\n",
    "   "
   ]
  },
  {
   "cell_type": "code",
   "execution_count": 4,
   "id": "eaea07a8-a78b-4b78-b828-be7e2924ae3f",
   "metadata": {},
   "outputs": [],
   "source": [
    "a= lambda n, p:n**p #lamda function  this is initiliza with lamda"
   ]
  },
  {
   "cell_type": "code",
   "execution_count": 5,
   "id": "890854da-aea1-4893-9ae6-955269a5c60f",
   "metadata": {},
   "outputs": [
    {
     "data": {
      "text/plain": [
       "9"
      ]
     },
     "execution_count": 5,
     "metadata": {},
     "output_type": "execute_result"
    }
   ],
   "source": [
    "a(3,2)"
   ]
  },
  {
   "cell_type": "code",
   "execution_count": 10,
   "id": "99c52f45-c693-44fc-8ed5-2aeb10603c9b",
   "metadata": {},
   "outputs": [
    {
     "data": {
      "text/plain": [
       "9"
      ]
     },
     "execution_count": 10,
     "metadata": {},
     "output_type": "execute_result"
    }
   ],
   "source": [
    "add = lambda x,y :x+y\n",
    "add(4,5)"
   ]
  },
  {
   "cell_type": "code",
   "execution_count": 9,
   "id": "7ab09dfa-e74f-4922-82c7-ca668a16a069",
   "metadata": {},
   "outputs": [
    {
     "data": {
      "text/plain": [
       "113.0"
      ]
     },
     "execution_count": 9,
     "metadata": {},
     "output_type": "execute_result"
    }
   ],
   "source": [
    "c_to_f = lambda c : (9/5)*c + 32\n",
    "c_to_f(45)"
   ]
  },
  {
   "cell_type": "code",
   "execution_count": 13,
   "id": "c15da8d4-94a2-4a27-a331-bbf0e9a956ea",
   "metadata": {},
   "outputs": [
    {
     "data": {
      "text/plain": [
       "34"
      ]
     },
     "execution_count": 13,
     "metadata": {},
     "output_type": "execute_result"
    }
   ],
   "source": [
    "findingmax = lambda x,y : x if x>y else y\n",
    "findingmax (34,22)"
   ]
  },
  {
   "cell_type": "code",
   "execution_count": 14,
   "id": "cce363e6-42cc-4fee-910e-11a3cdf7e704",
   "metadata": {},
   "outputs": [
    {
     "data": {
      "text/plain": [
       "15"
      ]
     },
     "execution_count": 14,
     "metadata": {},
     "output_type": "execute_result"
    }
   ],
   "source": [
    "c = \"ayush kumar jha\"\n",
    "find_len = lambda c : len(c)\n",
    "find_len(c)"
   ]
  },
  {
   "cell_type": "code",
   "execution_count": 15,
   "id": "c2b02fc5-eec1-4a94-9115-943f2508620a",
   "metadata": {},
   "outputs": [],
   "source": [
    "# lamda is basically a anonymous function\n",
    "#because here not any name of the function"
   ]
  },
  {
   "cell_type": "code",
   "execution_count": null,
   "id": "20d9f86f-7236-4da1-a4fa-295108b3df94",
   "metadata": {},
   "outputs": [],
   "source": []
  }
 ],
 "metadata": {
  "kernelspec": {
   "display_name": "Python 3 (ipykernel)",
   "language": "python",
   "name": "python3"
  },
  "language_info": {
   "codemirror_mode": {
    "name": "ipython",
    "version": 3
   },
   "file_extension": ".py",
   "mimetype": "text/x-python",
   "name": "python",
   "nbconvert_exporter": "python",
   "pygments_lexer": "ipython3",
   "version": "3.10.8"
  }
 },
 "nbformat": 4,
 "nbformat_minor": 5
}
