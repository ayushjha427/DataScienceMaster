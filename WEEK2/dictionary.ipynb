{
 "cells": [
  {
   "cell_type": "code",
   "execution_count": 1,
   "id": "b5eb74d9-cffa-4801-8819-3a0c3938f915",
   "metadata": {},
   "outputs": [],
   "source": [
    "d={}#curly braces use for dictionary"
   ]
  },
  {
   "cell_type": "code",
   "execution_count": 2,
   "id": "cbec4dfa-c600-407f-a270-2c8e407cf0a3",
   "metadata": {},
   "outputs": [
    {
     "data": {
      "text/plain": [
       "dict"
      ]
     },
     "execution_count": 2,
     "metadata": {},
     "output_type": "execute_result"
    }
   ],
   "source": [
    "type(d)"
   ]
  },
  {
   "cell_type": "code",
   "execution_count": 3,
   "id": "33a5cc40-a457-442a-aacf-df7705c6a0c9",
   "metadata": {},
   "outputs": [],
   "source": [
    "d1={'key' :\"ayush\"} #key is unique entity"
   ]
  },
  {
   "cell_type": "code",
   "execution_count": 4,
   "id": "377c36de-de63-4fb9-856d-798ffe6af74c",
   "metadata": {},
   "outputs": [
    {
     "data": {
      "text/plain": [
       "{'key': 'ayush'}"
      ]
     },
     "execution_count": 4,
     "metadata": {},
     "output_type": "execute_result"
    }
   ],
   "source": [
    "d1"
   ]
  },
  {
   "cell_type": "code",
   "execution_count": 5,
   "id": "5e585550-2ab3-4cd6-be10-7c6cc73fac8e",
   "metadata": {},
   "outputs": [],
   "source": [
    "d2={'name' :\"ayush\",\"email\":\"ayushjha427@gmail.com\",\"course\":\"btech\",\"phno\":119283}"
   ]
  },
  {
   "cell_type": "code",
   "execution_count": 6,
   "id": "6c47a161-a7ec-4838-9cf4-bc04d41c226b",
   "metadata": {},
   "outputs": [
    {
     "data": {
      "text/plain": [
       "{'name': 'ayush',\n",
       " 'email': 'ayushjha427@gmail.com',\n",
       " 'course': 'btech',\n",
       " 'phno': 119283}"
      ]
     },
     "execution_count": 6,
     "metadata": {},
     "output_type": "execute_result"
    }
   ],
   "source": [
    "d2"
   ]
  },
  {
   "cell_type": "code",
   "execution_count": 7,
   "id": "49d63e71-cfbb-4fbc-a958-bcace90d4657",
   "metadata": {},
   "outputs": [
    {
     "ename": "SyntaxError",
     "evalue": "invalid syntax (3704458066.py, line 1)",
     "output_type": "error",
     "traceback": [
      "\u001b[0;36m  Cell \u001b[0;32mIn[7], line 1\u001b[0;36m\u001b[0m\n\u001b[0;31m    d3={234:\"ayush\",@we:\"kumar\"}\u001b[0m\n\u001b[0m                    ^\u001b[0m\n\u001b[0;31mSyntaxError\u001b[0m\u001b[0;31m:\u001b[0m invalid syntax\n"
     ]
    }
   ],
   "source": [
    "d3={234:\"ayush\",@we:\"kumar\"}"
   ]
  },
  {
   "cell_type": "code",
   "execution_count": 8,
   "id": "27e2c237-7147-4725-a354-4ff126166b48",
   "metadata": {},
   "outputs": [],
   "source": [
    "d3={234:\"ayush\",'@we':\"kumar\"} #key should be in string or integer if you use soecial symbols then use in as a string\n",
    "#allowed string,integer,and boolean value."
   ]
  },
  {
   "cell_type": "code",
   "execution_count": 9,
   "id": "c97b32fb-8cc3-44e4-83b4-d76858dd2589",
   "metadata": {},
   "outputs": [
    {
     "data": {
      "text/plain": [
       "{234: 'ayush', '@we': 'kumar'}"
      ]
     },
     "execution_count": 9,
     "metadata": {},
     "output_type": "execute_result"
    }
   ],
   "source": [
    "d3 "
   ]
  },
  {
   "cell_type": "code",
   "execution_count": 10,
   "id": "64c3e77c-df7e-435e-b74a-7b31274bf231",
   "metadata": {},
   "outputs": [],
   "source": [
    "#here not a indexing concept here we use key concept for getting values "
   ]
  },
  {
   "cell_type": "code",
   "execution_count": 11,
   "id": "4fbf5e4f-ed0d-4db3-ac0a-3043fbd57ba1",
   "metadata": {},
   "outputs": [
    {
     "data": {
      "text/plain": [
       "'ayush'"
      ]
     },
     "execution_count": 11,
     "metadata": {},
     "output_type": "execute_result"
    }
   ],
   "source": [
    "d3[234]"
   ]
  },
  {
   "cell_type": "code",
   "execution_count": 12,
   "id": "92c11a69-34c2-4f42-8a35-d54c3667eec1",
   "metadata": {},
   "outputs": [
    {
     "ename": "KeyError",
     "evalue": "'ayush'",
     "output_type": "error",
     "traceback": [
      "\u001b[0;31m---------------------------------------------------------------------------\u001b[0m",
      "\u001b[0;31mKeyError\u001b[0m                                  Traceback (most recent call last)",
      "Cell \u001b[0;32mIn[12], line 1\u001b[0m\n\u001b[0;32m----> 1\u001b[0m \u001b[43md3\u001b[49m\u001b[43m[\u001b[49m\u001b[38;5;124;43m\"\u001b[39;49m\u001b[38;5;124;43mayush\u001b[39;49m\u001b[38;5;124;43m\"\u001b[39;49m\u001b[43m]\u001b[49m\n",
      "\u001b[0;31mKeyError\u001b[0m: 'ayush'"
     ]
    }
   ],
   "source": [
    "d3[\"ayush\"]"
   ]
  },
  {
   "cell_type": "code",
   "execution_count": 13,
   "id": "8420c5a0-a30b-4846-9c64-590aa8c4d4ff",
   "metadata": {},
   "outputs": [
    {
     "ename": "KeyError",
     "evalue": "1",
     "output_type": "error",
     "traceback": [
      "\u001b[0;31m---------------------------------------------------------------------------\u001b[0m",
      "\u001b[0;31mKeyError\u001b[0m                                  Traceback (most recent call last)",
      "Cell \u001b[0;32mIn[13], line 1\u001b[0m\n\u001b[0;32m----> 1\u001b[0m \u001b[43md3\u001b[49m\u001b[43m[\u001b[49m\u001b[38;5;241;43m1\u001b[39;49m\u001b[43m]\u001b[49m \u001b[38;5;66;03m#here not indexing concept\u001b[39;00m\n",
      "\u001b[0;31mKeyError\u001b[0m: 1"
     ]
    }
   ],
   "source": [
    "d3[1] #here not indexing concept"
   ]
  },
  {
   "cell_type": "code",
   "execution_count": 14,
   "id": "def4ef98-5b45-45cf-8d6e-a171a29ecde9",
   "metadata": {},
   "outputs": [],
   "source": [
    "d4={True:\"ayushjha\"}"
   ]
  },
  {
   "cell_type": "code",
   "execution_count": 15,
   "id": "15e8c0ce-fd07-4fa3-9093-7de6772896f7",
   "metadata": {},
   "outputs": [
    {
     "data": {
      "text/plain": [
       "{True: 'ayushjha'}"
      ]
     },
     "execution_count": 15,
     "metadata": {},
     "output_type": "execute_result"
    }
   ],
   "source": [
    "d4"
   ]
  },
  {
   "cell_type": "code",
   "execution_count": 16,
   "id": "ff0bd4ab-e64c-457c-b43d-27749592c2de",
   "metadata": {},
   "outputs": [
    {
     "data": {
      "text/plain": [
       "'ayushjha'"
      ]
     },
     "execution_count": 16,
     "metadata": {},
     "output_type": "execute_result"
    }
   ],
   "source": [
    "d4[1] #here takkign true as a 1"
   ]
  },
  {
   "cell_type": "code",
   "execution_count": 17,
   "id": "abd72655-e032-4491-b79c-d420f84407dc",
   "metadata": {},
   "outputs": [],
   "source": [
    "d5={'name':\"ayush\",'mail_id':\"ayushjha@gmail\",\"name\":\"ayushjha\"}"
   ]
  },
  {
   "cell_type": "code",
   "execution_count": 18,
   "id": "b1b80698-9461-41bb-a9fa-0c7f4709c90f",
   "metadata": {},
   "outputs": [
    {
     "data": {
      "text/plain": [
       "{'name': 'ayushjha', 'mail_id': 'ayushjha@gmail'}"
      ]
     },
     "execution_count": 18,
     "metadata": {},
     "output_type": "execute_result"
    }
   ],
   "source": [
    "d5"
   ]
  },
  {
   "cell_type": "code",
   "execution_count": 19,
   "id": "409a5480-210f-456a-aecb-53534dc3515a",
   "metadata": {},
   "outputs": [
    {
     "data": {
      "text/plain": [
       "'ayushjha'"
      ]
     },
     "execution_count": 19,
     "metadata": {},
     "output_type": "execute_result"
    }
   ],
   "source": [
    "d5['name'] #key should be unique if not then overwrite with last value so last value\"ayushjha\" is output here."
   ]
  },
  {
   "cell_type": "code",
   "execution_count": 20,
   "id": "283857ec-14dd-423a-a6eb-48c3e9c9729c",
   "metadata": {},
   "outputs": [],
   "source": [
    "d6={\"company\":\"pwskills\",\"course\":[\"web dev\",\"data science\",\"java with dsa\"]}"
   ]
  },
  {
   "cell_type": "code",
   "execution_count": 21,
   "id": "e2b10436-a3e0-422d-b8cc-2052a6ae586c",
   "metadata": {},
   "outputs": [
    {
     "data": {
      "text/plain": [
       "{'company': 'pwskills', 'course': ['web dev', 'data science', 'java with dsa']}"
      ]
     },
     "execution_count": 21,
     "metadata": {},
     "output_type": "execute_result"
    }
   ],
   "source": [
    "d6"
   ]
  },
  {
   "cell_type": "code",
   "execution_count": 22,
   "id": "a6084200-ee84-495f-8b91-5c651dab6805",
   "metadata": {},
   "outputs": [
    {
     "data": {
      "text/plain": [
       "['web dev', 'data science', 'java with dsa']"
      ]
     },
     "execution_count": 22,
     "metadata": {},
     "output_type": "execute_result"
    }
   ],
   "source": [
    "d6['course']"
   ]
  },
  {
   "cell_type": "code",
   "execution_count": 23,
   "id": "86ff8683-2d63-4d3b-8c82-f76a41cd07f6",
   "metadata": {},
   "outputs": [
    {
     "data": {
      "text/plain": [
       "'data science'"
      ]
     },
     "execution_count": 23,
     "metadata": {},
     "output_type": "execute_result"
    }
   ],
   "source": [
    "d6['course'][1]"
   ]
  },
  {
   "cell_type": "code",
   "execution_count": 24,
   "id": "b28509a6-e2d9-4e80-afaa-45ac64ad4b0f",
   "metadata": {},
   "outputs": [],
   "source": [
    "d7={\"number\":[2,34,4,11,3,5,9],\"assignments\":(1,2,3,4,5,6),\"launch_date\":{28,12,14},\"class_time\":{\"web_dev\":8,\"data science master\":9,\"java with dsa\":10}}"
   ]
  },
  {
   "cell_type": "code",
   "execution_count": 25,
   "id": "0eb491ec-581b-4ff6-baa3-8fa2d7950660",
   "metadata": {},
   "outputs": [
    {
     "data": {
      "text/plain": [
       "{'number': [2, 34, 4, 11, 3, 5, 9],\n",
       " 'assignments': (1, 2, 3, 4, 5, 6),\n",
       " 'launch_date': {12, 14, 28},\n",
       " 'class_time': {'web_dev': 8, 'data science master': 9, 'java with dsa': 10}}"
      ]
     },
     "execution_count": 25,
     "metadata": {},
     "output_type": "execute_result"
    }
   ],
   "source": [
    "d7"
   ]
  },
  {
   "cell_type": "code",
   "execution_count": 26,
   "id": "0671670a-f1f1-4927-8c3a-e9d10f4343e2",
   "metadata": {},
   "outputs": [],
   "source": [
    "d7={\"number\":[2,34,4,11,3,5,9],\"assignments\":(1,2,3,4,5,6),\"launch_date\":{28,12,14},\"class_time\":{\"web_dev\":8,\"data science master\":9,\"java with dsa\":10}}"
   ]
  },
  {
   "cell_type": "code",
   "execution_count": 27,
   "id": "0cba7123-51d9-4add-81fe-110d15bc6d51",
   "metadata": {},
   "outputs": [
    {
     "data": {
      "text/plain": [
       "{'number': [2, 34, 4, 11, 3, 5, 9],\n",
       " 'assignments': (1, 2, 3, 4, 5, 6),\n",
       " 'launch_date': {12, 14, 28},\n",
       " 'class_time': {'web_dev': 8, 'data science master': 9, 'java with dsa': 10}}"
      ]
     },
     "execution_count": 27,
     "metadata": {},
     "output_type": "execute_result"
    }
   ],
   "source": [
    "d7"
   ]
  },
  {
   "cell_type": "code",
   "execution_count": 28,
   "id": "e55f4600-d5d6-460e-a012-ea9fbaa6124c",
   "metadata": {},
   "outputs": [
    {
     "data": {
      "text/plain": [
       "10"
      ]
     },
     "execution_count": 28,
     "metadata": {},
     "output_type": "execute_result"
    }
   ],
   "source": [
    "d7['class_time']['java with dsa']"
   ]
  },
  {
   "cell_type": "code",
   "execution_count": 29,
   "id": "b574a49f-0275-4b5d-9b2c-c1f756147307",
   "metadata": {},
   "outputs": [],
   "source": [
    "d7['menotr']=[\"sudhansu\",\"krish\",\"anurag\",\"hayder\"] #adding key"
   ]
  },
  {
   "cell_type": "code",
   "execution_count": 30,
   "id": "885eea53-c1bc-4639-aa6c-b85b00066b65",
   "metadata": {},
   "outputs": [
    {
     "data": {
      "text/plain": [
       "{'number': [2, 34, 4, 11, 3, 5, 9],\n",
       " 'assignments': (1, 2, 3, 4, 5, 6),\n",
       " 'launch_date': {12, 14, 28},\n",
       " 'class_time': {'web_dev': 8, 'data science master': 9, 'java with dsa': 10},\n",
       " 'menotr': ['sudhansu', 'krish', 'anurag', 'hayder']}"
      ]
     },
     "execution_count": 30,
     "metadata": {},
     "output_type": "execute_result"
    }
   ],
   "source": [
    "d7 #key added\n",
    "#if key already exist then update the value "
   ]
  },
  {
   "cell_type": "code",
   "execution_count": 31,
   "id": "bc8166cc-d942-424a-b973-c80cfb1be66a",
   "metadata": {},
   "outputs": [],
   "source": [
    "#delte key\n",
    "del d7['number']"
   ]
  },
  {
   "cell_type": "code",
   "execution_count": 32,
   "id": "33bf84e3-6264-4a55-89ae-e1724d1928eb",
   "metadata": {},
   "outputs": [
    {
     "data": {
      "text/plain": [
       "{'assignments': (1, 2, 3, 4, 5, 6),\n",
       " 'launch_date': {12, 14, 28},\n",
       " 'class_time': {'web_dev': 8, 'data science master': 9, 'java with dsa': 10},\n",
       " 'menotr': ['sudhansu', 'krish', 'anurag', 'hayder']}"
      ]
     },
     "execution_count": 32,
     "metadata": {},
     "output_type": "execute_result"
    }
   ],
   "source": [
    "d7"
   ]
  },
  {
   "cell_type": "code",
   "execution_count": 33,
   "id": "2c0d8140-d87e-419d-84d4-9c2f39fdb23f",
   "metadata": {},
   "outputs": [
    {
     "data": {
      "text/plain": [
       "dict_keys(['assignments', 'launch_date', 'class_time', 'menotr'])"
      ]
     },
     "execution_count": 33,
     "metadata": {},
     "output_type": "execute_result"
    }
   ],
   "source": [
    "d7.keys()"
   ]
  },
  {
   "cell_type": "code",
   "execution_count": 34,
   "id": "942cb0ac-fcfb-45a4-a493-1a56d857c919",
   "metadata": {},
   "outputs": [
    {
     "data": {
      "text/plain": [
       "['assignments', 'launch_date', 'class_time', 'menotr']"
      ]
     },
     "execution_count": 34,
     "metadata": {},
     "output_type": "execute_result"
    }
   ],
   "source": [
    "list(d7.keys())"
   ]
  },
  {
   "cell_type": "code",
   "execution_count": 35,
   "id": "3729ed80-a1f7-48a2-9a84-877003528b00",
   "metadata": {},
   "outputs": [
    {
     "data": {
      "text/plain": [
       "dict_items([('assignments', (1, 2, 3, 4, 5, 6)), ('launch_date', {28, 12, 14}), ('class_time', {'web_dev': 8, 'data science master': 9, 'java with dsa': 10}), ('menotr', ['sudhansu', 'krish', 'anurag', 'hayder'])])"
      ]
     },
     "execution_count": 35,
     "metadata": {},
     "output_type": "execute_result"
    }
   ],
   "source": [
    "d7.items()\n",
    "#for pair of key and value"
   ]
  },
  {
   "cell_type": "code",
   "execution_count": 36,
   "id": "07c8bf12-c051-462c-ba01-cdef275758bf",
   "metadata": {},
   "outputs": [
    {
     "data": {
      "text/plain": [
       "[('assignments', (1, 2, 3, 4, 5, 6)),\n",
       " ('launch_date', {12, 14, 28}),\n",
       " ('class_time', {'web_dev': 8, 'data science master': 9, 'java with dsa': 10}),\n",
       " ('menotr', ['sudhansu', 'krish', 'anurag', 'hayder'])]"
      ]
     },
     "execution_count": 36,
     "metadata": {},
     "output_type": "execute_result"
    }
   ],
   "source": [
    "list(d7.items())\n",
    "#converting in lists and getting both keys and values."
   ]
  },
  {
   "cell_type": "code",
   "execution_count": 37,
   "id": "de57d10c-43f0-45e8-91e5-3243a1123520",
   "metadata": {},
   "outputs": [
    {
     "data": {
      "text/plain": [
       "(1, 2, 3, 4, 5, 6)"
      ]
     },
     "execution_count": 37,
     "metadata": {},
     "output_type": "execute_result"
    }
   ],
   "source": [
    "d7.pop('assignments')"
   ]
  },
  {
   "cell_type": "code",
   "execution_count": 38,
   "id": "c80f9d8f-2769-4ebd-aadf-d3de7bd8062e",
   "metadata": {},
   "outputs": [
    {
     "data": {
      "text/plain": [
       "{'launch_date': {12, 14, 28},\n",
       " 'class_time': {'web_dev': 8, 'data science master': 9, 'java with dsa': 10},\n",
       " 'menotr': ['sudhansu', 'krish', 'anurag', 'hayder']}"
      ]
     },
     "execution_count": 38,
     "metadata": {},
     "output_type": "execute_result"
    }
   ],
   "source": [
    "d7"
   ]
  },
  {
   "cell_type": "code",
   "execution_count": 39,
   "id": "e50fdfa6-0fb9-439d-806e-6522dca08d7a",
   "metadata": {},
   "outputs": [
    {
     "ename": "TypeError",
     "evalue": "pop expected at least 1 argument, got 0",
     "output_type": "error",
     "traceback": [
      "\u001b[0;31m---------------------------------------------------------------------------\u001b[0m",
      "\u001b[0;31mTypeError\u001b[0m                                 Traceback (most recent call last)",
      "Cell \u001b[0;32mIn[39], line 1\u001b[0m\n\u001b[0;32m----> 1\u001b[0m \u001b[43md7\u001b[49m\u001b[38;5;241;43m.\u001b[39;49m\u001b[43mpop\u001b[49m\u001b[43m(\u001b[49m\u001b[43m)\u001b[49m \u001b[38;5;66;03m#we need to give values becz dictionary does'nt have indexing concept\u001b[39;00m\n",
      "\u001b[0;31mTypeError\u001b[0m: pop expected at least 1 argument, got 0"
     ]
    }
   ],
   "source": [
    "d7.pop() #we need to give values becz dictionary does'nt have indexing concept"
   ]
  },
  {
   "cell_type": "code",
   "execution_count": 40,
   "id": "28c8d818-c11c-4d6c-9d3b-5fbe8b161ec4",
   "metadata": {},
   "outputs": [],
   "source": [
    "######CONTROL FLOW########OR*****DECISION MAKING CONCEPT #CONDITIONAL STATEMENT"
   ]
  },
  {
   "cell_type": "code",
   "execution_count": 42,
   "id": "36482ec3-326c-4f53-8fac-e409e4de962e",
   "metadata": {},
   "outputs": [
    {
     "name": "stdout",
     "output_type": "stream",
     "text": [
      "you will be a part of A3 batch\n"
     ]
    }
   ],
   "source": [
    "marks=-2\n",
    "if marks >=80 :\n",
    "    print(\"you will be the part of A0 batch\")\n",
    "elif marks>=60 and marks<80 :\n",
    "    print(\"you will be a part of A1 batch\")\n",
    "elif marks>=40 and marks<60 :\n",
    "     print(\"you will be a part ot A2 batch\")\n",
    "else :\n",
    "    print(\"you will be a part of A3 batch\")"
   ]
  },
  {
   "cell_type": "code",
   "execution_count": 47,
   "id": "1de457da-4721-4f16-bc4a-61c47c5b9cc8",
   "metadata": {},
   "outputs": [
    {
     "name": "stdin",
     "output_type": "stream",
     "text": [
      "enter your marks 55\n"
     ]
    },
    {
     "name": "stdout",
     "output_type": "stream",
     "text": [
      "you will be a part ot A2 batch\n"
     ]
    }
   ],
   "source": [
    "marks= int(input(\"enter your marks\")) \n",
    "if marks >=80 :\n",
    "    print(\"you will be the part of A0 batch\")\n",
    "elif marks>=60 and marks<80 :\n",
    "    print(\"you will be a part of A1 batch\")\n",
    "elif marks>=40 and marks<60 :\n",
    "     print(\"you will be a part ot A2 batch\")\n",
    "else :\n",
    "    print(\"you will be a part of A3 batch\")"
   ]
  },
  {
   "cell_type": "code",
   "execution_count": 44,
   "id": "3fe60a37-8ea6-420a-9dba-34b77917dc37",
   "metadata": {},
   "outputs": [
    {
     "name": "stdin",
     "output_type": "stream",
     "text": [
      "enter your marks 45\n"
     ]
    }
   ],
   "source": [
    "marks=input(\"enter your marks\")"
   ]
  },
  {
   "cell_type": "code",
   "execution_count": 45,
   "id": "d46ff948-0c4f-49d8-b43c-328b4564a05a",
   "metadata": {},
   "outputs": [
    {
     "data": {
      "text/plain": [
       "str"
      ]
     },
     "execution_count": 45,
     "metadata": {},
     "output_type": "execute_result"
    }
   ],
   "source": [
    "type(marks)"
   ]
  },
  {
   "cell_type": "code",
   "execution_count": 48,
   "id": "6a4fc6c5-bce2-4dbe-a8b2-1413d535c218",
   "metadata": {},
   "outputs": [
    {
     "name": "stdin",
     "output_type": "stream",
     "text": [
      "enter your marks 99\n"
     ]
    }
   ],
   "source": [
    "marks= int(input(\"enter your marks\")) "
   ]
  },
  {
   "cell_type": "code",
   "execution_count": 50,
   "id": "985f3988-525a-4696-8631-1b90ea4593b6",
   "metadata": {},
   "outputs": [
    {
     "data": {
      "text/plain": [
       "int"
      ]
     },
     "execution_count": 50,
     "metadata": {},
     "output_type": "execute_result"
    }
   ],
   "source": [
    "type(marks) #now marks type is int \n",
    "#becz we typecast in int if not then automatically python takes in string.\n",
    "#so we need to typecast input if we want as a integer."
   ]
  },
  {
   "cell_type": "code",
   "execution_count": 51,
   "id": "d9b00c0c-836b-4847-9755-2d232574613a",
   "metadata": {},
   "outputs": [
    {
     "name": "stdin",
     "output_type": "stream",
     "text": [
      "enter price 344\n"
     ]
    },
    {
     "name": "stdout",
     "output_type": "stream",
     "text": [
      "i will purchase\n"
     ]
    }
   ],
   "source": [
    "price = int(input(\"enter price\"))\n",
    "if price>1000:\n",
    "    print(\"i will not purchase\")\n",
    "else :\n",
    "    print(\"i will purchase\")"
   ]
  },
  {
   "cell_type": "code",
   "execution_count": 56,
   "id": "9f991577-2282-4387-9cc9-cc91ef0f6cd5",
   "metadata": {},
   "outputs": [
    {
     "name": "stdin",
     "output_type": "stream",
     "text": [
      "enter price 2500\n"
     ]
    },
    {
     "name": "stdout",
     "output_type": "stream",
     "text": [
      "i will not purchase\n"
     ]
    }
   ],
   "source": [
    "price = int(input(\"enter price\"))\n",
    "if price>1000:\n",
    "    print(\"i will not purchase\")"
   ]
  },
  {
   "cell_type": "code",
   "execution_count": 60,
   "id": "4bd366dc-11db-4497-b8e5-a0f7bed076a9",
   "metadata": {},
   "outputs": [
    {
     "name": "stdin",
     "output_type": "stream",
     "text": [
      "enter price 2800\n"
     ]
    },
    {
     "name": "stdout",
     "output_type": "stream",
     "text": [
      "i will not purchase\n"
     ]
    }
   ],
   "source": [
    "price = int(input(\"enter price\"))\n",
    "if price>1000:\n",
    "    print(\"i will not purchase\")\n",
    "    if price>5000:\n",
    "        print(\"this is too much\")\n",
    "elif price>2000 :\n",
    "    print(\"not sure \")"
   ]
  },
  {
   "cell_type": "code",
   "execution_count": 1,
   "id": "a9c8cd72-9581-4883-8c40-34fe2d04fa97",
   "metadata": {},
   "outputs": [],
   "source": [
    "l=[1,2,3,4,5,6,7,8]"
   ]
  },
  {
   "cell_type": "code",
   "execution_count": 2,
   "id": "d7d7cdf0-51a8-4a46-8b37-c19c97d4f466",
   "metadata": {},
   "outputs": [
    {
     "data": {
      "text/plain": [
       "2"
      ]
     },
     "execution_count": 2,
     "metadata": {},
     "output_type": "execute_result"
    }
   ],
   "source": [
    "l[0]+1"
   ]
  },
  {
   "cell_type": "code",
   "execution_count": 3,
   "id": "8fb006d6-835c-4f3c-ad5b-896ecc2ab792",
   "metadata": {},
   "outputs": [],
   "source": [
    "l1=[]"
   ]
  },
  {
   "cell_type": "code",
   "execution_count": 4,
   "id": "5a126d12-5120-4cbb-919d-0877778663b9",
   "metadata": {},
   "outputs": [],
   "source": [
    "l1.append(l[0]+1)"
   ]
  },
  {
   "cell_type": "code",
   "execution_count": 5,
   "id": "63aebc68-5acf-4fc4-aedb-943a36dfdd54",
   "metadata": {},
   "outputs": [
    {
     "data": {
      "text/plain": [
       "[2]"
      ]
     },
     "execution_count": 5,
     "metadata": {},
     "output_type": "execute_result"
    }
   ],
   "source": [
    "l1"
   ]
  },
  {
   "cell_type": "code",
   "execution_count": 7,
   "id": "d2575c78-7129-455c-b3db-30452cef4fc8",
   "metadata": {},
   "outputs": [],
   "source": [
    "l=[1,2,3,4,5,6,7,8,9]"
   ]
  },
  {
   "cell_type": "code",
   "execution_count": 8,
   "id": "9d74b075-8597-4610-9a41-7cd770534fde",
   "metadata": {},
   "outputs": [
    {
     "name": "stdout",
     "output_type": "stream",
     "text": [
      "1\n",
      "2\n",
      "3\n",
      "4\n",
      "5\n",
      "6\n",
      "7\n",
      "8\n",
      "9\n"
     ]
    }
   ],
   "source": [
    "for i in l:\n",
    "    print(i)"
   ]
  },
  {
   "cell_type": "code",
   "execution_count": 9,
   "id": "558d26b8-a754-4476-89ef-eac8b2831849",
   "metadata": {},
   "outputs": [
    {
     "name": "stdout",
     "output_type": "stream",
     "text": [
      "[1, 2, 3, 4, 5, 6, 7, 8, 9]\n",
      "[1, 2, 3, 4, 5, 6, 7, 8, 9]\n",
      "[1, 2, 3, 4, 5, 6, 7, 8, 9]\n",
      "[1, 2, 3, 4, 5, 6, 7, 8, 9]\n",
      "[1, 2, 3, 4, 5, 6, 7, 8, 9]\n",
      "[1, 2, 3, 4, 5, 6, 7, 8, 9]\n",
      "[1, 2, 3, 4, 5, 6, 7, 8, 9]\n",
      "[1, 2, 3, 4, 5, 6, 7, 8, 9]\n",
      "[1, 2, 3, 4, 5, 6, 7, 8, 9]\n"
     ]
    }
   ],
   "source": [
    "for i in l:\n",
    "    print(l)"
   ]
  },
  {
   "cell_type": "code",
   "execution_count": 10,
   "id": "ec04d213-53d2-4363-8a19-dd89e0c1752c",
   "metadata": {},
   "outputs": [
    {
     "name": "stdout",
     "output_type": "stream",
     "text": [
      "2\n",
      "3\n",
      "4\n",
      "5\n",
      "6\n",
      "7\n",
      "8\n",
      "9\n",
      "10\n"
     ]
    }
   ],
   "source": [
    "for i in l:\n",
    "    print(i+1)"
   ]
  },
  {
   "cell_type": "code",
   "execution_count": 14,
   "id": "bafa970a-7a98-477b-a6c1-ff11132a0e3d",
   "metadata": {},
   "outputs": [
    {
     "name": "stdout",
     "output_type": "stream",
     "text": [
      "2\n",
      "3\n",
      "4\n",
      "5\n",
      "6\n",
      "7\n",
      "8\n",
      "9\n",
      "10\n"
     ]
    },
    {
     "data": {
      "text/plain": [
       "[2, 3, 4, 5, 6, 7, 8, 9, 10]"
      ]
     },
     "execution_count": 14,
     "metadata": {},
     "output_type": "execute_result"
    }
   ],
   "source": [
    "#now want outcome as a list\n",
    "l1=[]\n",
    "for i in l:\n",
    "    print(i+1)\n",
    "    l1.append(i+1)\n",
    "\n",
    "l1"
   ]
  },
  {
   "cell_type": "code",
   "execution_count": 15,
   "id": "cf659e3e-c285-4f83-9291-3159dd579575",
   "metadata": {},
   "outputs": [],
   "source": [
    "l=[\"ayush\",\"sudh\",\"pwskills\",\"courses\"]"
   ]
  },
  {
   "cell_type": "code",
   "execution_count": 16,
   "id": "87880c22-7e7a-43db-9444-4ac6025a2d09",
   "metadata": {},
   "outputs": [
    {
     "name": "stdout",
     "output_type": "stream",
     "text": [
      "ayush\n",
      "sudh\n",
      "pwskills\n",
      "courses\n"
     ]
    }
   ],
   "source": [
    "l1=[]\n",
    "for i in l:\n",
    "    print(i)\n",
    "    l1.append(i.upper())"
   ]
  },
  {
   "cell_type": "code",
   "execution_count": 17,
   "id": "d428f584-6270-4f9f-bd1c-dc6b66551b25",
   "metadata": {},
   "outputs": [
    {
     "data": {
      "text/plain": [
       "['AYUSH', 'SUDH', 'PWSKILLS', 'COURSES']"
      ]
     },
     "execution_count": 17,
     "metadata": {},
     "output_type": "execute_result"
    }
   ],
   "source": [
    "l1"
   ]
  },
  {
   "cell_type": "code",
   "execution_count": 18,
   "id": "1a429022-8a4e-4fef-ac16-fe1f1634aeee",
   "metadata": {},
   "outputs": [],
   "source": [
    "l=[1,2,3,4,4,\"sudh\",\"ayush\",33.45,\"abc\"]"
   ]
  },
  {
   "cell_type": "code",
   "execution_count": 6,
   "id": "45d6c052-9ae9-47f4-8adc-11ed5dd913dd",
   "metadata": {},
   "outputs": [],
   "source": [
    "l1_int=[]\n",
    "l2_str=[]\n",
    "for i in l:\n",
    "    if type(i) == int or type(i)==float:\n",
    "        l1_int.append(i)\n",
    "else :\n",
    "    l2_str.append(i)\n",
    "    "
   ]
  },
  {
   "cell_type": "code",
   "execution_count": 7,
   "id": "e0ed5565-0a0b-4390-8bd2-6799882f5641",
   "metadata": {},
   "outputs": [
    {
     "data": {
      "text/plain": [
       "[1, 2, 3, 4, 5.5, 44]"
      ]
     },
     "execution_count": 7,
     "metadata": {},
     "output_type": "execute_result"
    }
   ],
   "source": [
    "l1_int"
   ]
  },
  {
   "cell_type": "code",
   "execution_count": 9,
   "id": "bc003d0d-9fbe-4865-b4be-d0ba0d448fed",
   "metadata": {},
   "outputs": [
    {
     "data": {
      "text/plain": [
       "[44]"
      ]
     },
     "execution_count": 9,
     "metadata": {},
     "output_type": "execute_result"
    }
   ],
   "source": [
    "l2_str"
   ]
  },
  {
   "cell_type": "code",
   "execution_count": 1,
   "id": "05cf0ad1-e35b-4141-8e6d-079dc8da7e34",
   "metadata": {},
   "outputs": [],
   "source": [
    "l=[1,2,3,4,5.5,\"ayush\",\"pwskills\",44]"
   ]
  },
  {
   "cell_type": "code",
   "execution_count": 2,
   "id": "69069ec9-7317-45d1-8e1b-ad1c8087f468",
   "metadata": {},
   "outputs": [],
   "source": [
    "l1=[]\n",
    "l2=[]\n",
    "for i in l:\n",
    "    if type(i) == int or type(i) == float:\n",
    "        l1.append(i)\n",
    "else:\n",
    "    l2.append(i)"
   ]
  },
  {
   "cell_type": "code",
   "execution_count": 3,
   "id": "85788bda-06f0-4225-9ad5-e6c633bdcd4b",
   "metadata": {},
   "outputs": [
    {
     "data": {
      "text/plain": [
       "[1, 2, 3, 4, 5.5, 44]"
      ]
     },
     "execution_count": 3,
     "metadata": {},
     "output_type": "execute_result"
    }
   ],
   "source": [
    "l1"
   ]
  },
  {
   "cell_type": "code",
   "execution_count": 5,
   "id": "570f77a7-6afe-4ba1-949a-797c9db92240",
   "metadata": {},
   "outputs": [
    {
     "data": {
      "text/plain": [
       "[44]"
      ]
     },
     "execution_count": 5,
     "metadata": {},
     "output_type": "execute_result"
    }
   ],
   "source": [
    "l2"
   ]
  },
  {
   "cell_type": "code",
   "execution_count": 15,
   "id": "eae11e26-96f7-4201-92ae-bbc9ac98b0b2",
   "metadata": {},
   "outputs": [],
   "source": [
    "l=[1,2,3,4,4, \"sudh\" , \"kumar\" ,324,34.456,\"abc\"]"
   ]
  },
  {
   "cell_type": "code",
   "execution_count": 16,
   "id": "6c35be64-66dd-443f-914c-d23f85196b5b",
   "metadata": {},
   "outputs": [],
   "source": [
    "l1_num =[]\n",
    "l2_str=[]\n",
    "for i in l :\n",
    "    if type(i) == int or type(i) == float :\n",
    "        l1_num.append(i)\n",
    "else :\n",
    "    l2_str.append(i)"
   ]
  },
  {
   "cell_type": "code",
   "execution_count": 17,
   "id": "01089f11-5ae2-4559-8ff1-7c3c5755094d",
   "metadata": {},
   "outputs": [
    {
     "data": {
      "text/plain": [
       "[1, 2, 3, 4, 4, 324, 34.456]"
      ]
     },
     "execution_count": 17,
     "metadata": {},
     "output_type": "execute_result"
    }
   ],
   "source": [
    "l1_num"
   ]
  },
  {
   "cell_type": "code",
   "execution_count": 18,
   "id": "13ce90ed-304f-4d7a-9b54-04a40317ebfe",
   "metadata": {},
   "outputs": [
    {
     "data": {
      "text/plain": [
       "['abc']"
      ]
     },
     "execution_count": 18,
     "metadata": {},
     "output_type": "execute_result"
    }
   ],
   "source": [
    "l2_str"
   ]
  },
  {
   "cell_type": "code",
   "execution_count": 1,
   "id": "19daca5e-2a98-417b-8cb5-125b9bc15f43",
   "metadata": {},
   "outputs": [],
   "source": [
    "l=[1,2,3,4,5.5,\"ayush\",\"pwskills\",44]"
   ]
  },
  {
   "cell_type": "code",
   "execution_count": 16,
   "id": "b7f57d2a-e07a-4df4-b7a8-ae64643bc684",
   "metadata": {},
   "outputs": [],
   "source": [
    "l1=[]\n",
    "l2=[]\n",
    "for i in l :\n",
    "    if type(i) == int or type(i) == float :\n",
    "        l1.append(i)\n",
    "else :\n",
    "    l2.append(i)"
   ]
  },
  {
   "cell_type": "code",
   "execution_count": 17,
   "id": "cc32cefa-de75-4516-ae4f-17114f256738",
   "metadata": {},
   "outputs": [
    {
     "data": {
      "text/plain": [
       "[1, 2, 3, 4, 5.5, 44]"
      ]
     },
     "execution_count": 17,
     "metadata": {},
     "output_type": "execute_result"
    }
   ],
   "source": [
    "l1"
   ]
  },
  {
   "cell_type": "code",
   "execution_count": 18,
   "id": "c9fdadda-7e39-4921-bcef-bcf1f3866dbe",
   "metadata": {},
   "outputs": [
    {
     "data": {
      "text/plain": [
       "[44]"
      ]
     },
     "execution_count": 18,
     "metadata": {},
     "output_type": "execute_result"
    }
   ],
   "source": [
    "l2"
   ]
  },
  {
   "cell_type": "code",
   "execution_count": null,
   "id": "13f07619-906e-4b2c-914f-2a4cbac2aa0a",
   "metadata": {},
   "outputs": [],
   "source": []
  }
 ],
 "metadata": {
  "kernelspec": {
   "display_name": "Python 3 (ipykernel)",
   "language": "python",
   "name": "python3"
  },
  "language_info": {
   "codemirror_mode": {
    "name": "ipython",
    "version": 3
   },
   "file_extension": ".py",
   "mimetype": "text/x-python",
   "name": "python",
   "nbconvert_exporter": "python",
   "pygments_lexer": "ipython3",
   "version": "3.10.8"
  }
 },
 "nbformat": 4,
 "nbformat_minor": 5
}
