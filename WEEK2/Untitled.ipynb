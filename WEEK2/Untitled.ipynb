{
 "cells": [
  {
   "cell_type": "code",
   "execution_count": 1,
   "id": "aacbbc29-dff3-4cee-a04e-d93c3798ffa7",
   "metadata": {},
   "outputs": [],
   "source": [
    "l=[1,2,3,4,4, \"sudh\" , \"kumar\" ,324,34.456,\"abc\"]"
   ]
  },
  {
   "cell_type": "code",
   "execution_count": 2,
   "id": "847a72f2-9b49-44b9-ab36-5f9cfbca8893",
   "metadata": {},
   "outputs": [],
   "source": [
    "l1_num =[]\n",
    "l2=[]\n",
    "for i in l :\n",
    "    if type(i) == int or type(i) == float :\n",
    "        l1_num.append(i)\n",
    "else :\n",
    "    l2.append(i)"
   ]
  },
  {
   "cell_type": "code",
   "execution_count": 3,
   "id": "dd4605de-e60b-4218-892d-58f5bd0cfb3c",
   "metadata": {},
   "outputs": [
    {
     "data": {
      "text/plain": [
       "[1, 2, 3, 4, 4, 324, 34.456]"
      ]
     },
     "execution_count": 3,
     "metadata": {},
     "output_type": "execute_result"
    }
   ],
   "source": [
    "l1_num"
   ]
  },
  {
   "cell_type": "code",
   "execution_count": 4,
   "id": "ecd257a2-2905-47d4-ba3a-e4409d547d68",
   "metadata": {},
   "outputs": [
    {
     "data": {
      "text/plain": [
       "['abc']"
      ]
     },
     "execution_count": 4,
     "metadata": {},
     "output_type": "execute_result"
    }
   ],
   "source": [
    "l2"
   ]
  },
  {
   "cell_type": "code",
   "execution_count": null,
   "id": "f76baf98-2d4a-4dfb-a08a-edc2ab4df0b6",
   "metadata": {},
   "outputs": [],
   "source": []
  },
  {
   "cell_type": "code",
   "execution_count": null,
   "id": "26f7181e-d024-4565-9f49-ac646f9a4398",
   "metadata": {},
   "outputs": [],
   "source": []
  }
 ],
 "metadata": {
  "kernelspec": {
   "display_name": "Python 3 (ipykernel)",
   "language": "python",
   "name": "python3"
  },
  "language_info": {
   "codemirror_mode": {
    "name": "ipython",
    "version": 3
   },
   "file_extension": ".py",
   "mimetype": "text/x-python",
   "name": "python",
   "nbconvert_exporter": "python",
   "pygments_lexer": "ipython3",
   "version": "3.10.8"
  }
 },
 "nbformat": 4,
 "nbformat_minor": 5
}
