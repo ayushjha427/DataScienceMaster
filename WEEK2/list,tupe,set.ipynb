{
 "cells": [
  {
   "cell_type": "code",
   "execution_count": 2,
   "id": "72fc1f65-53cf-4dbf-9bff-bf7337e0dd95",
   "metadata": {},
   "outputs": [],
   "source": [
    "l=[1,234,45,\"sudh\",True,5+7j,554.456] ####LISTS****"
   ]
  },
  {
   "cell_type": "code",
   "execution_count": 3,
   "id": "f933f8db-415e-4813-bec8-1459414c7ad2",
   "metadata": {},
   "outputs": [
    {
     "data": {
      "text/plain": [
       "list"
      ]
     },
     "execution_count": 3,
     "metadata": {},
     "output_type": "execute_result"
    }
   ],
   "source": [
    "type(l)"
   ]
  },
  {
   "cell_type": "code",
   "execution_count": 6,
   "id": "55a762bd-16cb-4cef-917c-1d4592b15953",
   "metadata": {},
   "outputs": [
    {
     "data": {
      "text/plain": [
       "1"
      ]
     },
     "execution_count": 6,
     "metadata": {},
     "output_type": "execute_result"
    }
   ],
   "source": [
    "l[0]"
   ]
  },
  {
   "cell_type": "code",
   "execution_count": 7,
   "id": "24b5df4e-59e0-4fcf-a5b5-7007207c02ef",
   "metadata": {},
   "outputs": [
    {
     "data": {
      "text/plain": [
       "True"
      ]
     },
     "execution_count": 7,
     "metadata": {},
     "output_type": "execute_result"
    }
   ],
   "source": [
    "l[4]"
   ]
  },
  {
   "cell_type": "code",
   "execution_count": 8,
   "id": "8a810424-a7fe-4840-a279-47e20d40e360",
   "metadata": {},
   "outputs": [
    {
     "data": {
      "text/plain": [
       "'sudh'"
      ]
     },
     "execution_count": 8,
     "metadata": {},
     "output_type": "execute_result"
    }
   ],
   "source": [
    "l[3]"
   ]
  },
  {
   "cell_type": "code",
   "execution_count": 10,
   "id": "de72efaf-dc74-496f-99b4-76f5642291bd",
   "metadata": {},
   "outputs": [
    {
     "data": {
      "text/plain": [
       "[1, 234, 45]"
      ]
     },
     "execution_count": 10,
     "metadata": {},
     "output_type": "execute_result"
    }
   ],
   "source": [
    "l[0:3]"
   ]
  },
  {
   "cell_type": "code",
   "execution_count": 13,
   "id": "f8954985-6ff9-4c8d-8d33-0524b20d2f84",
   "metadata": {},
   "outputs": [
    {
     "data": {
      "text/plain": [
       "554.456"
      ]
     },
     "execution_count": 13,
     "metadata": {},
     "output_type": "execute_result"
    }
   ],
   "source": [
    "l[-1]"
   ]
  },
  {
   "cell_type": "code",
   "execution_count": 14,
   "id": "55bd9359-ac16-4d36-81be-0a36068f6710",
   "metadata": {},
   "outputs": [
    {
     "data": {
      "text/plain": [
       "[554.456, (5+7j), True, 'sudh', 45, 234, 1]"
      ]
     },
     "execution_count": 14,
     "metadata": {},
     "output_type": "execute_result"
    }
   ],
   "source": [
    "l[::-1]"
   ]
  },
  {
   "cell_type": "code",
   "execution_count": 15,
   "id": "17692811-b218-492e-81da-b51ee1f74843",
   "metadata": {},
   "outputs": [
    {
     "data": {
      "text/plain": [
       "[1, 45, True, 554.456]"
      ]
     },
     "execution_count": 15,
     "metadata": {},
     "output_type": "execute_result"
    }
   ],
   "source": [
    "l[::2]"
   ]
  },
  {
   "cell_type": "code",
   "execution_count": 16,
   "id": "1cac2b11-a76b-432e-899e-958ab7735405",
   "metadata": {},
   "outputs": [
    {
     "data": {
      "text/plain": [
       "[1, 45, True, 554.456]"
      ]
     },
     "execution_count": 16,
     "metadata": {},
     "output_type": "execute_result"
    }
   ],
   "source": [
    "l[0:7:2]"
   ]
  },
  {
   "cell_type": "code",
   "execution_count": 17,
   "id": "630e578c-2050-4f50-bf5b-b4806d7be59d",
   "metadata": {},
   "outputs": [],
   "source": [
    "s=\"pwskills\""
   ]
  },
  {
   "cell_type": "code",
   "execution_count": 18,
   "id": "789b1e23-e35b-4524-bcd8-76fb83ac9c61",
   "metadata": {},
   "outputs": [
    {
     "ename": "TypeError",
     "evalue": "can only concatenate list (not \"str\") to list",
     "output_type": "error",
     "traceback": [
      "\u001b[0;31m---------------------------------------------------------------------------\u001b[0m",
      "\u001b[0;31mTypeError\u001b[0m                                 Traceback (most recent call last)",
      "Cell \u001b[0;32mIn[18], line 1\u001b[0m\n\u001b[0;32m----> 1\u001b[0m \u001b[43ml\u001b[49m\u001b[38;5;241;43m+\u001b[39;49m\u001b[43ms\u001b[49m\n",
      "\u001b[0;31mTypeError\u001b[0m: can only concatenate list (not \"str\") to list"
     ]
    }
   ],
   "source": [
    "l+s"
   ]
  },
  {
   "cell_type": "code",
   "execution_count": 19,
   "id": "0cd14435-8f16-40a3-87d5-4b757896b708",
   "metadata": {},
   "outputs": [
    {
     "data": {
      "text/plain": [
       "['p', 'w', 's', 'k', 'i', 'l', 'l', 's']"
      ]
     },
     "execution_count": 19,
     "metadata": {},
     "output_type": "execute_result"
    }
   ],
   "source": [
    "list(s) #list use as a function."
   ]
  },
  {
   "cell_type": "code",
   "execution_count": 20,
   "id": "f6efd248-5d8f-4d75-b23a-b9f2247da3b8",
   "metadata": {},
   "outputs": [
    {
     "data": {
      "text/plain": [
       "[1,\n",
       " 234,\n",
       " 45,\n",
       " 'sudh',\n",
       " True,\n",
       " (5+7j),\n",
       " 554.456,\n",
       " 'p',\n",
       " 'w',\n",
       " 's',\n",
       " 'k',\n",
       " 'i',\n",
       " 'l',\n",
       " 'l',\n",
       " 's']"
      ]
     },
     "execution_count": 20,
     "metadata": {},
     "output_type": "execute_result"
    }
   ],
   "source": [
    "l+list(s) # but its destroying string"
   ]
  },
  {
   "cell_type": "code",
   "execution_count": 21,
   "id": "ee3c6ed9-d972-4d51-b3aa-6f42348d4d47",
   "metadata": {},
   "outputs": [
    {
     "data": {
      "text/plain": [
       "[1, 234, 45, 'sudh', True, (5+7j), 554.456]"
      ]
     },
     "execution_count": 21,
     "metadata": {},
     "output_type": "execute_result"
    }
   ],
   "source": [
    "l"
   ]
  },
  {
   "cell_type": "code",
   "execution_count": 22,
   "id": "c6f24b99-597b-4815-acc7-f52cf036418f",
   "metadata": {},
   "outputs": [
    {
     "data": {
      "text/plain": [
       "'sudh'"
      ]
     },
     "execution_count": 22,
     "metadata": {},
     "output_type": "execute_result"
    }
   ],
   "source": [
    "l[3]"
   ]
  },
  {
   "cell_type": "code",
   "execution_count": 24,
   "id": "49a80119-7047-402d-8b94-a94d46d85743",
   "metadata": {},
   "outputs": [
    {
     "data": {
      "text/plain": [
       "str"
      ]
     },
     "execution_count": 24,
     "metadata": {},
     "output_type": "execute_result"
    }
   ],
   "source": [
    "type(l[3])\n"
   ]
  },
  {
   "cell_type": "code",
   "execution_count": 25,
   "id": "34944881-287b-4b0b-a6a0-6433581b0a0d",
   "metadata": {},
   "outputs": [
    {
     "data": {
      "text/plain": [
       "'su'"
      ]
     },
     "execution_count": 25,
     "metadata": {},
     "output_type": "execute_result"
    }
   ],
   "source": [
    "l[3][0:2] "
   ]
  },
  {
   "cell_type": "code",
   "execution_count": 26,
   "id": "d69b6add-435c-4913-bf7c-12fc7d0b42ed",
   "metadata": {},
   "outputs": [
    {
     "data": {
      "text/plain": [
       "True"
      ]
     },
     "execution_count": 26,
     "metadata": {},
     "output_type": "execute_result"
    }
   ],
   "source": [
    "l[4]"
   ]
  },
  {
   "cell_type": "code",
   "execution_count": 27,
   "id": "661afbe3-9fed-495b-a96f-f72943c5da54",
   "metadata": {},
   "outputs": [
    {
     "data": {
      "text/plain": [
       "'True'"
      ]
     },
     "execution_count": 27,
     "metadata": {},
     "output_type": "execute_result"
    }
   ],
   "source": [
    "str(l[4]) #converrt boolean to string"
   ]
  },
  {
   "cell_type": "code",
   "execution_count": 29,
   "id": "6f9c3e11-6e01-4760-95ce-bb42374143bf",
   "metadata": {},
   "outputs": [
    {
     "data": {
      "text/plain": [
       "'Tr'"
      ]
     },
     "execution_count": 29,
     "metadata": {},
     "output_type": "execute_result"
    }
   ],
   "source": [
    "#now finiding tr\n",
    "str(l[4])[0:2]"
   ]
  },
  {
   "cell_type": "code",
   "execution_count": 4,
   "id": "97af5b59-bceb-4ce2-bd6c-1322604560f1",
   "metadata": {},
   "outputs": [],
   "source": [
    "l=[1,234,45,\"sudh\",True,5+7j,554.456]"
   ]
  },
  {
   "cell_type": "code",
   "execution_count": 5,
   "id": "e9cc3361-a780-4f2f-b141-3ac3ddf8488e",
   "metadata": {},
   "outputs": [],
   "source": [
    "l1=[3,4,5]"
   ]
  },
  {
   "cell_type": "code",
   "execution_count": 6,
   "id": "d89a5580-742f-46bd-9ace-878a7499049a",
   "metadata": {},
   "outputs": [
    {
     "data": {
      "text/plain": [
       "[1, 234, 45, 'sudh', True, (5+7j), 554.456, 3, 4, 5]"
      ]
     },
     "execution_count": 6,
     "metadata": {},
     "output_type": "execute_result"
    }
   ],
   "source": [
    "l+l1"
   ]
  },
  {
   "cell_type": "code",
   "execution_count": 7,
   "id": "565131dc-3d50-49e1-94fd-4dc781313b5d",
   "metadata": {},
   "outputs": [
    {
     "data": {
      "text/plain": [
       "[3, 4, 5, 3, 4, 5]"
      ]
     },
     "execution_count": 7,
     "metadata": {},
     "output_type": "execute_result"
    }
   ],
   "source": [
    "l1 *2"
   ]
  },
  {
   "cell_type": "code",
   "execution_count": 8,
   "id": "6f27aa1f-f5f6-44ac-8a7b-6ebd172705aa",
   "metadata": {},
   "outputs": [
    {
     "data": {
      "text/plain": [
       "[1, 234, 45, 'sudh', True, (5+7j), 554.456]"
      ]
     },
     "execution_count": 8,
     "metadata": {},
     "output_type": "execute_result"
    }
   ],
   "source": [
    "l"
   ]
  },
  {
   "cell_type": "code",
   "execution_count": 9,
   "id": "a849b9d2-80eb-4c5c-b844-3130f417ef8b",
   "metadata": {},
   "outputs": [
    {
     "data": {
      "text/plain": [
       "7"
      ]
     },
     "execution_count": 9,
     "metadata": {},
     "output_type": "execute_result"
    }
   ],
   "source": [
    "len(l)"
   ]
  },
  {
   "cell_type": "code",
   "execution_count": 14,
   "id": "3e44f73a-0634-491f-b7dc-6a8a57b4d0ba",
   "metadata": {},
   "outputs": [
    {
     "data": {
      "text/plain": [
       "[1, 234, 45, 'sudh', True, (5+7j), 554.456, 5, 5]"
      ]
     },
     "execution_count": 14,
     "metadata": {},
     "output_type": "execute_result"
    }
   ],
   "source": [
    "l"
   ]
  },
  {
   "cell_type": "code",
   "execution_count": 15,
   "id": "e8f28fe9-b378-4347-9239-fa4f043a7555",
   "metadata": {},
   "outputs": [],
   "source": [
    "l.append(4) # append use for passing data in list"
   ]
  },
  {
   "cell_type": "code",
   "execution_count": 16,
   "id": "bdb9f668-0d03-4205-b297-fcd277a2a122",
   "metadata": {},
   "outputs": [
    {
     "data": {
      "text/plain": [
       "[1, 234, 45, 'sudh', True, (5+7j), 554.456, 5, 5, 4]"
      ]
     },
     "execution_count": 16,
     "metadata": {},
     "output_type": "execute_result"
    }
   ],
   "source": [
    "l"
   ]
  },
  {
   "cell_type": "code",
   "execution_count": 17,
   "id": "163c4dde-e450-408b-ac81-fc6e16bc4a4b",
   "metadata": {},
   "outputs": [],
   "source": [
    "l.append(l1) #nestes list\n",
    "#list inside list"
   ]
  },
  {
   "cell_type": "code",
   "execution_count": 18,
   "id": "2ee06f46-98df-44ab-86cf-34a966201ada",
   "metadata": {},
   "outputs": [
    {
     "data": {
      "text/plain": [
       "[1, 234, 45, 'sudh', True, (5+7j), 554.456, 5, 5, 4, [3, 4, 5]]"
      ]
     },
     "execution_count": 18,
     "metadata": {},
     "output_type": "execute_result"
    }
   ],
   "source": [
    "l"
   ]
  },
  {
   "cell_type": "code",
   "execution_count": 19,
   "id": "4ff9381e-e344-4254-90fe-47ce12b02b66",
   "metadata": {},
   "outputs": [
    {
     "data": {
      "text/plain": [
       "[3, 4, 5]"
      ]
     },
     "execution_count": 19,
     "metadata": {},
     "output_type": "execute_result"
    }
   ],
   "source": [
    "l[-1]"
   ]
  },
  {
   "cell_type": "code",
   "execution_count": 20,
   "id": "04265aed-b5a5-46f9-aeb1-b16ef2e357a9",
   "metadata": {},
   "outputs": [
    {
     "data": {
      "text/plain": [
       "4"
      ]
     },
     "execution_count": 20,
     "metadata": {},
     "output_type": "execute_result"
    }
   ],
   "source": [
    "l[-1][1] # 1 use for finding index inside -1 list"
   ]
  },
  {
   "cell_type": "code",
   "execution_count": 21,
   "id": "371d4a65-0b8e-40b9-83fa-53f35ea0ee21",
   "metadata": {},
   "outputs": [
    {
     "data": {
      "text/plain": [
       "3"
      ]
     },
     "execution_count": 21,
     "metadata": {},
     "output_type": "execute_result"
    }
   ],
   "source": [
    "l[-1][0]"
   ]
  },
  {
   "cell_type": "code",
   "execution_count": 22,
   "id": "23f3a6ff-c52e-45f3-9ff8-71788d7237e3",
   "metadata": {},
   "outputs": [
    {
     "ename": "TypeError",
     "evalue": "'int' object is not iterable",
     "output_type": "error",
     "traceback": [
      "\u001b[0;31m---------------------------------------------------------------------------\u001b[0m",
      "\u001b[0;31mTypeError\u001b[0m                                 Traceback (most recent call last)",
      "Cell \u001b[0;32mIn[22], line 1\u001b[0m\n\u001b[0;32m----> 1\u001b[0m \u001b[43ml\u001b[49m\u001b[38;5;241;43m.\u001b[39;49m\u001b[43mextend\u001b[49m\u001b[43m(\u001b[49m\u001b[38;5;241;43m4\u001b[39;49m\u001b[43m)\u001b[49m\n",
      "\u001b[0;31mTypeError\u001b[0m: 'int' object is not iterable"
     ]
    }
   ],
   "source": [
    "l.extend(4)"
   ]
  },
  {
   "cell_type": "code",
   "execution_count": 24,
   "id": "a32702c2-19fe-4924-8385-8c1021f565a9",
   "metadata": {},
   "outputs": [],
   "source": [
    "l.extend(\"ayush\") # use for string"
   ]
  },
  {
   "cell_type": "code",
   "execution_count": 25,
   "id": "8ebaee7c-0c1c-4a83-9c4a-1a5e86ef3620",
   "metadata": {},
   "outputs": [
    {
     "data": {
      "text/plain": [
       "[1,\n",
       " 234,\n",
       " 45,\n",
       " 'sudh',\n",
       " True,\n",
       " (5+7j),\n",
       " 554.456,\n",
       " 5,\n",
       " 5,\n",
       " 4,\n",
       " [3, 4, 5],\n",
       " 'a',\n",
       " 'y',\n",
       " 'u',\n",
       " 's',\n",
       " 'h']"
      ]
     },
     "execution_count": 25,
     "metadata": {},
     "output_type": "execute_result"
    }
   ],
   "source": [
    "l"
   ]
  },
  {
   "cell_type": "code",
   "execution_count": 26,
   "id": "fec19f29-52b2-4775-9745-ce4b8894f51c",
   "metadata": {},
   "outputs": [],
   "source": [
    "l.extend([3,4,5])"
   ]
  },
  {
   "cell_type": "code",
   "execution_count": 27,
   "id": "9a9872d7-787d-429a-97c3-20c131cea073",
   "metadata": {},
   "outputs": [
    {
     "data": {
      "text/plain": [
       "[1,\n",
       " 234,\n",
       " 45,\n",
       " 'sudh',\n",
       " True,\n",
       " (5+7j),\n",
       " 554.456,\n",
       " 5,\n",
       " 5,\n",
       " 4,\n",
       " [3, 4, 5],\n",
       " 'a',\n",
       " 'y',\n",
       " 'u',\n",
       " 's',\n",
       " 'h',\n",
       " 3,\n",
       " 4,\n",
       " 5]"
      ]
     },
     "execution_count": 27,
     "metadata": {},
     "output_type": "execute_result"
    }
   ],
   "source": [
    "l"
   ]
  },
  {
   "cell_type": "code",
   "execution_count": 28,
   "id": "35590e05-ceeb-4406-82cb-85faf9b60ac3",
   "metadata": {},
   "outputs": [],
   "source": [
    "l1.insert(1,\"ayushjha\")"
   ]
  },
  {
   "cell_type": "code",
   "execution_count": 29,
   "id": "6e9e4525-f190-47ef-b9d8-c321b574e18b",
   "metadata": {},
   "outputs": [
    {
     "data": {
      "text/plain": [
       "[3, 'ayushjha', 4, 5]"
      ]
     },
     "execution_count": 29,
     "metadata": {},
     "output_type": "execute_result"
    }
   ],
   "source": [
    "l1"
   ]
  },
  {
   "cell_type": "code",
   "execution_count": 30,
   "id": "40d0f03d-ead2-437e-af2f-4ad9039fbe85",
   "metadata": {},
   "outputs": [],
   "source": [
    "l1.insert(0,\"pwskills\")"
   ]
  },
  {
   "cell_type": "code",
   "execution_count": 31,
   "id": "e43a6fc4-649e-4568-8ef4-fe208ee2cd9a",
   "metadata": {},
   "outputs": [
    {
     "data": {
      "text/plain": [
       "['pwskills', 3, 'ayushjha', 4, 5]"
      ]
     },
     "execution_count": 31,
     "metadata": {},
     "output_type": "execute_result"
    }
   ],
   "source": [
    "l1\n"
   ]
  },
  {
   "cell_type": "code",
   "execution_count": 32,
   "id": "3ddf5999-d750-4104-a352-c5f61fb913f9",
   "metadata": {},
   "outputs": [],
   "source": [
    "l1.insert(2,[2,3,4])"
   ]
  },
  {
   "cell_type": "code",
   "execution_count": 33,
   "id": "17a8719b-f625-4511-b45d-6c7b26eb4016",
   "metadata": {},
   "outputs": [
    {
     "data": {
      "text/plain": [
       "['pwskills', 3, [2, 3, 4], 'ayushjha', 4, 5]"
      ]
     },
     "execution_count": 33,
     "metadata": {},
     "output_type": "execute_result"
    }
   ],
   "source": [
    "l1"
   ]
  },
  {
   "cell_type": "code",
   "execution_count": 34,
   "id": "730d1c5c-f032-4519-8b48-3c688b28a701",
   "metadata": {},
   "outputs": [],
   "source": [
    "l1.insert(-1,45)"
   ]
  },
  {
   "cell_type": "code",
   "execution_count": 35,
   "id": "a3914d07-aa44-4e7c-958d-86c3d6f73da8",
   "metadata": {},
   "outputs": [
    {
     "data": {
      "text/plain": [
       "['pwskills', 3, [2, 3, 4], 'ayushjha', 4, 45, 5]"
      ]
     },
     "execution_count": 35,
     "metadata": {},
     "output_type": "execute_result"
    }
   ],
   "source": [
    "l1 #45 moved same place -1 and 5 pushed so that 5 is at last possition"
   ]
  },
  {
   "cell_type": "code",
   "execution_count": 36,
   "id": "3650beb5-8552-468f-9aae-f35034c7334f",
   "metadata": {},
   "outputs": [],
   "source": [
    "#deleting data"
   ]
  },
  {
   "cell_type": "code",
   "execution_count": 37,
   "id": "194d09d0-4486-4e13-8818-6f46ff34a96a",
   "metadata": {},
   "outputs": [
    {
     "data": {
      "text/plain": [
       "5"
      ]
     },
     "execution_count": 37,
     "metadata": {},
     "output_type": "execute_result"
    }
   ],
   "source": [
    "l1.pop()"
   ]
  },
  {
   "cell_type": "code",
   "execution_count": 38,
   "id": "f24bc88c-395b-428c-be53-ad841d5d25c9",
   "metadata": {},
   "outputs": [
    {
     "data": {
      "text/plain": [
       "['pwskills', 3, [2, 3, 4], 'ayushjha', 4, 45]"
      ]
     },
     "execution_count": 38,
     "metadata": {},
     "output_type": "execute_result"
    }
   ],
   "source": [
    "l1"
   ]
  },
  {
   "cell_type": "code",
   "execution_count": 39,
   "id": "7476eea4-122a-40fd-96f2-6f3eff12c17a",
   "metadata": {},
   "outputs": [
    {
     "data": {
      "text/plain": [
       "45"
      ]
     },
     "execution_count": 39,
     "metadata": {},
     "output_type": "execute_result"
    }
   ],
   "source": [
    "l1.pop()"
   ]
  },
  {
   "cell_type": "code",
   "execution_count": 40,
   "id": "cf651190-a941-407f-82c9-1d67aeb0ea68",
   "metadata": {},
   "outputs": [
    {
     "data": {
      "text/plain": [
       "['pwskills', 3, [2, 3, 4], 'ayushjha', 4]"
      ]
     },
     "execution_count": 40,
     "metadata": {},
     "output_type": "execute_result"
    }
   ],
   "source": [
    "l1"
   ]
  },
  {
   "cell_type": "code",
   "execution_count": 41,
   "id": "3d9d238f-f7cf-42f3-9f75-fa51e8fff82a",
   "metadata": {},
   "outputs": [
    {
     "data": {
      "text/plain": [
       "4"
      ]
     },
     "execution_count": 41,
     "metadata": {},
     "output_type": "execute_result"
    }
   ],
   "source": [
    "l1.pop()"
   ]
  },
  {
   "cell_type": "code",
   "execution_count": 42,
   "id": "e8d377d9-6767-4331-8b26-22e9bc82e1c5",
   "metadata": {},
   "outputs": [
    {
     "data": {
      "text/plain": [
       "['pwskills', 3, [2, 3, 4], 'ayushjha']"
      ]
     },
     "execution_count": 42,
     "metadata": {},
     "output_type": "execute_result"
    }
   ],
   "source": [
    "l1"
   ]
  },
  {
   "cell_type": "code",
   "execution_count": 43,
   "id": "2a96a7cd-e503-45d7-bfa6-beb1235ce79b",
   "metadata": {},
   "outputs": [
    {
     "data": {
      "text/plain": [
       "'ayushjha'"
      ]
     },
     "execution_count": 43,
     "metadata": {},
     "output_type": "execute_result"
    }
   ],
   "source": [
    "l1.pop()"
   ]
  },
  {
   "cell_type": "code",
   "execution_count": 44,
   "id": "d928155b-6b88-4665-82cf-4adc1bbe93dd",
   "metadata": {},
   "outputs": [
    {
     "data": {
      "text/plain": [
       "['pwskills', 3, [2, 3, 4]]"
      ]
     },
     "execution_count": 44,
     "metadata": {},
     "output_type": "execute_result"
    }
   ],
   "source": [
    "l1"
   ]
  },
  {
   "cell_type": "code",
   "execution_count": 45,
   "id": "c86439e8-2244-4944-87dd-9fb68c6be137",
   "metadata": {},
   "outputs": [
    {
     "data": {
      "text/plain": [
       "3"
      ]
     },
     "execution_count": 45,
     "metadata": {},
     "output_type": "execute_result"
    }
   ],
   "source": [
    "l1.pop(1)# removing index that tyoe of index we give \n",
    "#if we not putting index then automatically take -1"
   ]
  },
  {
   "cell_type": "code",
   "execution_count": 46,
   "id": "909c42d5-e966-423f-885b-1bb92c53449f",
   "metadata": {},
   "outputs": [
    {
     "data": {
      "text/plain": [
       "['pwskills', [2, 3, 4]]"
      ]
     },
     "execution_count": 46,
     "metadata": {},
     "output_type": "execute_result"
    }
   ],
   "source": [
    "l1"
   ]
  },
  {
   "cell_type": "code",
   "execution_count": 47,
   "id": "ecbb1d28-6348-40bc-aff9-1507849a88ba",
   "metadata": {},
   "outputs": [
    {
     "data": {
      "text/plain": [
       "['pwskills', [2, 3, 4]]"
      ]
     },
     "execution_count": 47,
     "metadata": {},
     "output_type": "execute_result"
    }
   ],
   "source": [
    "l1"
   ]
  },
  {
   "cell_type": "code",
   "execution_count": 48,
   "id": "c049a89f-f1b4-42e3-afdc-d381da498557",
   "metadata": {},
   "outputs": [],
   "source": [
    "l1=[3,5,666.6,True,\"ayushjha\",\"pwskills\",9]"
   ]
  },
  {
   "cell_type": "code",
   "execution_count": 49,
   "id": "80bc1a87-cabd-4817-bc85-0c642d640f2e",
   "metadata": {},
   "outputs": [],
   "source": [
    "l1.remove(\"ayushjha\")"
   ]
  },
  {
   "cell_type": "code",
   "execution_count": 50,
   "id": "d21ae7ee-1566-42a9-b46e-5a4b7f7865e6",
   "metadata": {},
   "outputs": [
    {
     "data": {
      "text/plain": [
       "[3, 5, 666.6, True, 'pwskills', 9]"
      ]
     },
     "execution_count": 50,
     "metadata": {},
     "output_type": "execute_result"
    }
   ],
   "source": [
    "l1"
   ]
  },
  {
   "cell_type": "code",
   "execution_count": 51,
   "id": "af8cbc88-dcc4-4c94-8f9c-b887b2280d7b",
   "metadata": {},
   "outputs": [],
   "source": [
    "l1.remove(5)"
   ]
  },
  {
   "cell_type": "code",
   "execution_count": 52,
   "id": "d02af511-406a-496c-a997-0c62b15cbc52",
   "metadata": {},
   "outputs": [
    {
     "data": {
      "text/plain": [
       "[3, 666.6, True, 'pwskills', 9]"
      ]
     },
     "execution_count": 52,
     "metadata": {},
     "output_type": "execute_result"
    }
   ],
   "source": [
    "l1"
   ]
  },
  {
   "cell_type": "code",
   "execution_count": 53,
   "id": "361d9929-be2d-48e2-8eec-5d7979b8f030",
   "metadata": {},
   "outputs": [],
   "source": [
    "# basic difference between pop and remove is :-\n",
    "# pop used for index removing and takking input at a index\n",
    "# while remove as a value we want to remove"
   ]
  },
  {
   "cell_type": "code",
   "execution_count": 54,
   "id": "3a321fa2-8bc2-4137-87bb-ea4b315e2982",
   "metadata": {},
   "outputs": [
    {
     "ename": "ValueError",
     "evalue": "list.remove(x): x not in list",
     "output_type": "error",
     "traceback": [
      "\u001b[0;31m---------------------------------------------------------------------------\u001b[0m",
      "\u001b[0;31mValueError\u001b[0m                                Traceback (most recent call last)",
      "Cell \u001b[0;32mIn[54], line 1\u001b[0m\n\u001b[0;32m----> 1\u001b[0m \u001b[43ml1\u001b[49m\u001b[38;5;241;43m.\u001b[39;49m\u001b[43mremove\u001b[49m\u001b[43m(\u001b[49m\u001b[38;5;241;43m234\u001b[39;49m\u001b[43m)\u001b[49m\n",
      "\u001b[0;31mValueError\u001b[0m: list.remove(x): x not in list"
     ]
    }
   ],
   "source": [
    "l1.remove(234)"
   ]
  },
  {
   "cell_type": "code",
   "execution_count": 55,
   "id": "e8da83d1-c066-4152-81fd-fe5a32fba5a7",
   "metadata": {},
   "outputs": [],
   "source": [
    "l1=[43,\"ayush\",66.6,[3,4,5],9]"
   ]
  },
  {
   "cell_type": "code",
   "execution_count": 56,
   "id": "4534cf18-745e-43f6-9c7c-5c6f10e0bdc2",
   "metadata": {},
   "outputs": [
    {
     "data": {
      "text/plain": [
       "[43, 'ayush', 66.6, [3, 4, 5], 9]"
      ]
     },
     "execution_count": 56,
     "metadata": {},
     "output_type": "execute_result"
    }
   ],
   "source": [
    "l1"
   ]
  },
  {
   "cell_type": "code",
   "execution_count": 57,
   "id": "a23828c9-5f3e-46d2-a552-7fbc1abe49a7",
   "metadata": {},
   "outputs": [
    {
     "ename": "SyntaxError",
     "evalue": "incomplete input (1101414011.py, line 1)",
     "output_type": "error",
     "traceback": [
      "\u001b[0;36m  Cell \u001b[0;32mIn[57], line 1\u001b[0;36m\u001b[0m\n\u001b[0;31m    l1.remove([3,4,5]\u001b[0m\n\u001b[0m                     ^\u001b[0m\n\u001b[0;31mSyntaxError\u001b[0m\u001b[0;31m:\u001b[0m incomplete input\n"
     ]
    }
   ],
   "source": [
    "l1.remove([3,4,5]"
   ]
  },
  {
   "cell_type": "code",
   "execution_count": 58,
   "id": "5a5c7245-596c-4dff-bf96-3badd02558cf",
   "metadata": {},
   "outputs": [],
   "source": [
    "l1[3].remove(4)"
   ]
  },
  {
   "cell_type": "code",
   "execution_count": 59,
   "id": "b8270910-a22a-4c66-af31-407aa7d6a30e",
   "metadata": {},
   "outputs": [
    {
     "data": {
      "text/plain": [
       "[43, 'ayush', 66.6, [3, 5], 9]"
      ]
     },
     "execution_count": 59,
     "metadata": {},
     "output_type": "execute_result"
    }
   ],
   "source": [
    "l1"
   ]
  },
  {
   "cell_type": "code",
   "execution_count": 60,
   "id": "3d0560c5-4c1a-48a6-8b10-ba916dfada89",
   "metadata": {},
   "outputs": [],
   "source": [
    "l1.append(43)"
   ]
  },
  {
   "cell_type": "code",
   "execution_count": 61,
   "id": "d6aeb8e9-c622-4d44-a35e-05ca335b2cf9",
   "metadata": {},
   "outputs": [
    {
     "data": {
      "text/plain": [
       "[43, 'ayush', 66.6, [3, 5], 9, 43]"
      ]
     },
     "execution_count": 61,
     "metadata": {},
     "output_type": "execute_result"
    }
   ],
   "source": [
    "l1"
   ]
  },
  {
   "cell_type": "code",
   "execution_count": 62,
   "id": "b400fce8-95e6-4ea3-b165-249d9fec7629",
   "metadata": {},
   "outputs": [],
   "source": [
    "l1.remove(43)"
   ]
  },
  {
   "cell_type": "code",
   "execution_count": 63,
   "id": "f2f055ef-6d02-436d-aef6-b5d8e68f6584",
   "metadata": {},
   "outputs": [
    {
     "data": {
      "text/plain": [
       "['ayush', 66.6, [3, 5], 9, 43]"
      ]
     },
     "execution_count": 63,
     "metadata": {},
     "output_type": "execute_result"
    }
   ],
   "source": [
    "l1"
   ]
  },
  {
   "cell_type": "code",
   "execution_count": 64,
   "id": "83711948-6f12-47e9-8e32-fb2c1bd3347a",
   "metadata": {},
   "outputs": [],
   "source": [
    "#we have two 43 but l1 remove only first accurence \n",
    "# we need to repeat process for ther index same values"
   ]
  },
  {
   "cell_type": "code",
   "execution_count": 65,
   "id": "6b1cfaa9-4772-4e69-a16f-febad610bff6",
   "metadata": {},
   "outputs": [],
   "source": [
    "l1.reverse() #this reverse manipulating original result"
   ]
  },
  {
   "cell_type": "code",
   "execution_count": 66,
   "id": "6bffb536-ed27-45cd-bc53-f42602cd55c9",
   "metadata": {},
   "outputs": [
    {
     "data": {
      "text/plain": [
       "[43, 9, [3, 5], 66.6, 'ayush']"
      ]
     },
     "execution_count": 66,
     "metadata": {},
     "output_type": "execute_result"
    }
   ],
   "source": [
    "l1"
   ]
  },
  {
   "cell_type": "code",
   "execution_count": 67,
   "id": "529f6ff1-b8fe-4711-9a98-788335d5f54c",
   "metadata": {},
   "outputs": [
    {
     "data": {
      "text/plain": [
       "['ayush', 66.6, [3, 5], 9, 43]"
      ]
     },
     "execution_count": 67,
     "metadata": {},
     "output_type": "execute_result"
    }
   ],
   "source": [
    "l1[::-1] #but this is only showing in console as a output but not manipulating."
   ]
  },
  {
   "cell_type": "code",
   "execution_count": 68,
   "id": "357b386e-1bc4-432e-ac65-a407d77f8ca9",
   "metadata": {},
   "outputs": [
    {
     "data": {
      "text/plain": [
       "[43, 9, [3, 5], 66.6, 'ayush']"
      ]
     },
     "execution_count": 68,
     "metadata": {},
     "output_type": "execute_result"
    }
   ],
   "source": [
    "l1 "
   ]
  },
  {
   "cell_type": "code",
   "execution_count": 69,
   "id": "d68f6629-4db9-42e0-83d1-d67e75cb0b00",
   "metadata": {},
   "outputs": [],
   "source": [
    "#if we need to manipulate permanent reverse se we reassing\n",
    "l1=l1[::-1]"
   ]
  },
  {
   "cell_type": "code",
   "execution_count": 70,
   "id": "975013d6-b3b3-4a07-8e51-f4a26b9c7326",
   "metadata": {},
   "outputs": [
    {
     "data": {
      "text/plain": [
       "['ayush', 66.6, [3, 5], 9, 43]"
      ]
     },
     "execution_count": 70,
     "metadata": {},
     "output_type": "execute_result"
    }
   ],
   "source": [
    "l1"
   ]
  },
  {
   "cell_type": "code",
   "execution_count": 71,
   "id": "563dbfdc-e3f2-47cd-84b2-753995eb25db",
   "metadata": {},
   "outputs": [
    {
     "ename": "TypeError",
     "evalue": "'<' not supported between instances of 'float' and 'str'",
     "output_type": "error",
     "traceback": [
      "\u001b[0;31m---------------------------------------------------------------------------\u001b[0m",
      "\u001b[0;31mTypeError\u001b[0m                                 Traceback (most recent call last)",
      "Cell \u001b[0;32mIn[71], line 1\u001b[0m\n\u001b[0;32m----> 1\u001b[0m \u001b[43ml1\u001b[49m\u001b[38;5;241;43m.\u001b[39;49m\u001b[43msort\u001b[49m\u001b[43m(\u001b[49m\u001b[43m)\u001b[49m\n",
      "\u001b[0;31mTypeError\u001b[0m: '<' not supported between instances of 'float' and 'str'"
     ]
    }
   ],
   "source": [
    "l1.sort() #sorting only use for same data types"
   ]
  },
  {
   "cell_type": "code",
   "execution_count": 75,
   "id": "e7ecae0f-818b-475e-858f-ae8f8cecd9e4",
   "metadata": {},
   "outputs": [],
   "source": [
    "l2=[45,44,33,66,88,32,3,5,9,2,0]"
   ]
  },
  {
   "cell_type": "code",
   "execution_count": 76,
   "id": "0ad1c8e9-858d-46f0-8804-67bc0fd2d5ec",
   "metadata": {},
   "outputs": [],
   "source": [
    "l2.sort()"
   ]
  },
  {
   "cell_type": "code",
   "execution_count": 77,
   "id": "aeff722a-fd92-499a-90f5-9220490879c8",
   "metadata": {},
   "outputs": [
    {
     "data": {
      "text/plain": [
       "[0, 2, 3, 5, 9, 32, 33, 44, 45, 66, 88]"
      ]
     },
     "execution_count": 77,
     "metadata": {},
     "output_type": "execute_result"
    }
   ],
   "source": [
    "l2"
   ]
  },
  {
   "cell_type": "code",
   "execution_count": 78,
   "id": "6e915c49-40f0-4411-a2ae-34fdcac481e4",
   "metadata": {},
   "outputs": [],
   "source": [
    "l3=[\"ayush\",\"pwskills\",\"india\",\"cricket\"]"
   ]
  },
  {
   "cell_type": "code",
   "execution_count": 79,
   "id": "c9654425-8288-4656-99f4-df80ae122ec9",
   "metadata": {},
   "outputs": [],
   "source": [
    "l3.sort()"
   ]
  },
  {
   "cell_type": "code",
   "execution_count": 80,
   "id": "6ba3cd89-5bf4-4bfb-810b-ae466c585011",
   "metadata": {},
   "outputs": [
    {
     "data": {
      "text/plain": [
       "['ayush', 'cricket', 'india', 'pwskills']"
      ]
     },
     "execution_count": 80,
     "metadata": {},
     "output_type": "execute_result"
    }
   ],
   "source": [
    "l3"
   ]
  },
  {
   "cell_type": "code",
   "execution_count": 81,
   "id": "90479dd6-02b7-478f-a14f-af00c989ba0a",
   "metadata": {},
   "outputs": [],
   "source": [
    "l3.sort(reverse=True)"
   ]
  },
  {
   "cell_type": "code",
   "execution_count": 82,
   "id": "5b5157e5-74f6-4e1a-ad4a-4fb6e09fe101",
   "metadata": {},
   "outputs": [
    {
     "data": {
      "text/plain": [
       "['pwskills', 'india', 'cricket', 'ayush']"
      ]
     },
     "execution_count": 82,
     "metadata": {},
     "output_type": "execute_result"
    }
   ],
   "source": [
    "l3"
   ]
  },
  {
   "cell_type": "code",
   "execution_count": 83,
   "id": "84d3a473-7df8-4ec8-88cf-8c8cf96fda93",
   "metadata": {},
   "outputs": [
    {
     "data": {
      "text/plain": [
       "['pwskills', 'india', 'cricket', 'ayush']"
      ]
     },
     "execution_count": 83,
     "metadata": {},
     "output_type": "execute_result"
    }
   ],
   "source": [
    "l3"
   ]
  },
  {
   "cell_type": "code",
   "execution_count": 84,
   "id": "4fe872dc-af03-4e56-b1ea-b3134c8b8902",
   "metadata": {},
   "outputs": [
    {
     "data": {
      "text/plain": [
       "3"
      ]
     },
     "execution_count": 84,
     "metadata": {},
     "output_type": "execute_result"
    }
   ],
   "source": [
    "l3.index(\"ayush\")"
   ]
  },
  {
   "cell_type": "code",
   "execution_count": 85,
   "id": "02454d31-9a09-4a77-9b71-fc0add498dcc",
   "metadata": {},
   "outputs": [
    {
     "data": {
      "text/plain": [
       "1"
      ]
     },
     "execution_count": 85,
     "metadata": {},
     "output_type": "execute_result"
    }
   ],
   "source": [
    "l3.count(\"cricket\") #frequency of variable"
   ]
  },
  {
   "cell_type": "code",
   "execution_count": 94,
   "id": "04fdfb9b-083b-41de-9258-0deab3e6589e",
   "metadata": {},
   "outputs": [],
   "source": [
    "#so now  basic concept here is string is immutable but list  are mutable entity"
   ]
  },
  {
   "cell_type": "code",
   "execution_count": 86,
   "id": "480ab863-5098-4552-811c-bba787a248d6",
   "metadata": {},
   "outputs": [],
   "source": [
    "s=\"ayush\""
   ]
  },
  {
   "cell_type": "code",
   "execution_count": 87,
   "id": "3f526ba9-7df2-421d-9566-e88dadb373d4",
   "metadata": {},
   "outputs": [],
   "source": [
    "l5=[3,4,5,6]"
   ]
  },
  {
   "cell_type": "code",
   "execution_count": 88,
   "id": "74e4f175-1140-4e6f-bae8-26353d07c733",
   "metadata": {},
   "outputs": [
    {
     "data": {
      "text/plain": [
       "'a'"
      ]
     },
     "execution_count": 88,
     "metadata": {},
     "output_type": "execute_result"
    }
   ],
   "source": [
    "s[0]"
   ]
  },
  {
   "cell_type": "code",
   "execution_count": 89,
   "id": "c312990a-5ef4-4c04-bef8-a9955e24be30",
   "metadata": {},
   "outputs": [
    {
     "ename": "TypeError",
     "evalue": "'str' object does not support item assignment",
     "output_type": "error",
     "traceback": [
      "\u001b[0;31m---------------------------------------------------------------------------\u001b[0m",
      "\u001b[0;31mTypeError\u001b[0m                                 Traceback (most recent call last)",
      "Cell \u001b[0;32mIn[89], line 1\u001b[0m\n\u001b[0;32m----> 1\u001b[0m \u001b[43ms\u001b[49m\u001b[43m[\u001b[49m\u001b[38;5;241;43m0\u001b[39;49m\u001b[43m]\u001b[49m\u001b[38;5;241m=\u001b[39m\u001b[38;5;124m'\u001b[39m\u001b[38;5;124ms\u001b[39m\u001b[38;5;124m'\u001b[39m\n",
      "\u001b[0;31mTypeError\u001b[0m: 'str' object does not support item assignment"
     ]
    }
   ],
   "source": [
    "s[0]='s'"
   ]
  },
  {
   "cell_type": "code",
   "execution_count": 90,
   "id": "9f00fb2e-83f7-4689-bdf0-9ca4e57956af",
   "metadata": {},
   "outputs": [
    {
     "data": {
      "text/plain": [
       "3"
      ]
     },
     "execution_count": 90,
     "metadata": {},
     "output_type": "execute_result"
    }
   ],
   "source": [
    "l5[0]"
   ]
  },
  {
   "cell_type": "code",
   "execution_count": 91,
   "id": "2dffef16-f7a6-4141-a995-8e8e6bed1c36",
   "metadata": {},
   "outputs": [],
   "source": [
    "l5[0]=9"
   ]
  },
  {
   "cell_type": "code",
   "execution_count": 92,
   "id": "c6766a3c-6721-4274-90de-551faf4e8aee",
   "metadata": {},
   "outputs": [
    {
     "data": {
      "text/plain": [
       "[9, 4, 5, 6]"
      ]
     },
     "execution_count": 92,
     "metadata": {},
     "output_type": "execute_result"
    }
   ],
   "source": [
    "l5"
   ]
  },
  {
   "cell_type": "code",
   "execution_count": 95,
   "id": "98ac7210-16d0-42de-810a-9e7fce1b699c",
   "metadata": {},
   "outputs": [
    {
     "data": {
      "text/plain": [
       "'syush'"
      ]
     },
     "execution_count": 95,
     "metadata": {},
     "output_type": "execute_result"
    }
   ],
   "source": [
    "s.replace('a','s') #its generating new and store in new memory"
   ]
  },
  {
   "cell_type": "code",
   "execution_count": 96,
   "id": "a1692888-2bc8-495d-93d5-0ed4b6810b12",
   "metadata": {},
   "outputs": [
    {
     "data": {
      "text/plain": [
       "'ayush'"
      ]
     },
     "execution_count": 96,
     "metadata": {},
     "output_type": "execute_result"
    }
   ],
   "source": [
    "s #but not any changes in old object we can't change in smae memory location becz string is immutable"
   ]
  },
  {
   "cell_type": "code",
   "execution_count": 97,
   "id": "718e9bbf-8351-4456-8b1e-b1425fde749e",
   "metadata": {},
   "outputs": [],
   "source": [
    "###****TUPLES***###"
   ]
  },
  {
   "cell_type": "code",
   "execution_count": 98,
   "id": "56703042-82ab-47eb-b4f2-92d6e3bbc88a",
   "metadata": {},
   "outputs": [],
   "source": [
    "t=(2,3,4,5,\"ayush\",45.66,False,45+5j,[3,4,5]) # same as list we storing values but we using square bracket."
   ]
  },
  {
   "cell_type": "code",
   "execution_count": 99,
   "id": "b71ad254-a812-4749-8e65-fa28faf71ace",
   "metadata": {},
   "outputs": [
    {
     "data": {
      "text/plain": [
       "(2, 3, 4, 5, 'ayush', 45.66, False, (45+5j), [3, 4, 5])"
      ]
     },
     "execution_count": 99,
     "metadata": {},
     "output_type": "execute_result"
    }
   ],
   "source": [
    "t"
   ]
  },
  {
   "cell_type": "code",
   "execution_count": 100,
   "id": "17f05b53-9fa4-4114-92c2-35cab973a520",
   "metadata": {},
   "outputs": [
    {
     "data": {
      "text/plain": [
       "tuple"
      ]
     },
     "execution_count": 100,
     "metadata": {},
     "output_type": "execute_result"
    }
   ],
   "source": [
    "type(t)"
   ]
  },
  {
   "cell_type": "code",
   "execution_count": 101,
   "id": "13c119e5-59e7-4be6-9110-6a3fef80ce29",
   "metadata": {},
   "outputs": [
    {
     "data": {
      "text/plain": [
       "9"
      ]
     },
     "execution_count": 101,
     "metadata": {},
     "output_type": "execute_result"
    }
   ],
   "source": [
    "len(t)"
   ]
  },
  {
   "cell_type": "code",
   "execution_count": 102,
   "id": "19947483-f3c2-4e70-90ac-6228e1228c9f",
   "metadata": {},
   "outputs": [
    {
     "data": {
      "text/plain": [
       "2"
      ]
     },
     "execution_count": 102,
     "metadata": {},
     "output_type": "execute_result"
    }
   ],
   "source": [
    "t[0]"
   ]
  },
  {
   "cell_type": "code",
   "execution_count": 103,
   "id": "681edc0c-4094-4fd7-90b2-5bb20f528fac",
   "metadata": {},
   "outputs": [
    {
     "data": {
      "text/plain": [
       "[3, 4, 5]"
      ]
     },
     "execution_count": 103,
     "metadata": {},
     "output_type": "execute_result"
    }
   ],
   "source": [
    "t[-1]"
   ]
  },
  {
   "cell_type": "code",
   "execution_count": 104,
   "id": "f4f0e0bb-3b94-4002-a0b3-899d09ef76a9",
   "metadata": {},
   "outputs": [
    {
     "data": {
      "text/plain": [
       "([3, 4, 5], (45+5j), False, 45.66, 'ayush', 5, 4, 3, 2)"
      ]
     },
     "execution_count": 104,
     "metadata": {},
     "output_type": "execute_result"
    }
   ],
   "source": [
    "t[::-1]"
   ]
  },
  {
   "cell_type": "code",
   "execution_count": 106,
   "id": "cb3f5e40-49b1-4447-9ec3-cbab7174d4f0",
   "metadata": {},
   "outputs": [
    {
     "data": {
      "text/plain": [
       "['pwskills', 'india', 'cricket', 'ayush']"
      ]
     },
     "execution_count": 106,
     "metadata": {},
     "output_type": "execute_result"
    }
   ],
   "source": [
    "l3"
   ]
  },
  {
   "cell_type": "code",
   "execution_count": 107,
   "id": "159ba85f-0dbb-4671-afb5-190a9fb5e7d9",
   "metadata": {},
   "outputs": [],
   "source": [
    "l3[0]=234"
   ]
  },
  {
   "cell_type": "code",
   "execution_count": 108,
   "id": "bae2685f-01b1-4880-b066-7cc1bde48ad1",
   "metadata": {},
   "outputs": [
    {
     "data": {
      "text/plain": [
       "[234, 'india', 'cricket', 'ayush']"
      ]
     },
     "execution_count": 108,
     "metadata": {},
     "output_type": "execute_result"
    }
   ],
   "source": [
    "l3"
   ]
  },
  {
   "cell_type": "code",
   "execution_count": 109,
   "id": "abb8599d-dcc0-4363-8224-22e8816ca068",
   "metadata": {},
   "outputs": [
    {
     "data": {
      "text/plain": [
       "(2, 3, 4, 5, 'ayush', 45.66, False, (45+5j), [3, 4, 5])"
      ]
     },
     "execution_count": 109,
     "metadata": {},
     "output_type": "execute_result"
    }
   ],
   "source": [
    "t"
   ]
  },
  {
   "cell_type": "code",
   "execution_count": 110,
   "id": "4322b335-d070-448a-a1a9-9af163ebbf07",
   "metadata": {},
   "outputs": [
    {
     "ename": "TypeError",
     "evalue": "'tuple' object does not support item assignment",
     "output_type": "error",
     "traceback": [
      "\u001b[0;31m---------------------------------------------------------------------------\u001b[0m",
      "\u001b[0;31mTypeError\u001b[0m                                 Traceback (most recent call last)",
      "Cell \u001b[0;32mIn[110], line 1\u001b[0m\n\u001b[0;32m----> 1\u001b[0m \u001b[43mt\u001b[49m\u001b[43m[\u001b[49m\u001b[38;5;241;43m0\u001b[39;49m\u001b[43m]\u001b[49m\u001b[38;5;241m=\u001b[39m\u001b[38;5;241m5\u001b[39m\n",
      "\u001b[0;31mTypeError\u001b[0m: 'tuple' object does not support item assignment"
     ]
    }
   ],
   "source": [
    "t[0]=#tuples does'nt support item assignment so tuples are immutable"
   ]
  },
  {
   "cell_type": "code",
   "execution_count": 111,
   "id": "d18089c8-999f-4250-916a-71b480502c41",
   "metadata": {},
   "outputs": [],
   "source": [
    "#tuples diferent from list because tupels immutable but list is mutable\n",
    "#tuples we use as a place where we not wna,t to anyone change the data for example (password)."
   ]
  },
  {
   "cell_type": "code",
   "execution_count": 112,
   "id": "49b43b33-6efc-4b25-ac13-7a3aa8c176bb",
   "metadata": {},
   "outputs": [
    {
     "data": {
      "text/plain": [
       "([3, 4, 5], (45+5j), False, 45.66, 'ayush', 5, 4, 3, 2)"
      ]
     },
     "execution_count": 112,
     "metadata": {},
     "output_type": "execute_result"
    }
   ],
   "source": [
    "t[::-1]"
   ]
  },
  {
   "cell_type": "code",
   "execution_count": 113,
   "id": "ba0d9657-900e-46b9-a129-ba01d28bd086",
   "metadata": {},
   "outputs": [],
   "source": [
    "t=t[::-1]\n",
    "#item reassign not mutability"
   ]
  },
  {
   "cell_type": "code",
   "execution_count": 114,
   "id": "c3e930e5-2441-4061-a5a4-0fb16550c56e",
   "metadata": {},
   "outputs": [
    {
     "data": {
      "text/plain": [
       "([3, 4, 5], (45+5j), False, 45.66, 'ayush', 5, 4, 3, 2)"
      ]
     },
     "execution_count": 114,
     "metadata": {},
     "output_type": "execute_result"
    }
   ],
   "source": [
    "t"
   ]
  },
  {
   "cell_type": "code",
   "execution_count": 2,
   "id": "f6436113-5602-45cf-b004-f12beaa194a0",
   "metadata": {},
   "outputs": [],
   "source": [
    "#SETS curly braces use in sets"
   ]
  },
  {
   "cell_type": "code",
   "execution_count": 3,
   "id": "3e6e3a9f-8de3-4c21-9744-76d1b75efaad",
   "metadata": {},
   "outputs": [],
   "source": [
    "s1={} #blank curly braces is dictionary"
   ]
  },
  {
   "cell_type": "code",
   "execution_count": 4,
   "id": "7bff968b-0493-4ce4-8fb6-376094c91f4d",
   "metadata": {},
   "outputs": [
    {
     "data": {
      "text/plain": [
       "dict"
      ]
     },
     "execution_count": 4,
     "metadata": {},
     "output_type": "execute_result"
    }
   ],
   "source": [
    "type(s1)"
   ]
  },
  {
   "cell_type": "code",
   "execution_count": 5,
   "id": "884d056b-0d18-47a0-8be8-942a155c4a34",
   "metadata": {},
   "outputs": [],
   "source": [
    "s2={2,3,4,55,6}"
   ]
  },
  {
   "cell_type": "code",
   "execution_count": 6,
   "id": "82feff38-b7ef-4546-b94c-d0edb722db29",
   "metadata": {},
   "outputs": [
    {
     "data": {
      "text/plain": [
       "set"
      ]
     },
     "execution_count": 6,
     "metadata": {},
     "output_type": "execute_result"
    }
   ],
   "source": [
    "type(s2)"
   ]
  },
  {
   "cell_type": "code",
   "execution_count": 8,
   "id": "cf681e46-baed-4cc1-8471-24e8cb7b5e0b",
   "metadata": {},
   "outputs": [
    {
     "ename": "TypeError",
     "evalue": "unhashable type: 'list'",
     "output_type": "error",
     "traceback": [
      "\u001b[0;31m---------------------------------------------------------------------------\u001b[0m",
      "\u001b[0;31mTypeError\u001b[0m                                 Traceback (most recent call last)",
      "Cell \u001b[0;32mIn[8], line 1\u001b[0m\n\u001b[0;32m----> 1\u001b[0m s4\u001b[38;5;241m=\u001b[39m{\u001b[38;5;241m23\u001b[39m,\u001b[38;5;241m44.5\u001b[39m,\u001b[38;5;124m\"\u001b[39m\u001b[38;5;124mayush\u001b[39m\u001b[38;5;124m\"\u001b[39m,[\u001b[38;5;241m2\u001b[39m,\u001b[38;5;241m3\u001b[39m,\u001b[38;5;241m4\u001b[39m]}\n",
      "\u001b[0;31mTypeError\u001b[0m: unhashable type: 'list'"
     ]
    }
   ],
   "source": [
    "s4={23,44.5,\"ayush\",[2,3,4]} 3not takking list becz its mutalble"
   ]
  },
  {
   "cell_type": "code",
   "execution_count": 9,
   "id": "97d165c1-200e-4980-b2ba-51f4d788f2ad",
   "metadata": {},
   "outputs": [],
   "source": [
    "s5={23.4,23,12,\"ayush\",(2,3,4)} \n",
    "#tuples take ti becz its immutable"
   ]
  },
  {
   "cell_type": "code",
   "execution_count": 10,
   "id": "74d279ed-869a-4185-abeb-84878ff21ebc",
   "metadata": {},
   "outputs": [],
   "source": [
    "s6={2,3,4,5,6,2,3,4,5,6,1,2,3,7,5,4,2,4,3}"
   ]
  },
  {
   "cell_type": "code",
   "execution_count": 12,
   "id": "77420d77-d306-4797-995f-80e838808fcf",
   "metadata": {},
   "outputs": [
    {
     "data": {
      "text/plain": [
       "{1, 2, 3, 4, 5, 6, 7}"
      ]
     },
     "execution_count": 12,
     "metadata": {},
     "output_type": "execute_result"
    }
   ],
   "source": [
    "s6 \n",
    "#sets removing duplicate data and \n",
    "#showing unique data"
   ]
  },
  {
   "cell_type": "code",
   "execution_count": 13,
   "id": "63d7e2b8-d2c4-4ca2-8f80-30eda01bc823",
   "metadata": {},
   "outputs": [],
   "source": [
    "s7={2,3,4,5,2,3,4,5,\"ayush\",\"Ayush\",\"ayush\"}"
   ]
  },
  {
   "cell_type": "code",
   "execution_count": 14,
   "id": "661627f0-d2ce-4ba5-9256-655a45e4458b",
   "metadata": {},
   "outputs": [
    {
     "data": {
      "text/plain": [
       "{2, 3, 4, 5, 'Ayush', 'ayush'}"
      ]
     },
     "execution_count": 14,
     "metadata": {},
     "output_type": "execute_result"
    }
   ],
   "source": [
    "s7\n",
    "#python is case sensitive so not removing Ayush"
   ]
  },
  {
   "cell_type": "code",
   "execution_count": 15,
   "id": "634b270b-fe8f-4dab-a701-c99c372853c2",
   "metadata": {},
   "outputs": [],
   "source": [
    "l1=[2,3,4,5,6,2,3,4,5,6,1,2,3,7,5,4,2,4,3]"
   ]
  },
  {
   "cell_type": "code",
   "execution_count": 18,
   "id": "8143e955-412e-4497-9788-769a1e0d57b6",
   "metadata": {},
   "outputs": [],
   "source": [
    "l1=list(set(l1)) \n",
    "#set as function also available in python"
   ]
  },
  {
   "cell_type": "code",
   "execution_count": 19,
   "id": "009a281d-9d64-4049-95d5-5be590c7a273",
   "metadata": {},
   "outputs": [
    {
     "data": {
      "text/plain": [
       "[1, 2, 3, 4, 5, 6, 7]"
      ]
     },
     "execution_count": 19,
     "metadata": {},
     "output_type": "execute_result"
    }
   ],
   "source": [
    "l1"
   ]
  },
  {
   "cell_type": "code",
   "execution_count": 20,
   "id": "92efc1b9-0acd-4aad-b803-b7cca4f71e2a",
   "metadata": {},
   "outputs": [],
   "source": [
    " s8={234,45,23,12,567,45,2,789,\"abv\",23}"
   ]
  },
  {
   "cell_type": "code",
   "execution_count": 21,
   "id": "3bb152e4-e1e8-4c4f-99aa-6c817c460772",
   "metadata": {},
   "outputs": [
    {
     "data": {
      "text/plain": [
       "{12, 2, 23, 234, 45, 567, 789, 'abv'}"
      ]
     },
     "execution_count": 21,
     "metadata": {},
     "output_type": "execute_result"
    }
   ],
   "source": [
    "s8#set create orderd data set\n",
    "#set have hashing not indexing"
   ]
  },
  {
   "cell_type": "code",
   "execution_count": 22,
   "id": "6c9ff573-9d12-4781-861f-8820c0b328a3",
   "metadata": {},
   "outputs": [
    {
     "ename": "TypeError",
     "evalue": "'set' object is not subscriptable",
     "output_type": "error",
     "traceback": [
      "\u001b[0;31m---------------------------------------------------------------------------\u001b[0m",
      "\u001b[0;31mTypeError\u001b[0m                                 Traceback (most recent call last)",
      "Cell \u001b[0;32mIn[22], line 1\u001b[0m\n\u001b[0;32m----> 1\u001b[0m \u001b[43ms8\u001b[49m\u001b[43m[\u001b[49m\u001b[38;5;241;43m0\u001b[39;49m\u001b[43m]\u001b[49m\n",
      "\u001b[0;31mTypeError\u001b[0m: 'set' object is not subscriptable"
     ]
    }
   ],
   "source": [
    "s8[0]"
   ]
  },
  {
   "cell_type": "code",
   "execution_count": 23,
   "id": "5de52d0b-aea4-4fb3-86e9-1ac4684891a2",
   "metadata": {},
   "outputs": [
    {
     "ename": "TypeError",
     "evalue": "'set' object is not subscriptable",
     "output_type": "error",
     "traceback": [
      "\u001b[0;31m---------------------------------------------------------------------------\u001b[0m",
      "\u001b[0;31mTypeError\u001b[0m                                 Traceback (most recent call last)",
      "Cell \u001b[0;32mIn[23], line 1\u001b[0m\n\u001b[0;32m----> 1\u001b[0m \u001b[43ms8\u001b[49m\u001b[43m[\u001b[49m\u001b[43m:\u001b[49m\u001b[43m:\u001b[49m\u001b[38;5;241;43m-\u001b[39;49m\u001b[38;5;241;43m1\u001b[39;49m\u001b[43m]\u001b[49m\n",
      "\u001b[0;31mTypeError\u001b[0m: 'set' object is not subscriptable"
     ]
    }
   ],
   "source": [
    "s8[::-1]"
   ]
  },
  {
   "cell_type": "code",
   "execution_count": 24,
   "id": "ab8e8d41-99ae-4944-a31e-51ac26f937c6",
   "metadata": {},
   "outputs": [],
   "source": [
    "s8.add(4)\n",
    "#if 4 not avilable then set add \n",
    "#if already exist then not"
   ]
  },
  {
   "cell_type": "code",
   "execution_count": 25,
   "id": "353fd48e-3004-4113-a567-abd245e61061",
   "metadata": {},
   "outputs": [
    {
     "data": {
      "text/plain": [
       "{12, 2, 23, 234, 4, 45, 567, 789, 'abv'}"
      ]
     },
     "execution_count": 25,
     "metadata": {},
     "output_type": "execute_result"
    }
   ],
   "source": [
    "s8"
   ]
  },
  {
   "cell_type": "code",
   "execution_count": 27,
   "id": "916bd0f3-4db3-4c57-bbd7-df4679263d9e",
   "metadata": {},
   "outputs": [],
   "source": [
    "s8.remove(2)"
   ]
  },
  {
   "cell_type": "code",
   "execution_count": 28,
   "id": "5b17d3ca-2824-41bf-8e86-605f7fde1b7c",
   "metadata": {},
   "outputs": [],
   "source": [
    "s={2,4,5,2,3,7}"
   ]
  },
  {
   "cell_type": "code",
   "execution_count": 29,
   "id": "3554f084-0807-4cd4-88cc-798d668a453c",
   "metadata": {},
   "outputs": [],
   "source": [
    "s.remove(2)"
   ]
  },
  {
   "cell_type": "code",
   "execution_count": 30,
   "id": "eb197706-e5aa-41eb-84df-d6c3f7df8486",
   "metadata": {},
   "outputs": [
    {
     "data": {
      "text/plain": [
       "{3, 4, 5, 7}"
      ]
     },
     "execution_count": 30,
     "metadata": {},
     "output_type": "execute_result"
    }
   ],
   "source": [
    "s"
   ]
  },
  {
   "cell_type": "code",
   "execution_count": null,
   "id": "c2d50fa4-be82-4272-b028-12f7573ceb74",
   "metadata": {},
   "outputs": [],
   "source": []
  }
 ],
 "metadata": {
  "kernelspec": {
   "display_name": "Python 3 (ipykernel)",
   "language": "python",
   "name": "python3"
  },
  "language_info": {
   "codemirror_mode": {
    "name": "ipython",
    "version": 3
   },
   "file_extension": ".py",
   "mimetype": "text/x-python",
   "name": "python",
   "nbconvert_exporter": "python",
   "pygments_lexer": "ipython3",
   "version": "3.10.8"
  }
 },
 "nbformat": 4,
 "nbformat_minor": 5
}
