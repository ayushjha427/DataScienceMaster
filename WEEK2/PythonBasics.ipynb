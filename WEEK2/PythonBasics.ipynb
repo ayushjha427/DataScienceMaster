{
 "cells": [
  {
   "cell_type": "code",
   "execution_count": 1,
   "id": "58742cd1-ccb1-491e-b44e-19faa9982e1a",
   "metadata": {},
   "outputs": [
    {
     "data": {
      "text/plain": [
       "2"
      ]
     },
     "execution_count": 1,
     "metadata": {},
     "output_type": "execute_result"
    }
   ],
   "source": [
    "1+1"
   ]
  },
  {
   "cell_type": "code",
   "execution_count": 3,
   "id": "66d6d4b6-ca3b-445d-860d-98d452a0bb56",
   "metadata": {},
   "outputs": [
    {
     "data": {
      "text/plain": [
       "3"
      ]
     },
     "execution_count": 3,
     "metadata": {},
     "output_type": "execute_result"
    }
   ],
   "source": [
    "3%5"
   ]
  },
  {
   "cell_type": "code",
   "execution_count": 4,
   "id": "f4fb6137-c30d-424e-bc45-8fc64f7df8fe",
   "metadata": {},
   "outputs": [],
   "source": [
    "#python follows scripting as well as oops concept\n",
    "#python is more flexible\n"
   ]
  },
  {
   "cell_type": "code",
   "execution_count": 5,
   "id": "7100db05-9707-4e6a-80e9-dd7cbba55462",
   "metadata": {},
   "outputs": [],
   "source": [
    "ayush=20"
   ]
  },
  {
   "cell_type": "code",
   "execution_count": 6,
   "id": "de5e5acf-413e-485b-9dd5-37b6b5ad4d84",
   "metadata": {},
   "outputs": [
    {
     "data": {
      "text/plain": [
       "20"
      ]
     },
     "execution_count": 6,
     "metadata": {},
     "output_type": "execute_result"
    }
   ],
   "source": [
    "ayush"
   ]
  },
  {
   "cell_type": "code",
   "execution_count": 2,
   "id": "6e70710b-58a5-4749-b3a8-a8b7f5ed6b3d",
   "metadata": {},
   "outputs": [],
   "source": [
    "a=\"ayush\""
   ]
  },
  {
   "cell_type": "code",
   "execution_count": 3,
   "id": "58191668-30cb-4ce9-89ae-bc5678c54c05",
   "metadata": {},
   "outputs": [
    {
     "data": {
      "text/plain": [
       "str"
      ]
     },
     "execution_count": 3,
     "metadata": {},
     "output_type": "execute_result"
    }
   ],
   "source": [
    "type(a)"
   ]
  },
  {
   "cell_type": "code",
   "execution_count": 4,
   "id": "8d871bcf-eab4-4626-ab8c-80f2853c215f",
   "metadata": {},
   "outputs": [],
   "source": [
    "b=33.5"
   ]
  },
  {
   "cell_type": "code",
   "execution_count": 5,
   "id": "7d1db732-4da7-4ee7-93a5-1b5b4436881e",
   "metadata": {},
   "outputs": [
    {
     "data": {
      "text/plain": [
       "float"
      ]
     },
     "execution_count": 5,
     "metadata": {},
     "output_type": "execute_result"
    }
   ],
   "source": [
    "type(b)"
   ]
  },
  {
   "cell_type": "code",
   "execution_count": 1,
   "id": "b2ce5cc3-3644-43bf-ae58-5d7f543e3a07",
   "metadata": {},
   "outputs": [
    {
     "ename": "ZeroDivisionError",
     "evalue": "division by zero",
     "output_type": "error",
     "traceback": [
      "\u001b[0;31m---------------------------------------------------------------------------\u001b[0m",
      "\u001b[0;31mZeroDivisionError\u001b[0m                         Traceback (most recent call last)",
      "Cell \u001b[0;32mIn[1], line 1\u001b[0m\n\u001b[0;32m----> 1\u001b[0m \u001b[38;5;28;43;01mTrue\u001b[39;49;00m\u001b[38;5;241;43m/\u001b[39;49m\u001b[38;5;28;43;01mFalse\u001b[39;49;00m \u001b[38;5;66;03m#its valid on numpy and the answer is infinity\u001b[39;00m\n",
      "\u001b[0;31mZeroDivisionError\u001b[0m: division by zero"
     ]
    }
   ],
   "source": [
    "True/False #its valid on numpy and the answer is infinity"
   ]
  },
  {
   "cell_type": "code",
   "execution_count": 7,
   "id": "a69aa397-2260-43b5-ac76-e1457df8c8e2",
   "metadata": {},
   "outputs": [
    {
     "data": {
      "text/plain": [
       "0"
      ]
     },
     "execution_count": 7,
     "metadata": {},
     "output_type": "execute_result"
    }
   ],
   "source": [
    "True*False"
   ]
  },
  {
   "cell_type": "code",
   "execution_count": 8,
   "id": "8da42f21-ec3c-498f-a3a2-7ad6fef35ec4",
   "metadata": {},
   "outputs": [
    {
     "data": {
      "text/plain": [
       "0"
      ]
     },
     "execution_count": 8,
     "metadata": {},
     "output_type": "execute_result"
    }
   ],
   "source": [
    "False*True"
   ]
  },
  {
   "cell_type": "code",
   "execution_count": 9,
   "id": "77a5973a-ddc8-454e-88b4-b5553425fe54",
   "metadata": {},
   "outputs": [
    {
     "data": {
      "text/plain": [
       "1"
      ]
     },
     "execution_count": 9,
     "metadata": {},
     "output_type": "execute_result"
    }
   ],
   "source": [
    "True + False"
   ]
  },
  {
   "cell_type": "code",
   "execution_count": 11,
   "id": "f0e8c99c-7c43-4f2e-a801-621708bfebef",
   "metadata": {},
   "outputs": [],
   "source": [
    "v=5+8j# we use small j in python for complex variable\n",
    "#but in maths we use i.\n",
    "#5 is a real number 8 is imaginary number because with j\n",
    "# j is a notation"
   ]
  },
  {
   "cell_type": "code",
   "execution_count": 12,
   "id": "9b560c4d-1316-4623-9475-7fcbe2058d89",
   "metadata": {},
   "outputs": [
    {
     "data": {
      "text/plain": [
       "complex"
      ]
     },
     "execution_count": 12,
     "metadata": {},
     "output_type": "execute_result"
    }
   ],
   "source": [
    "type(v)"
   ]
  },
  {
   "cell_type": "code",
   "execution_count": 13,
   "id": "b1c22e44-9b4e-44e5-b1fb-36495dbfabcf",
   "metadata": {},
   "outputs": [
    {
     "data": {
      "text/plain": [
       "5.0"
      ]
     },
     "execution_count": 13,
     "metadata": {},
     "output_type": "execute_result"
    }
   ],
   "source": [
    "v.real # for finding real number."
   ]
  },
  {
   "cell_type": "code",
   "execution_count": 16,
   "id": "e87d2fa7-8eb2-4f73-9e65-c9431f802c3d",
   "metadata": {},
   "outputs": [],
   "source": [
    "# if we use same variablke and input another data then the old data is wipeout\n",
    "#by old data wipeout by garbage collector"
   ]
  },
  {
   "cell_type": "code",
   "execution_count": 18,
   "id": "851d5292-c8db-413c-a8dd-1c37602be938",
   "metadata": {},
   "outputs": [
    {
     "data": {
      "text/plain": [
       "8.0"
      ]
     },
     "execution_count": 18,
     "metadata": {},
     "output_type": "execute_result"
    }
   ],
   "source": [
    "v.imag # for imaginary number"
   ]
  },
  {
   "cell_type": "code",
   "execution_count": 19,
   "id": "84d4958a-87bc-415a-9a13-a7ff2b932a34",
   "metadata": {},
   "outputs": [
    {
     "data": {
      "text/plain": [
       "(5+8j)"
      ]
     },
     "execution_count": 19,
     "metadata": {},
     "output_type": "execute_result"
    }
   ],
   "source": [
    "v"
   ]
  },
  {
   "cell_type": "code",
   "execution_count": 22,
   "id": "9d5b5315-53ad-4308-95d3-cfe5cda3ef1b",
   "metadata": {},
   "outputs": [
    {
     "name": "stdout",
     "output_type": "stream",
     "text": [
      "anything you want to type\n"
     ]
    }
   ],
   "source": [
    "print(\"anything you want to type\")"
   ]
  },
  {
   "cell_type": "code",
   "execution_count": 21,
   "id": "b4b2ed7b-55d8-455f-9d17-38e660d1aaf7",
   "metadata": {},
   "outputs": [
    {
     "data": {
      "text/plain": [
       "builtin_function_or_method"
      ]
     },
     "execution_count": 21,
     "metadata": {},
     "output_type": "execute_result"
    }
   ],
   "source": [
    "type(print)"
   ]
  },
  {
   "cell_type": "code",
   "execution_count": 1,
   "id": "b0059cfe-1b6d-4c81-b089-67859bfc3c06",
   "metadata": {},
   "outputs": [],
   "source": [
    "a=5"
   ]
  },
  {
   "cell_type": "code",
   "execution_count": 2,
   "id": "d1d73821-a66e-470f-a478-3574049c8d4a",
   "metadata": {},
   "outputs": [
    {
     "data": {
      "text/plain": [
       "int"
      ]
     },
     "execution_count": 2,
     "metadata": {},
     "output_type": "execute_result"
    }
   ],
   "source": [
    "type(a) # shift+tab is shortcut for inbuilf information about any typs by language."
   ]
  },
  {
   "cell_type": "code",
   "execution_count": 3,
   "id": "ce2908e5-3b5b-430f-b2c9-4e75ec8c68be",
   "metadata": {},
   "outputs": [
    {
     "name": "stdout",
     "output_type": "stream",
     "text": [
      "my name is ayush kumar jha\n"
     ]
    }
   ],
   "source": [
    "print(\"my name is ayush kumar jha\")"
   ]
  },
  {
   "cell_type": "code",
   "execution_count": 4,
   "id": "abbff462-f4a5-4c75-bb33-b4bc0265f4a4",
   "metadata": {},
   "outputs": [
    {
     "name": "stdout",
     "output_type": "stream",
     "text": [
      "5\n"
     ]
    }
   ],
   "source": [
    "print(a)"
   ]
  },
  {
   "cell_type": "code",
   "execution_count": 5,
   "id": "961c2098-9ce9-4965-8b94-28314c178f7e",
   "metadata": {},
   "outputs": [],
   "source": [
    "b=\"ayush\""
   ]
  },
  {
   "cell_type": "code",
   "execution_count": 6,
   "id": "2ff5eaee-98fa-4900-ae40-9128239da7a4",
   "metadata": {},
   "outputs": [
    {
     "data": {
      "text/plain": [
       "'a'"
      ]
     },
     "execution_count": 6,
     "metadata": {},
     "output_type": "execute_result"
    }
   ],
   "source": [
    "b[0]"
   ]
  },
  {
   "cell_type": "code",
   "execution_count": 7,
   "id": "afbbdc3c-8ffd-4f97-93fb-55bb546b0359",
   "metadata": {},
   "outputs": [
    {
     "data": {
      "text/plain": [
       "'u'"
      ]
     },
     "execution_count": 7,
     "metadata": {},
     "output_type": "execute_result"
    }
   ],
   "source": [
    "b[2]"
   ]
  },
  {
   "cell_type": "code",
   "execution_count": 8,
   "id": "e12f16b7-61ac-46f7-b5d0-5e7f59a1c5d5",
   "metadata": {},
   "outputs": [
    {
     "data": {
      "text/plain": [
       "'h'"
      ]
     },
     "execution_count": 8,
     "metadata": {},
     "output_type": "execute_result"
    }
   ],
   "source": [
    "b[-1]"
   ]
  },
  {
   "cell_type": "code",
   "execution_count": 9,
   "id": "db39b54e-8060-48bc-a9c3-53d83bfd2707",
   "metadata": {},
   "outputs": [
    {
     "data": {
      "text/plain": [
       "'y'"
      ]
     },
     "execution_count": 9,
     "metadata": {},
     "output_type": "execute_result"
    }
   ],
   "source": [
    "b[-4]"
   ]
  },
  {
   "cell_type": "code",
   "execution_count": 10,
   "id": "8b8155b8-39e6-40d0-b206-bf5cfd8df35e",
   "metadata": {},
   "outputs": [
    {
     "data": {
      "text/plain": [
       "'a'"
      ]
     },
     "execution_count": 10,
     "metadata": {},
     "output_type": "execute_result"
    }
   ],
   "source": [
    "b[-5]"
   ]
  },
  {
   "cell_type": "code",
   "execution_count": 11,
   "id": "d9e79a81-4f7c-46ac-b4e9-b9bb18bfc847",
   "metadata": {},
   "outputs": [],
   "source": [
    "#indexing done forward and backward forward-0,1,2,3,4,5\n",
    "# backward=-1,-2,-3,-4,-5,-6"
   ]
  },
  {
   "cell_type": "code",
   "execution_count": 13,
   "id": "281c8541-7ca5-4067-8314-481dfeb506e2",
   "metadata": {},
   "outputs": [
    {
     "data": {
      "text/plain": [
       "'ayu'"
      ]
     },
     "execution_count": 13,
     "metadata": {},
     "output_type": "execute_result"
    }
   ],
   "source": [
    "b[0:3] #giving data upperbound -1 so 3-1=2 so our data 0,1,2"
   ]
  },
  {
   "cell_type": "code",
   "execution_count": 15,
   "id": "5a560ee7-c16e-4d39-9577-923ba1e6a0d5",
   "metadata": {},
   "outputs": [],
   "source": [
    "c=\"pwskills\"\n"
   ]
  },
  {
   "cell_type": "code",
   "execution_count": 16,
   "id": "dac8307b-f4cf-4cc5-b0ca-b1b42aad40b0",
   "metadata": {},
   "outputs": [
    {
     "data": {
      "text/plain": [
       "'pw'"
      ]
     },
     "execution_count": 16,
     "metadata": {},
     "output_type": "execute_result"
    }
   ],
   "source": [
    "c[0:2]"
   ]
  },
  {
   "cell_type": "code",
   "execution_count": 17,
   "id": "2170521c-79cf-483c-b275-6a7fbb91c5f9",
   "metadata": {},
   "outputs": [
    {
     "data": {
      "text/plain": [
       "'psil'"
      ]
     },
     "execution_count": 17,
     "metadata": {},
     "output_type": "execute_result"
    }
   ],
   "source": [
    "c[0:8:2]# 2 use for jumping and creating alternate gap"
   ]
  },
  {
   "cell_type": "code",
   "execution_count": 18,
   "id": "05a00990-d7e2-469e-bd15-2d756f95134d",
   "metadata": {},
   "outputs": [
    {
     "data": {
      "text/plain": [
       "'pwskills'"
      ]
     },
     "execution_count": 18,
     "metadata": {},
     "output_type": "execute_result"
    }
   ],
   "source": [
    "c[0:8:1] # one is always jumping"
   ]
  },
  {
   "cell_type": "code",
   "execution_count": 19,
   "id": "c5b8df48-f2b5-4efb-b86d-a47628d951f8",
   "metadata": {},
   "outputs": [
    {
     "data": {
      "text/plain": [
       "'psil'"
      ]
     },
     "execution_count": 19,
     "metadata": {},
     "output_type": "execute_result"
    }
   ],
   "source": [
    "c[::2]# one more way to write and create a alternate gap"
   ]
  },
  {
   "cell_type": "code",
   "execution_count": 20,
   "id": "e0219039-50e0-43d2-a3b4-74c6445fe7aa",
   "metadata": {},
   "outputs": [
    {
     "data": {
      "text/plain": [
       "'psil'"
      ]
     },
     "execution_count": 20,
     "metadata": {},
     "output_type": "execute_result"
    }
   ],
   "source": [
    "c[0::2] # result same if we can't give ending index"
   ]
  },
  {
   "cell_type": "code",
   "execution_count": 21,
   "id": "39a954b8-79bc-4f2f-9a87-83165de254e1",
   "metadata": {},
   "outputs": [
    {
     "ename": "ValueError",
     "evalue": "slice step cannot be zero",
     "output_type": "error",
     "traceback": [
      "\u001b[0;31m---------------------------------------------------------------------------\u001b[0m",
      "\u001b[0;31mValueError\u001b[0m                                Traceback (most recent call last)",
      "Cell \u001b[0;32mIn[21], line 1\u001b[0m\n\u001b[0;32m----> 1\u001b[0m \u001b[43mc\u001b[49m\u001b[43m[\u001b[49m\u001b[43m:\u001b[49m\u001b[43m:\u001b[49m\u001b[38;5;241;43m0\u001b[39;49m\u001b[43m]\u001b[49m\n",
      "\u001b[0;31mValueError\u001b[0m: slice step cannot be zero"
     ]
    }
   ],
   "source": [
    "c[::0]# slice index can't be 0"
   ]
  },
  {
   "cell_type": "code",
   "execution_count": 22,
   "id": "4ddae2da-bff8-4f05-9859-c5960d9d25c1",
   "metadata": {},
   "outputs": [
    {
     "data": {
      "text/plain": [
       "'sllikswp'"
      ]
     },
     "execution_count": 22,
     "metadata": {},
     "output_type": "execute_result"
    }
   ],
   "source": [
    "c[::-1] # for reverse direction"
   ]
  },
  {
   "cell_type": "code",
   "execution_count": 23,
   "id": "b7f2cc31-4e17-4680-ae23-ec5e33c79cde",
   "metadata": {},
   "outputs": [
    {
     "data": {
      "text/plain": [
       "''"
      ]
     },
     "execution_count": 23,
     "metadata": {},
     "output_type": "execute_result"
    }
   ],
   "source": [
    "c[2:7:-1] # arising conflic because of different direction"
   ]
  },
  {
   "cell_type": "code",
   "execution_count": 24,
   "id": "fb69f5a5-6a81-42db-ac2a-9564cf56b200",
   "metadata": {},
   "outputs": [
    {
     "data": {
      "text/plain": [
       "''"
      ]
     },
     "execution_count": 24,
     "metadata": {},
     "output_type": "execute_result"
    }
   ],
   "source": [
    "c[8:0]# bydefault jump is possitive 1"
   ]
  },
  {
   "cell_type": "code",
   "execution_count": 27,
   "id": "11309f38-333d-46ec-88fd-23736ffe1c8a",
   "metadata": {},
   "outputs": [
    {
     "data": {
      "text/plain": [
       "'slkw'"
      ]
     },
     "execution_count": 27,
     "metadata": {},
     "output_type": "execute_result"
    }
   ],
   "source": [
    "c[8:0:-2]"
   ]
  },
  {
   "cell_type": "code",
   "execution_count": 28,
   "id": "c27566e1-f0f0-43f0-b7f5-1efc208c8134",
   "metadata": {},
   "outputs": [
    {
     "data": {
      "text/plain": [
       "'slliksw'"
      ]
     },
     "execution_count": 28,
     "metadata": {},
     "output_type": "execute_result"
    }
   ],
   "source": [
    "c[8:0:-1]# p is not availabe beacuase upperbount -1 "
   ]
  },
  {
   "cell_type": "code",
   "execution_count": 30,
   "id": "41fec7e9-0a82-4fe9-94c1-7c117fdb9d7b",
   "metadata": {},
   "outputs": [
    {
     "data": {
      "text/plain": [
       "'lliksw'"
      ]
     },
     "execution_count": 30,
     "metadata": {},
     "output_type": "execute_result"
    }
   ],
   "source": [
    "c[-2:-8:-1]"
   ]
  },
  {
   "cell_type": "code",
   "execution_count": 31,
   "id": "12c3063e-bbc3-4050-b834-8e6b85bd3b73",
   "metadata": {},
   "outputs": [
    {
     "data": {
      "text/plain": [
       "'llikswp'"
      ]
     },
     "execution_count": 31,
     "metadata": {},
     "output_type": "execute_result"
    }
   ],
   "source": [
    "c[-2::-1]"
   ]
  },
  {
   "cell_type": "code",
   "execution_count": 32,
   "id": "515fe43e-9162-4145-be43-8b38f31136c3",
   "metadata": {},
   "outputs": [
    {
     "data": {
      "text/plain": [
       "'sllikswp'"
      ]
     },
     "execution_count": 32,
     "metadata": {},
     "output_type": "execute_result"
    }
   ],
   "source": [
    "c[8::-1] #now p avialable becz if we noot give upeerbound system take is +1 full complete index of ending."
   ]
  },
  {
   "cell_type": "code",
   "execution_count": 33,
   "id": "7ea8739d-436d-42b1-909f-f7b072b3a409",
   "metadata": {},
   "outputs": [
    {
     "data": {
      "text/plain": [
       "'sllikswp'"
      ]
     },
     "execution_count": 33,
     "metadata": {},
     "output_type": "execute_result"
    }
   ],
   "source": [
    "c[::-1]#-1 so takkign reverse and we can't give upper or lower bound so system take all indexing automatically."
   ]
  },
  {
   "cell_type": "code",
   "execution_count": 34,
   "id": "f08631b7-e58e-4e4f-a667-0edb28102fa5",
   "metadata": {},
   "outputs": [
    {
     "ename": "IndexError",
     "evalue": "string index out of range",
     "output_type": "error",
     "traceback": [
      "\u001b[0;31m---------------------------------------------------------------------------\u001b[0m",
      "\u001b[0;31mIndexError\u001b[0m                                Traceback (most recent call last)",
      "Cell \u001b[0;32mIn[34], line 1\u001b[0m\n\u001b[0;32m----> 1\u001b[0m \u001b[43mc\u001b[49m\u001b[43m[\u001b[49m\u001b[38;5;241;43m90\u001b[39;49m\u001b[43m]\u001b[49m\n",
      "\u001b[0;31mIndexError\u001b[0m: string index out of range"
     ]
    }
   ],
   "source": [
    "c[90]"
   ]
  },
  {
   "cell_type": "code",
   "execution_count": 35,
   "id": "78c8a8ca-176a-4d11-9dc7-89658cdb5b6d",
   "metadata": {},
   "outputs": [
    {
     "data": {
      "text/plain": [
       "'pwskill'"
      ]
     },
     "execution_count": 35,
     "metadata": {},
     "output_type": "execute_result"
    }
   ],
   "source": [
    "c[-90:-1] # incase slicing we can give the index who can't vailable but our code still work."
   ]
  },
  {
   "cell_type": "code",
   "execution_count": 37,
   "id": "124e1c1d-36ac-4233-ae35-614aa07808e5",
   "metadata": {},
   "outputs": [],
   "source": [
    "d=200 # int store in same index so we can't fetch index"
   ]
  },
  {
   "cell_type": "code",
   "execution_count": 38,
   "id": "bed7cba4-ddd6-479f-8d3d-57de46bd3c30",
   "metadata": {},
   "outputs": [
    {
     "ename": "TypeError",
     "evalue": "'int' object is not subscriptable",
     "output_type": "error",
     "traceback": [
      "\u001b[0;31m---------------------------------------------------------------------------\u001b[0m",
      "\u001b[0;31mTypeError\u001b[0m                                 Traceback (most recent call last)",
      "Cell \u001b[0;32mIn[38], line 1\u001b[0m\n\u001b[0;32m----> 1\u001b[0m \u001b[43md\u001b[49m\u001b[43m[\u001b[49m\u001b[38;5;241;43m2\u001b[39;49m\u001b[43m]\u001b[49m\n",
      "\u001b[0;31mTypeError\u001b[0m: 'int' object is not subscriptable"
     ]
    }
   ],
   "source": [
    "d[2]"
   ]
  },
  {
   "cell_type": "code",
   "execution_count": 42,
   "id": "4ac9b811-3f7c-4716-896e-457064f945ff",
   "metadata": {},
   "outputs": [],
   "source": [
    "# now we need to convert int into string by typecasting\n"
   ]
  },
  {
   "cell_type": "code",
   "execution_count": 40,
   "id": "114eb9f0-3aa9-4898-b301-7eb960d23f32",
   "metadata": {},
   "outputs": [],
   "source": [
    "s=\"this is my class\" # string functions"
   ]
  },
  {
   "cell_type": "code",
   "execution_count": 41,
   "id": "156df3ea-b234-45c0-a78c-09cf28da2bfb",
   "metadata": {},
   "outputs": [
    {
     "data": {
      "text/plain": [
       "16"
      ]
     },
     "execution_count": 41,
     "metadata": {},
     "output_type": "execute_result"
    }
   ],
   "source": [
    "len(s) # for length of string "
   ]
  },
  {
   "cell_type": "code",
   "execution_count": 44,
   "id": "3e34884a-2449-4e6b-9c1d-b4b9c8a88186",
   "metadata": {},
   "outputs": [
    {
     "data": {
      "text/plain": [
       "3"
      ]
     },
     "execution_count": 44,
     "metadata": {},
     "output_type": "execute_result"
    }
   ],
   "source": [
    "s.find('s')"
   ]
  },
  {
   "cell_type": "code",
   "execution_count": 46,
   "id": "a5372b7e-efd2-49fa-8cae-21b63abedb60",
   "metadata": {},
   "outputs": [
    {
     "data": {
      "text/plain": [
       "2"
      ]
     },
     "execution_count": 46,
     "metadata": {},
     "output_type": "execute_result"
    }
   ],
   "source": [
    "s.find(\"i\")"
   ]
  },
  {
   "cell_type": "code",
   "execution_count": 47,
   "id": "fd0b2368-0449-4ace-bc65-bfc2a0a8646d",
   "metadata": {},
   "outputs": [
    {
     "data": {
      "text/plain": [
       "2"
      ]
     },
     "execution_count": 47,
     "metadata": {},
     "output_type": "execute_result"
    }
   ],
   "source": [
    "s.find(\"is\")"
   ]
  },
  {
   "cell_type": "code",
   "execution_count": 48,
   "id": "3a616f55-a87b-40db-a4ff-6b5221531b95",
   "metadata": {},
   "outputs": [
    {
     "data": {
      "text/plain": [
       "-1"
      ]
     },
     "execution_count": 48,
     "metadata": {},
     "output_type": "execute_result"
    }
   ],
   "source": [
    "s.find(\"iS\") # -1 is not find any number"
   ]
  },
  {
   "cell_type": "code",
   "execution_count": 49,
   "id": "e2f57936-7acd-4f35-b06d-67203d24c4e2",
   "metadata": {},
   "outputs": [],
   "source": [
    "# s.tab    any assignvariable. tab for getting functions "
   ]
  },
  {
   "cell_type": "code",
   "execution_count": 50,
   "id": "85aadd3b-670f-433a-8031-f48f08edf68a",
   "metadata": {},
   "outputs": [
    {
     "data": {
      "text/plain": [
       "4"
      ]
     },
     "execution_count": 50,
     "metadata": {},
     "output_type": "execute_result"
    }
   ],
   "source": [
    "s.count('s')\n",
    "# count function use for counting sub string in the parent string."
   ]
  },
  {
   "cell_type": "code",
   "execution_count": 51,
   "id": "6f1b2488-a8b1-4ff4-afe5-d1d71faa346e",
   "metadata": {},
   "outputs": [
    {
     "data": {
      "text/plain": [
       "'this is my class'"
      ]
     },
     "execution_count": 51,
     "metadata": {},
     "output_type": "execute_result"
    }
   ],
   "source": [
    "s"
   ]
  },
  {
   "cell_type": "code",
   "execution_count": 52,
   "id": "5468e304-13d0-4a5d-bc57-db9b0036d4f6",
   "metadata": {},
   "outputs": [
    {
     "data": {
      "text/plain": [
       "'THIS IS MY CLASS'"
      ]
     },
     "execution_count": 52,
     "metadata": {},
     "output_type": "execute_result"
    }
   ],
   "source": [
    "s.upper()"
   ]
  },
  {
   "cell_type": "code",
   "execution_count": 53,
   "id": "907ab54b-4056-46fe-b1cd-d4b3627c132b",
   "metadata": {},
   "outputs": [],
   "source": [
    "a=\"AYUSH KUAMR JHA\""
   ]
  },
  {
   "cell_type": "code",
   "execution_count": 54,
   "id": "d8d7ce11-44d6-40f4-812e-27f0295fe447",
   "metadata": {},
   "outputs": [
    {
     "data": {
      "text/plain": [
       "'ayush kuamr jha'"
      ]
     },
     "execution_count": 54,
     "metadata": {},
     "output_type": "execute_result"
    }
   ],
   "source": [
    "a.lower()"
   ]
  },
  {
   "cell_type": "code",
   "execution_count": 56,
   "id": "47f611f5-57e5-4758-8639-1c6ce23951df",
   "metadata": {},
   "outputs": [
    {
     "data": {
      "text/plain": [
       "'This Is My Class'"
      ]
     },
     "execution_count": 56,
     "metadata": {},
     "output_type": "execute_result"
    }
   ],
   "source": [
    "s.title()"
   ]
  },
  {
   "cell_type": "code",
   "execution_count": 57,
   "id": "9561f284-0be3-4e55-bc7f-5f076da2e7da",
   "metadata": {},
   "outputs": [
    {
     "data": {
      "text/plain": [
       "'Ayush Kuamr Jha'"
      ]
     },
     "execution_count": 57,
     "metadata": {},
     "output_type": "execute_result"
    }
   ],
   "source": [
    "a.title()"
   ]
  },
  {
   "cell_type": "code",
   "execution_count": 59,
   "id": "9572e643-3bb9-46a3-a611-754274e6d832",
   "metadata": {},
   "outputs": [
    {
     "data": {
      "text/plain": [
       "'This is my class'"
      ]
     },
     "execution_count": 59,
     "metadata": {},
     "output_type": "execute_result"
    }
   ],
   "source": [
    "s.capitalize()"
   ]
  },
  {
   "cell_type": "code",
   "execution_count": 60,
   "id": "3a3576f6-33a0-46c6-815f-59810b79766d",
   "metadata": {},
   "outputs": [
    {
     "data": {
      "text/plain": [
       "'this is my class'"
      ]
     },
     "execution_count": 60,
     "metadata": {},
     "output_type": "execute_result"
    }
   ],
   "source": [
    "s"
   ]
  },
  {
   "cell_type": "code",
   "execution_count": 61,
   "id": "bfd2fd15-8ac1-4dbb-9745-8835c3110d8a",
   "metadata": {},
   "outputs": [
    {
     "ename": "TypeError",
     "evalue": "can only concatenate str (not \"int\") to str",
     "output_type": "error",
     "traceback": [
      "\u001b[0;31m---------------------------------------------------------------------------\u001b[0m",
      "\u001b[0;31mTypeError\u001b[0m                                 Traceback (most recent call last)",
      "Cell \u001b[0;32mIn[61], line 1\u001b[0m\n\u001b[0;32m----> 1\u001b[0m \u001b[43ms\u001b[49m\u001b[38;5;241;43m+\u001b[39;49m\u001b[38;5;241;43m1\u001b[39;49m\n",
      "\u001b[0;31mTypeError\u001b[0m: can only concatenate str (not \"int\") to str"
     ]
    }
   ],
   "source": [
    "s+1 # not  adding string with integer"
   ]
  },
  {
   "cell_type": "code",
   "execution_count": 1,
   "id": "2173b1f6-9852-4259-b2f6-ed6ba692eb1f",
   "metadata": {},
   "outputs": [],
   "source": [
    "s=\"pwskills\""
   ]
  },
  {
   "cell_type": "code",
   "execution_count": 2,
   "id": "90fd0787-12f3-4a8c-af1e-aa1c9bcad101",
   "metadata": {},
   "outputs": [
    {
     "data": {
      "text/plain": [
       "'pwskillssudh'"
      ]
     },
     "execution_count": 2,
     "metadata": {},
     "output_type": "execute_result"
    }
   ],
   "source": [
    "s+\"sudh\""
   ]
  },
  {
   "cell_type": "code",
   "execution_count": 3,
   "id": "7295a0fa-95a9-44df-add8-d113258e5be8",
   "metadata": {},
   "outputs": [
    {
     "ename": "TypeError",
     "evalue": "can only concatenate str (not \"int\") to str",
     "output_type": "error",
     "traceback": [
      "\u001b[0;31m---------------------------------------------------------------------------\u001b[0m",
      "\u001b[0;31mTypeError\u001b[0m                                 Traceback (most recent call last)",
      "Cell \u001b[0;32mIn[3], line 1\u001b[0m\n\u001b[0;32m----> 1\u001b[0m \u001b[43ms\u001b[49m\u001b[38;5;241;43m+\u001b[39;49m\u001b[38;5;241;43m1\u001b[39;49m\n",
      "\u001b[0;31mTypeError\u001b[0m: can only concatenate str (not \"int\") to str"
     ]
    }
   ],
   "source": [
    "s+1\n"
   ]
  },
  {
   "cell_type": "code",
   "execution_count": 4,
   "id": "be7feb61-8e4b-4c78-ab50-853d75937932",
   "metadata": {},
   "outputs": [
    {
     "data": {
      "text/plain": [
       "'pwskills1'"
      ]
     },
     "execution_count": 4,
     "metadata": {},
     "output_type": "execute_result"
    }
   ],
   "source": [
    "s+\"1\" # typecasting"
   ]
  },
  {
   "cell_type": "code",
   "execution_count": 5,
   "id": "efddcd20-60c3-42cc-9f6f-69dea0dee616",
   "metadata": {},
   "outputs": [
    {
     "data": {
      "text/plain": [
       "'pwskillspwskillspwskills'"
      ]
     },
     "execution_count": 5,
     "metadata": {},
     "output_type": "execute_result"
    }
   ],
   "source": [
    "s*3"
   ]
  },
  {
   "cell_type": "code",
   "execution_count": 6,
   "id": "4b634fd4-45f1-454d-b8c3-e3834baef935",
   "metadata": {},
   "outputs": [
    {
     "ename": "TypeError",
     "evalue": "unsupported operand type(s) for /: 'str' and 'int'",
     "output_type": "error",
     "traceback": [
      "\u001b[0;31m---------------------------------------------------------------------------\u001b[0m",
      "\u001b[0;31mTypeError\u001b[0m                                 Traceback (most recent call last)",
      "Cell \u001b[0;32mIn[6], line 1\u001b[0m\n\u001b[0;32m----> 1\u001b[0m \u001b[43ms\u001b[49m\u001b[38;5;241;43m/\u001b[39;49m\u001b[38;5;241;43m2\u001b[39;49m\n",
      "\u001b[0;31mTypeError\u001b[0m: unsupported operand type(s) for /: 'str' and 'int'"
     ]
    }
   ],
   "source": [
    "s/2"
   ]
  },
  {
   "cell_type": "code",
   "execution_count": 7,
   "id": "a778fbcc-a2d4-47ad-bd6d-5d75e7e9db1d",
   "metadata": {},
   "outputs": [
    {
     "ename": "TypeError",
     "evalue": "unsupported operand type(s) for -: 'str' and 'int'",
     "output_type": "error",
     "traceback": [
      "\u001b[0;31m---------------------------------------------------------------------------\u001b[0m",
      "\u001b[0;31mTypeError\u001b[0m                                 Traceback (most recent call last)",
      "Cell \u001b[0;32mIn[7], line 1\u001b[0m\n\u001b[0;32m----> 1\u001b[0m \u001b[43ms\u001b[49m\u001b[38;5;241;43m-\u001b[39;49m\u001b[38;5;241;43m2\u001b[39;49m\n",
      "\u001b[0;31mTypeError\u001b[0m: unsupported operand type(s) for -: 'str' and 'int'"
     ]
    }
   ],
   "source": [
    "s-2"
   ]
  },
  {
   "cell_type": "code",
   "execution_count": 8,
   "id": "d38ed415-654b-4ac3-a4b7-4903e29e93ed",
   "metadata": {},
   "outputs": [
    {
     "ename": "TypeError",
     "evalue": "unsupported operand type(s) for -: 'str' and 'str'",
     "output_type": "error",
     "traceback": [
      "\u001b[0;31m---------------------------------------------------------------------------\u001b[0m",
      "\u001b[0;31mTypeError\u001b[0m                                 Traceback (most recent call last)",
      "Cell \u001b[0;32mIn[8], line 1\u001b[0m\n\u001b[0;32m----> 1\u001b[0m \u001b[43ms\u001b[49m\u001b[38;5;241;43m-\u001b[39;49m\u001b[38;5;124;43m\"\u001b[39;49m\u001b[38;5;124;43m2\u001b[39;49m\u001b[38;5;124;43m\"\u001b[39;49m\n",
      "\u001b[0;31mTypeError\u001b[0m: unsupported operand type(s) for -: 'str' and 'str'"
     ]
    }
   ],
   "source": [
    "s-\"2\""
   ]
  },
  {
   "cell_type": "code",
   "execution_count": 10,
   "id": "df230e17-64be-438a-9c42-e2d19ddaaf45",
   "metadata": {},
   "outputs": [
    {
     "data": {
      "text/plain": [
       "\"don't do copy and paste in my class\""
      ]
     },
     "execution_count": 10,
     "metadata": {},
     "output_type": "execute_result"
    }
   ],
   "source": [
    "\"don't do copy and paste in my class\"  #if u use single closed inside the use double courts as a string"
   ]
  },
  {
   "cell_type": "code",
   "execution_count": 11,
   "id": "8cc59de5-e4bc-4608-b23d-0618388e5a88",
   "metadata": {},
   "outputs": [],
   "source": [
    "# is use for single line comments"
   ]
  },
  {
   "cell_type": "code",
   "execution_count": 12,
   "id": "f8634ceb-acea-473a-b2ed-3ade59291bb6",
   "metadata": {},
   "outputs": [
    {
     "data": {
      "text/plain": [
       "' for multiline comments \\ntriple cots is used for multilines comments \\nin python.\\n\\n'"
      ]
     },
     "execution_count": 12,
     "metadata": {},
     "output_type": "execute_result"
    }
   ],
   "source": [
    "\"\"\" for multiline comments \n",
    "triple cots is used for multilines comments \n",
    "in python.\n",
    "\n",
    "\"\"\""
   ]
  },
  {
   "cell_type": "code",
   "execution_count": 13,
   "id": "1528b352-a837-4f58-a28c-5608b0ac0148",
   "metadata": {},
   "outputs": [],
   "source": [
    "# kahuid\n",
    "# akdksic\n",
    "# kabdsuhiuda\n",
    "# comamnd backslash use as a shortcut\n",
    "# select all and comamnd backsalsh."
   ]
  },
  {
   "cell_type": "code",
   "execution_count": 14,
   "id": "2c5dd0e7-44d9-4836-b8a8-7dc5d182cd45",
   "metadata": {},
   "outputs": [],
   "source": [
    "s=\"pwskilss\""
   ]
  },
  {
   "cell_type": "code",
   "execution_count": 15,
   "id": "566c637c-9be2-4a05-86f1-a4659cb6580a",
   "metadata": {},
   "outputs": [
    {
     "data": {
      "text/plain": [
       "'sslikswp'"
      ]
     },
     "execution_count": 15,
     "metadata": {},
     "output_type": "execute_result"
    }
   ],
   "source": [
    "s[::-1]"
   ]
  },
  {
   "cell_type": "code",
   "execution_count": 16,
   "id": "67ef146d-318a-4d54-afe8-f9ac1aa7ba03",
   "metadata": {},
   "outputs": [
    {
     "data": {
      "text/plain": [
       "'p'"
      ]
     },
     "execution_count": 16,
     "metadata": {},
     "output_type": "execute_result"
    }
   ],
   "source": [
    "s[-8::-1]"
   ]
  },
  {
   "cell_type": "code",
   "execution_count": 18,
   "id": "62b7bda4-7da1-437f-a532-e4e61c88e143",
   "metadata": {},
   "outputs": [
    {
     "data": {
      "text/plain": [
       "'P'"
      ]
     },
     "execution_count": 18,
     "metadata": {},
     "output_type": "execute_result"
    }
   ],
   "source": [
    "s[-8::-1].upper() # using string method with slicing"
   ]
  },
  {
   "cell_type": "code",
   "execution_count": 19,
   "id": "512a14a8-8400-476e-b94e-362c5d1ca106",
   "metadata": {},
   "outputs": [],
   "source": [
    "s=\"myskills\""
   ]
  },
  {
   "cell_type": "code",
   "execution_count": 22,
   "id": "a520ff3b-5e1f-4cf7-8ed5-7d43ee12d775",
   "metadata": {},
   "outputs": [
    {
     "data": {
      "text/plain": [
       "'slliksym'"
      ]
     },
     "execution_count": 22,
     "metadata": {},
     "output_type": "execute_result"
    }
   ],
   "source": [
    "s[:-9:-1]"
   ]
  },
  {
   "cell_type": "code",
   "execution_count": 21,
   "id": "1e71a04d-3adc-45ba-b360-e7266fa4f511",
   "metadata": {},
   "outputs": [
    {
     "data": {
      "text/plain": [
       "'myskills'"
      ]
     },
     "execution_count": 21,
     "metadata": {},
     "output_type": "execute_result"
    }
   ],
   "source": [
    "s"
   ]
  },
  {
   "cell_type": "code",
   "execution_count": 29,
   "id": "841ad9d1-18da-4f31-ad3e-d80376210c35",
   "metadata": {},
   "outputs": [],
   "source": [
    "a=1"
   ]
  },
  {
   "cell_type": "code",
   "execution_count": 30,
   "id": "d6ac0b08-f6b9-4d19-8aa9-4c7aaaae8924",
   "metadata": {},
   "outputs": [],
   "source": [
    "b=3"
   ]
  },
  {
   "cell_type": "code",
   "execution_count": 31,
   "id": "ca381012-cf71-4ba5-9502-9110758f1894",
   "metadata": {},
   "outputs": [
    {
     "data": {
      "text/plain": [
       "int"
      ]
     },
     "execution_count": 31,
     "metadata": {},
     "output_type": "execute_result"
    }
   ],
   "source": [
    "type(a)"
   ]
  },
  {
   "cell_type": "code",
   "execution_count": 32,
   "id": "1ac10436-e74a-4e24-b890-694075db7e81",
   "metadata": {},
   "outputs": [
    {
     "data": {
      "text/plain": [
       "int"
      ]
     },
     "execution_count": 32,
     "metadata": {},
     "output_type": "execute_result"
    }
   ],
   "source": [
    "type(b)"
   ]
  },
  {
   "cell_type": "code",
   "execution_count": 33,
   "id": "4221a004-24bb-47d3-8ff1-d9cdf1c97735",
   "metadata": {},
   "outputs": [
    {
     "data": {
      "text/plain": [
       "'n/hsuya'"
      ]
     },
     "execution_count": 33,
     "metadata": {},
     "output_type": "execute_result"
    }
   ],
   "source": [
    "s[-2::-1]"
   ]
  },
  {
   "cell_type": "code",
   "execution_count": null,
   "id": "925c7ba1-5db4-43a8-8930-c5d8f64174b1",
   "metadata": {},
   "outputs": [],
   "source": []
  }
 ],
 "metadata": {
  "kernelspec": {
   "display_name": "Python 3 (ipykernel)",
   "language": "python",
   "name": "python3"
  },
  "language_info": {
   "codemirror_mode": {
    "name": "ipython",
    "version": 3
   },
   "file_extension": ".py",
   "mimetype": "text/x-python",
   "name": "python",
   "nbconvert_exporter": "python",
   "pygments_lexer": "ipython3",
   "version": "3.10.8"
  }
 },
 "nbformat": 4,
 "nbformat_minor": 5
}
