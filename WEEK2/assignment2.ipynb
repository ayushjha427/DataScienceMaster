{
 "cells": [
  {
   "cell_type": "markdown",
   "id": "1c393ac0-8c9a-4dc9-835a-bfd64d041239",
   "metadata": {},
   "source": [
    "Q1. How do you comment code in Python? What are the different types of comments?"
   ]
  },
  {
   "cell_type": "markdown",
   "id": "663b53f9-ea01-4666-aaec-30b4952694de",
   "metadata": {},
   "source": [
    "#ANS.\n",
    "#we have two types commet single line and multiline comments\n",
    "# using hash symbol  we comment in python- single line comment\n",
    "\"\"\" Multi-line comment used\n",
    "in pythin by  \"\"\"\n",
    "#or we can write like this\n",
    "''' my name is \n",
    "ayush kumar jha '''"
   ]
  },
  {
   "cell_type": "markdown",
   "id": "e01a66e3-0b97-41a0-a5b3-8773fa3379be",
   "metadata": {},
   "source": [
    "Q2. What are variables in Python? How do you declare and assign values to variables?"
   ]
  },
  {
   "cell_type": "markdown",
   "id": "b767921c-29ba-42a9-920e-da8be4bf13b4",
   "metadata": {},
   "source": [
    "  ans. variables that point to object \n",
    "and we stores values in the variable"
   ]
  },
  {
   "cell_type": "code",
   "execution_count": 1,
   "id": "af0542f2-436c-481e-a353-6c053f8f3712",
   "metadata": {},
   "outputs": [
    {
     "name": "stdout",
     "output_type": "stream",
     "text": [
      "ayush kumar jha\n",
      "19\n"
     ]
    }
   ],
   "source": [
    "#declare and assign like\n",
    "name=\"ayush kumar jha\"\n",
    "age = 19\n",
    "print(name)\n",
    "print(age)\n"
   ]
  },
  {
   "cell_type": "markdown",
   "id": "0e84b121-5527-4408-ab9d-e82cf8d52fbc",
   "metadata": {},
   "source": [
    "Q3. How do you convert one data type to another in Python?"
   ]
  },
  {
   "cell_type": "code",
   "execution_count": 2,
   "id": "933a6d50-1a67-4e73-b4a6-1c598d232ca9",
   "metadata": {},
   "outputs": [
    {
     "name": "stdout",
     "output_type": "stream",
     "text": [
      "3\n"
     ]
    }
   ],
   "source": [
    "#convert one data type to another in python by using typecasting\n",
    "a = \"1\"\n",
    "b = \"2\"\n",
    "\n",
    "print(int(a)+int(b)) # typecasting string to integer"
   ]
  },
  {
   "cell_type": "markdown",
   "id": "b6753ddf-53e5-445e-99c8-07de38de9abf",
   "metadata": {},
   "source": [
    "Q4. How do you write and execute a Python script from the command line?"
   ]
  },
  {
   "cell_type": "markdown",
   "id": "8877e6ea-b8fb-420b-86bb-77600baf59f8",
   "metadata": {},
   "source": [
    " python3 filename.py by using this comamnd in terminal\n",
    " 3 after python is basically version of python in some devices that needed or not in some like for mac or linux python3 and for window only python"
   ]
  },
  {
   "cell_type": "markdown",
   "id": "477030d8-2aca-448f-bff7-0f9aa9a6bd49",
   "metadata": {},
   "source": [
    "Q5. Given a list my_list = [1, 2, 3, 4, 5], write the code to slice the list and obtain the sub-list [2, 3]."
   ]
  },
  {
   "cell_type": "code",
   "execution_count": 4,
   "id": "d757d08d-8ed2-4a7f-baec-8cd488b87d63",
   "metadata": {},
   "outputs": [
    {
     "data": {
      "text/plain": [
       "[2, 3]"
      ]
     },
     "execution_count": 4,
     "metadata": {},
     "output_type": "execute_result"
    }
   ],
   "source": [
    "#Ans 5.\n",
    "my_list = [1,2,3,4,5]\n",
    "my_list[1:3]"
   ]
  },
  {
   "cell_type": "markdown",
   "id": "a43dbb86-42b7-4a05-bd55-3ae54ee88e5b",
   "metadata": {},
   "source": [
    "Q6. What is a complex number in mathematics, and how is it represented in Python?"
   ]
  },
  {
   "cell_type": "markdown",
   "id": "172bf91b-0bb3-4d65-9f49-a4318cbde08b",
   "metadata": {},
   "source": [
    " Ans.  complex number in math represent by a+ib formula where a and b is real number an i is imaginary number\n",
    "also i is known as iota\n",
    "note:-in maths we represent by i but in python we use j.\n",
    "representation in python given below"
   ]
  },
  {
   "cell_type": "code",
   "execution_count": 5,
   "id": "b231d8ea-a3c4-4374-b7c6-84dfbdb199b7",
   "metadata": {},
   "outputs": [],
   "source": [
    "z  = 3 + 4j"
   ]
  },
  {
   "cell_type": "code",
   "execution_count": 6,
   "id": "223aea40-fa9b-475b-945c-0933a13d8d94",
   "metadata": {},
   "outputs": [
    {
     "data": {
      "text/plain": [
       "4.0"
      ]
     },
     "execution_count": 6,
     "metadata": {},
     "output_type": "execute_result"
    }
   ],
   "source": [
    "z.imag"
   ]
  },
  {
   "cell_type": "markdown",
   "id": "c9002329-8ad4-4d94-ad79-175bd3308b4c",
   "metadata": {},
   "source": [
    "Q7. What is the correct way to declare a variable named age and assign the value 25 to it?"
   ]
  },
  {
   "cell_type": "code",
   "execution_count": 7,
   "id": "8ea77709-3046-4c63-8a03-6dc058e0d8cb",
   "metadata": {},
   "outputs": [],
   "source": [
    "#Ans.7\n",
    "age = 25"
   ]
  },
  {
   "cell_type": "code",
   "execution_count": 8,
   "id": "a17bb81d-0cc0-408d-b190-5307824e8a5f",
   "metadata": {},
   "outputs": [
    {
     "data": {
      "text/plain": [
       "25"
      ]
     },
     "execution_count": 8,
     "metadata": {},
     "output_type": "execute_result"
    }
   ],
   "source": [
    "age"
   ]
  },
  {
   "cell_type": "markdown",
   "id": "a91c14aa-7b83-4150-9d75-13a469f0b0fc",
   "metadata": {},
   "source": [
    "Q8. Declare a variable named price and assign the value 9.99 to it. What data type does this variable\n",
    "belong to?"
   ]
  },
  {
   "cell_type": "code",
   "execution_count": 9,
   "id": "40edc74e-6571-489d-8144-8c713aa0724e",
   "metadata": {},
   "outputs": [],
   "source": [
    "price = 9.99"
   ]
  },
  {
   "cell_type": "code",
   "execution_count": 10,
   "id": "84ca84ac-1efd-4cc1-acac-129bdf89a934",
   "metadata": {},
   "outputs": [
    {
     "data": {
      "text/plain": [
       "float"
      ]
     },
     "execution_count": 10,
     "metadata": {},
     "output_type": "execute_result"
    }
   ],
   "source": [
    "type(price) "
   ]
  },
  {
   "cell_type": "markdown",
   "id": "a2352aaa-2dfd-4f8d-a12e-75f4cf0fdbeb",
   "metadata": {},
   "source": [
    "ans. so the value is belong to the float data type"
   ]
  },
  {
   "cell_type": "markdown",
   "id": "db52a621-6a3f-48c5-bd7a-d3f5537eb192",
   "metadata": {},
   "source": [
    "Q9. Create a variable named name and assign your full name to it as a string. How would you print the\n",
    "value of this variable?"
   ]
  },
  {
   "cell_type": "code",
   "execution_count": 14,
   "id": "aec5370e-bed0-4be7-9ced-43b15ee62dd0",
   "metadata": {},
   "outputs": [
    {
     "name": "stdout",
     "output_type": "stream",
     "text": [
      "Ayush Kumar Jha\n"
     ]
    }
   ],
   "source": [
    "name = (\"Ayush Kumar Jha\")\n",
    "print(name)"
   ]
  },
  {
   "cell_type": "markdown",
   "id": "1e23c0b1-0d9e-4baa-adad-4d80fcaf16cf",
   "metadata": {},
   "source": [
    "Q10. Given the string \"Hello, World!\", extract the substring \"World\"."
   ]
  },
  {
   "cell_type": "code",
   "execution_count": 16,
   "id": "a5d4f08d-fec5-488e-a70e-9c1a142ec930",
   "metadata": {},
   "outputs": [
    {
     "name": "stdout",
     "output_type": "stream",
     "text": [
      "World\n"
     ]
    }
   ],
   "source": [
    "string = (\"Hello,World!\")\n",
    "print(string[6:11])"
   ]
  },
  {
   "cell_type": "markdown",
   "id": "1dccfbe2-c587-4390-a301-c3c52ed9c261",
   "metadata": {},
   "source": [
    "Q11. Create a variable named \"is_student\" and assign it a boolean value indicating whether you are\n",
    "currently a student or not."
   ]
  },
  {
   "cell_type": "code",
   "execution_count": 21,
   "id": "5d1e0b48-83e0-472f-996d-5902533d2d93",
   "metadata": {},
   "outputs": [
    {
     "name": "stdout",
     "output_type": "stream",
     "text": [
      "you are a student\n"
     ]
    }
   ],
   "source": [
    "is_student=True\n",
    "if(is_student==True):\n",
    "    print(\"you are a student\")\n",
    "else :\n",
    "    print(\"you are not a student\")"
   ]
  },
  {
   "cell_type": "code",
   "execution_count": null,
   "id": "abda0e6d-310d-4712-80a2-b4dd4f23b1ca",
   "metadata": {},
   "outputs": [],
   "source": []
  }
 ],
 "metadata": {
  "kernelspec": {
   "display_name": "Python 3 (ipykernel)",
   "language": "python",
   "name": "python3"
  },
  "language_info": {
   "codemirror_mode": {
    "name": "ipython",
    "version": 3
   },
   "file_extension": ".py",
   "mimetype": "text/x-python",
   "name": "python",
   "nbconvert_exporter": "python",
   "pygments_lexer": "ipython3",
   "version": "3.10.8"
  }
 },
 "nbformat": 4,
 "nbformat_minor": 5
}
