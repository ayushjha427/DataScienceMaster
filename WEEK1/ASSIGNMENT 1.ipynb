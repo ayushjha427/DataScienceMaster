{
 "cells": [
  {
   "cell_type": "markdown",
   "id": "ce391cf8-ea4a-48f6-8603-3f8c159e67b0",
   "metadata": {},
   "source": [
    "\n",
    "Q1.Create one variable containing following type of data:\n",
    "(i) string\n",
    "(ii) list\n",
    "(iii) float\n",
    "(iv) tuple\n"
   ]
  },
  {
   "cell_type": "code",
   "execution_count": 2,
   "id": "cb822a23-d957-4902-9f97-3d4624f30efc",
   "metadata": {},
   "outputs": [],
   "source": [
    "#Answer\n",
    "name=\"ayush kumar jha\"\n",
    "l=[2,4,5.6,\"ayush\",\"pwskills\",True]\n",
    "number=55.6\n",
    "T=(20,44.5,\"ayush\",[1,2,3])"
   ]
  },
  {
   "cell_type": "markdown",
   "id": "5f4d7dd7-38ae-465f-a04a-37c8662505fb",
   "metadata": {},
   "source": [
    "Q2.Given are some following variables containing data:\n",
    "(i) var1 = ‘ ‘\n",
    "(ii) var2 = ‘[ DS , ML , Python]’\n",
    "(iii) var3 = [ ‘DS’ , ’ML’ , ‘Python’ ]\n",
    "(iv) var4 = 1.\n",
    "What will be the data type of the above given variable."
   ]
  },
  {
   "cell_type": "markdown",
   "id": "256dc990-ac5b-4fa4-b764-1982689ec221",
   "metadata": {},
   "source": [
    "ANSWER \n",
    "(i)=string\n",
    "(ii)=string\n",
    "(iii)=list\n",
    "(iv)=integer"
   ]
  },
  {
   "cell_type": "code",
   "execution_count": 14,
   "id": "3ea35717-550b-442b-86f2-8bd38602d7f6",
   "metadata": {},
   "outputs": [],
   "source": [
    "var1=''\n",
    "var2='[DS,ML,Python]'\n",
    "var3=['DS','ML','Python']\n",
    "var4=1\n",
    "      "
   ]
  },
  {
   "cell_type": "code",
   "execution_count": 15,
   "id": "8d0f76ae-349f-416c-b61a-cccc71f54607",
   "metadata": {},
   "outputs": [
    {
     "data": {
      "text/plain": [
       "str"
      ]
     },
     "execution_count": 15,
     "metadata": {},
     "output_type": "execute_result"
    }
   ],
   "source": [
    "type(var1)"
   ]
  },
  {
   "cell_type": "code",
   "execution_count": 16,
   "id": "ca119fd9-44ea-48cb-88ae-e8748a6623a3",
   "metadata": {},
   "outputs": [
    {
     "data": {
      "text/plain": [
       "str"
      ]
     },
     "execution_count": 16,
     "metadata": {},
     "output_type": "execute_result"
    }
   ],
   "source": [
    "type(var2)"
   ]
  },
  {
   "cell_type": "code",
   "execution_count": 17,
   "id": "6afd6874-5c4b-4ff7-9822-ceaa99f6329b",
   "metadata": {},
   "outputs": [
    {
     "data": {
      "text/plain": [
       "list"
      ]
     },
     "execution_count": 17,
     "metadata": {},
     "output_type": "execute_result"
    }
   ],
   "source": [
    "type(var3)"
   ]
  },
  {
   "cell_type": "code",
   "execution_count": 18,
   "id": "79aacbe9-d407-4029-8715-1c09291ec6d0",
   "metadata": {},
   "outputs": [
    {
     "data": {
      "text/plain": [
       "int"
      ]
     },
     "execution_count": 18,
     "metadata": {},
     "output_type": "execute_result"
    }
   ],
   "source": [
    "type(var4)"
   ]
  },
  {
   "cell_type": "markdown",
   "id": "e1f09982-38d2-4552-a591-1b4020245561",
   "metadata": {},
   "source": [
    "Q3.Explain the use of the following operators using an example:\n",
    "(i) /\n",
    "(ii) %\n",
    "(iii) //\n",
    "(iv) **"
   ]
  },
  {
   "cell_type": "code",
   "execution_count": 20,
   "id": "fbeceece-d6c7-4345-ab84-face9a6e1396",
   "metadata": {},
   "outputs": [
    {
     "data": {
      "text/plain": [
       "2.0"
      ]
     },
     "execution_count": 20,
     "metadata": {},
     "output_type": "execute_result"
    }
   ],
   "source": [
    "10/5  #division operator (i)"
   ]
  },
  {
   "cell_type": "code",
   "execution_count": 21,
   "id": "6f4977c7-2a52-4bf8-96ad-9faedbacf023",
   "metadata": {},
   "outputs": [
    {
     "data": {
      "text/plain": [
       "2"
      ]
     },
     "execution_count": 21,
     "metadata": {},
     "output_type": "execute_result"
    }
   ],
   "source": [
    "12%5 # module operator for reminer(ii)"
   ]
  },
  {
   "cell_type": "code",
   "execution_count": 23,
   "id": "21a0f8bc-12f9-4d0e-971a-7c004a810061",
   "metadata": {},
   "outputs": [
    {
     "data": {
      "text/plain": [
       "2"
      ]
     },
     "execution_count": 23,
     "metadata": {},
     "output_type": "execute_result"
    }
   ],
   "source": [
    "11//5 # division floor operator (iii)"
   ]
  },
  {
   "cell_type": "code",
   "execution_count": 24,
   "id": "87e1f0c1-f8bb-4066-8c95-3f7cf7a696fe",
   "metadata": {},
   "outputs": [
    {
     "data": {
      "text/plain": [
       "8"
      ]
     },
     "execution_count": 24,
     "metadata": {},
     "output_type": "execute_result"
    }
   ],
   "source": [
    "2**3 #power operator or exponential operator."
   ]
  },
  {
   "cell_type": "markdown",
   "id": "b77386a1-1bba-44e7-8cd8-42bf1c5f77ce",
   "metadata": {},
   "source": [
    "Q4. Create a list of length 10 of your choice containing multiple types of data. Using for loop print the\n",
    "element and its data type."
   ]
  },
  {
   "cell_type": "code",
   "execution_count": null,
   "id": "44761cc2-b19b-4704-9ade-e75a8c278722",
   "metadata": {},
   "outputs": [],
   "source": []
  }
 ],
 "metadata": {
  "kernelspec": {
   "display_name": "Python 3 (ipykernel)",
   "language": "python",
   "name": "python3"
  },
  "language_info": {
   "codemirror_mode": {
    "name": "ipython",
    "version": 3
   },
   "file_extension": ".py",
   "mimetype": "text/x-python",
   "name": "python",
   "nbconvert_exporter": "python",
   "pygments_lexer": "ipython3",
   "version": "3.10.8"
  }
 },
 "nbformat": 4,
 "nbformat_minor": 5
}
