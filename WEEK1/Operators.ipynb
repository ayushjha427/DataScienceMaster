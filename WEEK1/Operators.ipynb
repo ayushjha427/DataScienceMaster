{
 "cells": [
  {
   "cell_type": "code",
   "execution_count": 1,
   "id": "3e8f6c56-c774-4fa8-9e8a-3d4b276211ff",
   "metadata": {},
   "outputs": [
    {
     "data": {
      "text/plain": [
       "3"
      ]
     },
     "execution_count": 1,
     "metadata": {},
     "output_type": "execute_result"
    }
   ],
   "source": [
    "1+2 #Airthmetic operators"
   ]
  },
  {
   "cell_type": "code",
   "execution_count": 2,
   "id": "53377e6b-fe68-4ae8-a928-caef2914d617",
   "metadata": {},
   "outputs": [
    {
     "data": {
      "text/plain": [
       "1"
      ]
     },
     "execution_count": 2,
     "metadata": {},
     "output_type": "execute_result"
    }
   ],
   "source": [
    "3-2"
   ]
  },
  {
   "cell_type": "code",
   "execution_count": 3,
   "id": "09d1aefd-69a6-46e5-8d77-555053e54514",
   "metadata": {},
   "outputs": [
    {
     "data": {
      "text/plain": [
       "32"
      ]
     },
     "execution_count": 3,
     "metadata": {},
     "output_type": "execute_result"
    }
   ],
   "source": [
    "4*8"
   ]
  },
  {
   "cell_type": "code",
   "execution_count": 4,
   "id": "3052592c-588b-4658-9a2a-9e55ef683c99",
   "metadata": {},
   "outputs": [
    {
     "data": {
      "text/plain": [
       "2.0"
      ]
     },
     "execution_count": 4,
     "metadata": {},
     "output_type": "execute_result"
    }
   ],
   "source": [
    "4/2"
   ]
  },
  {
   "cell_type": "code",
   "execution_count": 5,
   "id": "8162c444-0bf4-426f-8978-9e6f087bcea0",
   "metadata": {},
   "outputs": [
    {
     "data": {
      "text/plain": [
       "2"
      ]
     },
     "execution_count": 5,
     "metadata": {},
     "output_type": "execute_result"
    }
   ],
   "source": [
    "5%3"
   ]
  },
  {
   "cell_type": "code",
   "execution_count": 6,
   "id": "b77d283c-3a25-4bde-b046-27ed27c40700",
   "metadata": {},
   "outputs": [
    {
     "data": {
      "text/plain": [
       "1"
      ]
     },
     "execution_count": 6,
     "metadata": {},
     "output_type": "execute_result"
    }
   ],
   "source": [
    "5%4"
   ]
  },
  {
   "cell_type": "code",
   "execution_count": 7,
   "id": "ebd68616-7ea2-4095-9af6-1a74bf62193f",
   "metadata": {},
   "outputs": [
    {
     "data": {
      "text/plain": [
       "1"
      ]
     },
     "execution_count": 7,
     "metadata": {},
     "output_type": "execute_result"
    }
   ],
   "source": [
    "5//4 # division floor operator "
   ]
  },
  {
   "cell_type": "code",
   "execution_count": 8,
   "id": "de613c41-1d30-46bb-87f6-dbe4006938a0",
   "metadata": {},
   "outputs": [
    {
     "data": {
      "text/plain": [
       "1"
      ]
     },
     "execution_count": 8,
     "metadata": {},
     "output_type": "execute_result"
    }
   ],
   "source": [
    "1**3 "
   ]
  },
  {
   "cell_type": "code",
   "execution_count": 9,
   "id": "79be534b-0024-4006-bc29-320601b3bab6",
   "metadata": {},
   "outputs": [
    {
     "data": {
      "text/plain": [
       "8"
      ]
     },
     "execution_count": 9,
     "metadata": {},
     "output_type": "execute_result"
    }
   ],
   "source": [
    "2**3 #power operator or exponential operator."
   ]
  },
  {
   "cell_type": "code",
   "execution_count": 10,
   "id": "d3df069b-1bac-46a9-a4e7-58945b738076",
   "metadata": {},
   "outputs": [],
   "source": [
    "#comparison operatora now"
   ]
  },
  {
   "cell_type": "code",
   "execution_count": 11,
   "id": "a130a171-d7c9-41d7-b3e8-dab47d72bf1b",
   "metadata": {},
   "outputs": [
    {
     "data": {
      "text/plain": [
       "True"
      ]
     },
     "execution_count": 11,
     "metadata": {},
     "output_type": "execute_result"
    }
   ],
   "source": [
    "1<2"
   ]
  },
  {
   "cell_type": "code",
   "execution_count": 12,
   "id": "44dd4d1e-ba5b-4807-aa75-b3dbb8f6581e",
   "metadata": {},
   "outputs": [
    {
     "data": {
      "text/plain": [
       "False"
      ]
     },
     "execution_count": 12,
     "metadata": {},
     "output_type": "execute_result"
    }
   ],
   "source": [
    "2<1"
   ]
  },
  {
   "cell_type": "code",
   "execution_count": 13,
   "id": "62d17e3f-d1ef-4aec-bbc9-c85df3e6f557",
   "metadata": {},
   "outputs": [
    {
     "data": {
      "text/plain": [
       "False"
      ]
     },
     "execution_count": 13,
     "metadata": {},
     "output_type": "execute_result"
    }
   ],
   "source": [
    "1==2"
   ]
  },
  {
   "cell_type": "code",
   "execution_count": 14,
   "id": "b0566098-107a-442a-8c62-9330a4e0d699",
   "metadata": {},
   "outputs": [
    {
     "data": {
      "text/plain": [
       "True"
      ]
     },
     "execution_count": 14,
     "metadata": {},
     "output_type": "execute_result"
    }
   ],
   "source": [
    "2==2"
   ]
  },
  {
   "cell_type": "code",
   "execution_count": 15,
   "id": "07cd425b-4967-4bb6-b541-32182a078cdd",
   "metadata": {},
   "outputs": [
    {
     "data": {
      "text/plain": [
       "True"
      ]
     },
     "execution_count": 15,
     "metadata": {},
     "output_type": "execute_result"
    }
   ],
   "source": [
    "2==4/2"
   ]
  },
  {
   "cell_type": "code",
   "execution_count": 16,
   "id": "36f80674-a319-4bcd-a45f-c1e6c2242354",
   "metadata": {},
   "outputs": [
    {
     "data": {
      "text/plain": [
       "True"
      ]
     },
     "execution_count": 16,
     "metadata": {},
     "output_type": "execute_result"
    }
   ],
   "source": [
    "1!=2"
   ]
  },
  {
   "cell_type": "code",
   "execution_count": 17,
   "id": "2df46361-499a-4967-b85c-bcca6e971c84",
   "metadata": {},
   "outputs": [
    {
     "data": {
      "text/plain": [
       "False"
      ]
     },
     "execution_count": 17,
     "metadata": {},
     "output_type": "execute_result"
    }
   ],
   "source": [
    "2!=4/2"
   ]
  },
  {
   "cell_type": "code",
   "execution_count": 18,
   "id": "c503ea14-59db-4f90-b2d4-db97630a67eb",
   "metadata": {},
   "outputs": [
    {
     "data": {
      "text/plain": [
       "True"
      ]
     },
     "execution_count": 18,
     "metadata": {},
     "output_type": "execute_result"
    }
   ],
   "source": [
    "2>=1"
   ]
  },
  {
   "cell_type": "code",
   "execution_count": 19,
   "id": "0baf80a3-8958-49a0-af27-df2474c04ed3",
   "metadata": {},
   "outputs": [
    {
     "data": {
      "text/plain": [
       "True"
      ]
     },
     "execution_count": 19,
     "metadata": {},
     "output_type": "execute_result"
    }
   ],
   "source": [
    "2>=2"
   ]
  },
  {
   "cell_type": "code",
   "execution_count": 20,
   "id": "06936ae6-2d68-462b-9dc6-3e15c3d47f0e",
   "metadata": {},
   "outputs": [],
   "source": [
    "#logical operator AND OR OPERATORS"
   ]
  },
  {
   "cell_type": "code",
   "execution_count": 21,
   "id": "60056cff-b430-4279-8a44-f0aa4999a60a",
   "metadata": {},
   "outputs": [
    {
     "data": {
      "text/plain": [
       "True"
      ]
     },
     "execution_count": 21,
     "metadata": {},
     "output_type": "execute_result"
    }
   ],
   "source": [
    "True and True"
   ]
  },
  {
   "cell_type": "code",
   "execution_count": 22,
   "id": "1ce549f3-4573-4217-bc49-2e5085595253",
   "metadata": {},
   "outputs": [
    {
     "data": {
      "text/plain": [
       "False"
      ]
     },
     "execution_count": 22,
     "metadata": {},
     "output_type": "execute_result"
    }
   ],
   "source": [
    "True and False"
   ]
  },
  {
   "cell_type": "code",
   "execution_count": 23,
   "id": "48358a81-2700-4c15-b245-a7247c11f840",
   "metadata": {},
   "outputs": [
    {
     "data": {
      "text/plain": [
       "0"
      ]
     },
     "execution_count": 23,
     "metadata": {},
     "output_type": "execute_result"
    }
   ],
   "source": [
    "1 and 0 # you can write numeric or true false."
   ]
  },
  {
   "cell_type": "code",
   "execution_count": 25,
   "id": "fbb6f48b-fe28-4d26-b74b-5350077d75a8",
   "metadata": {},
   "outputs": [
    {
     "data": {
      "text/plain": [
       "False"
      ]
     },
     "execution_count": 25,
     "metadata": {},
     "output_type": "execute_result"
    }
   ],
   "source": [
    "not True"
   ]
  },
  {
   "cell_type": "code",
   "execution_count": 26,
   "id": "71143dbd-b513-4fdb-af7f-8691d82ff926",
   "metadata": {},
   "outputs": [
    {
     "data": {
      "text/plain": [
       "False"
      ]
     },
     "execution_count": 26,
     "metadata": {},
     "output_type": "execute_result"
    }
   ],
   "source": [
    "not 1"
   ]
  },
  {
   "cell_type": "code",
   "execution_count": 27,
   "id": "82f910e6-232d-4efc-8b70-3626d7913919",
   "metadata": {},
   "outputs": [
    {
     "data": {
      "text/plain": [
       "True"
      ]
     },
     "execution_count": 27,
     "metadata": {},
     "output_type": "execute_result"
    }
   ],
   "source": [
    "not 0"
   ]
  },
  {
   "cell_type": "code",
   "execution_count": 28,
   "id": "6829c9c7-bf96-4019-8341-bffe2d16e5ea",
   "metadata": {},
   "outputs": [
    {
     "data": {
      "text/plain": [
       "True"
      ]
     },
     "execution_count": 28,
     "metadata": {},
     "output_type": "execute_result"
    }
   ],
   "source": [
    "True or False"
   ]
  },
  {
   "cell_type": "code",
   "execution_count": 29,
   "id": "da61df3b-1c21-4f2e-b81c-91e173247fc4",
   "metadata": {},
   "outputs": [
    {
     "data": {
      "text/plain": [
       "False"
      ]
     },
     "execution_count": 29,
     "metadata": {},
     "output_type": "execute_result"
    }
   ],
   "source": [
    "False or False\n"
   ]
  },
  {
   "cell_type": "code",
   "execution_count": 30,
   "id": "7c01fa79-8df4-4442-a38a-097bfc98d0e0",
   "metadata": {},
   "outputs": [
    {
     "data": {
      "text/plain": [
       "True"
      ]
     },
     "execution_count": 30,
     "metadata": {},
     "output_type": "execute_result"
    }
   ],
   "source": [
    "True or False"
   ]
  },
  {
   "cell_type": "code",
   "execution_count": 31,
   "id": "d0cdd8b9-d3c9-4d00-a175-4ea5526bb2d7",
   "metadata": {},
   "outputs": [],
   "source": [
    "#bit wise operator converting DAta in Binary form\n",
    "# then apply operation."
   ]
  },
  {
   "cell_type": "code",
   "execution_count": 32,
   "id": "418a6e92-d62f-4420-bd98-eedf4093f009",
   "metadata": {},
   "outputs": [
    {
     "data": {
      "text/plain": [
       "0"
      ]
     },
     "execution_count": 32,
     "metadata": {},
     "output_type": "execute_result"
    }
   ],
   "source": [
    "10&4"
   ]
  },
  {
   "cell_type": "code",
   "execution_count": 33,
   "id": "da2806f2-bf92-4bcc-894c-931e3498e500",
   "metadata": {},
   "outputs": [
    {
     "data": {
      "text/plain": [
       "'0b1010'"
      ]
     },
     "execution_count": 33,
     "metadata": {},
     "output_type": "execute_result"
    }
   ],
   "source": [
    "bin(10)"
   ]
  },
  {
   "cell_type": "code",
   "execution_count": 34,
   "id": "b690266e-ba7e-4580-96ae-f83cf721ceb5",
   "metadata": {},
   "outputs": [
    {
     "data": {
      "text/plain": [
       "'0b100'"
      ]
     },
     "execution_count": 34,
     "metadata": {},
     "output_type": "execute_result"
    }
   ],
   "source": [
    "bin(4)"
   ]
  },
  {
   "cell_type": "code",
   "execution_count": 35,
   "id": "5a87f0b6-978d-4d6a-9f10-cf1f903be4ad",
   "metadata": {},
   "outputs": [
    {
     "data": {
      "text/plain": [
       "0"
      ]
     },
     "execution_count": 35,
     "metadata": {},
     "output_type": "execute_result"
    }
   ],
   "source": [
    "0b1010-0b1010"
   ]
  },
  {
   "cell_type": "code",
   "execution_count": 36,
   "id": "d64e4684-f254-40a0-bfb3-7465d8a2d484",
   "metadata": {},
   "outputs": [
    {
     "data": {
      "text/plain": [
       "20"
      ]
     },
     "execution_count": 36,
     "metadata": {},
     "output_type": "execute_result"
    }
   ],
   "source": [
    "23 & 20"
   ]
  },
  {
   "cell_type": "code",
   "execution_count": 37,
   "id": "66bb3e12-782f-41ab-90c1-b5fe9457d706",
   "metadata": {},
   "outputs": [
    {
     "data": {
      "text/plain": [
       "'0b10111'"
      ]
     },
     "execution_count": 37,
     "metadata": {},
     "output_type": "execute_result"
    }
   ],
   "source": [
    "bin(23)"
   ]
  },
  {
   "cell_type": "code",
   "execution_count": 38,
   "id": "94e00e35-fda3-441c-b83c-ffd51be51c28",
   "metadata": {},
   "outputs": [
    {
     "data": {
      "text/plain": [
       "'0b10100'"
      ]
     },
     "execution_count": 38,
     "metadata": {},
     "output_type": "execute_result"
    }
   ],
   "source": [
    "bin(20)"
   ]
  },
  {
   "cell_type": "code",
   "execution_count": 39,
   "id": "e805aed8-f868-44e8-9f3f-9c636605f76c",
   "metadata": {},
   "outputs": [
    {
     "data": {
      "text/plain": [
       "15"
      ]
     },
     "execution_count": 39,
     "metadata": {},
     "output_type": "execute_result"
    }
   ],
   "source": [
    "11 | 6  #| bitwise (or)"
   ]
  },
  {
   "cell_type": "code",
   "execution_count": 40,
   "id": "8af344c4-057f-4a98-8caf-5a5121c36fef",
   "metadata": {},
   "outputs": [
    {
     "data": {
      "text/plain": [
       "'0b1111'"
      ]
     },
     "execution_count": 40,
     "metadata": {},
     "output_type": "execute_result"
    }
   ],
   "source": [
    "bin(15)"
   ]
  },
  {
   "cell_type": "code",
   "execution_count": 41,
   "id": "e9fcdf92-6fdc-4933-bfc0-23cb051134d5",
   "metadata": {},
   "outputs": [
    {
     "data": {
      "text/plain": [
       "-13"
      ]
     },
     "execution_count": 41,
     "metadata": {},
     "output_type": "execute_result"
    }
   ],
   "source": [
    "~12 #tilled bitwisse opoerator also known as bitwise not\n",
    "#firstly convert 12 in binary and then tilled"
   ]
  },
  {
   "cell_type": "code",
   "execution_count": 42,
   "id": "6ddd6d55-1292-4207-a6b7-3940151eb315",
   "metadata": {},
   "outputs": [
    {
     "data": {
      "text/plain": [
       "-21"
      ]
     },
     "execution_count": 42,
     "metadata": {},
     "output_type": "execute_result"
    }
   ],
   "source": [
    "~20"
   ]
  },
  {
   "cell_type": "code",
   "execution_count": 43,
   "id": "efa41c14-7329-4e32-94ff-eb5b278c7aac",
   "metadata": {},
   "outputs": [
    {
     "data": {
      "text/plain": [
       "'-0b1101'"
      ]
     },
     "execution_count": 43,
     "metadata": {},
     "output_type": "execute_result"
    }
   ],
   "source": [
    "bin(-13)"
   ]
  },
  {
   "cell_type": "code",
   "execution_count": 44,
   "id": "05278e92-4697-4472-9de7-5c2ccf376404",
   "metadata": {},
   "outputs": [
    {
     "data": {
      "text/plain": [
       "'0b1101'"
      ]
     },
     "execution_count": 44,
     "metadata": {},
     "output_type": "execute_result"
    }
   ],
   "source": [
    "bin(13)"
   ]
  },
  {
   "cell_type": "code",
   "execution_count": 45,
   "id": "34082a2b-7090-45a0-b358-59d83bca4876",
   "metadata": {},
   "outputs": [
    {
     "data": {
      "text/plain": [
       "'-0b10101'"
      ]
     },
     "execution_count": 45,
     "metadata": {},
     "output_type": "execute_result"
    }
   ],
   "source": [
    "bin(-21)"
   ]
  },
  {
   "cell_type": "code",
   "execution_count": 46,
   "id": "9e5c6869-add3-4c5e-9e31-1bb8de1d4709",
   "metadata": {},
   "outputs": [],
   "source": [
    "#right shift and left shift bitwise operators"
   ]
  },
  {
   "cell_type": "code",
   "execution_count": 47,
   "id": "02929b2d-3d81-4083-8a19-ccb9242fc2a8",
   "metadata": {},
   "outputs": [],
   "source": [
    "a=8"
   ]
  },
  {
   "cell_type": "code",
   "execution_count": 48,
   "id": "c66f60d7-c182-48f7-81fe-086158542c38",
   "metadata": {},
   "outputs": [
    {
     "data": {
      "text/plain": [
       "2"
      ]
     },
     "execution_count": 48,
     "metadata": {},
     "output_type": "execute_result"
    }
   ],
   "source": [
    "a>>2"
   ]
  },
  {
   "cell_type": "code",
   "execution_count": 49,
   "id": "e9554f3c-8fe6-49c6-b9f9-d8c52da5faf0",
   "metadata": {},
   "outputs": [
    {
     "data": {
      "text/plain": [
       "'0b1000'"
      ]
     },
     "execution_count": 49,
     "metadata": {},
     "output_type": "execute_result"
    }
   ],
   "source": [
    "bin(a)"
   ]
  },
  {
   "cell_type": "code",
   "execution_count": 50,
   "id": "8bd3748a-fb33-4d35-a9b3-93b7f033c520",
   "metadata": {},
   "outputs": [
    {
     "data": {
      "text/plain": [
       "'0b1000'"
      ]
     },
     "execution_count": 50,
     "metadata": {},
     "output_type": "execute_result"
    }
   ],
   "source": [
    "bin(8)"
   ]
  },
  {
   "cell_type": "code",
   "execution_count": 51,
   "id": "e6ba671c-1791-4b00-8391-f21823072352",
   "metadata": {},
   "outputs": [
    {
     "data": {
      "text/plain": [
       "1"
      ]
     },
     "execution_count": 51,
     "metadata": {},
     "output_type": "execute_result"
    }
   ],
   "source": [
    "a>>3"
   ]
  },
  {
   "cell_type": "code",
   "execution_count": 52,
   "id": "7c873c29-2831-4f56-bcb8-efed1da72130",
   "metadata": {},
   "outputs": [
    {
     "data": {
      "text/plain": [
       "0"
      ]
     },
     "execution_count": 52,
     "metadata": {},
     "output_type": "execute_result"
    }
   ],
   "source": [
    "a>>4"
   ]
  },
  {
   "cell_type": "code",
   "execution_count": 53,
   "id": "2d8fa2de-fdb2-43f8-b917-fb71f6a15166",
   "metadata": {},
   "outputs": [
    {
     "data": {
      "text/plain": [
       "'0b10'"
      ]
     },
     "execution_count": 53,
     "metadata": {},
     "output_type": "execute_result"
    }
   ],
   "source": [
    "bin(2)"
   ]
  },
  {
   "cell_type": "code",
   "execution_count": 54,
   "id": "973d589c-6c88-4677-8210-63240fea6adb",
   "metadata": {},
   "outputs": [
    {
     "data": {
      "text/plain": [
       "80"
      ]
     },
     "execution_count": 54,
     "metadata": {},
     "output_type": "execute_result"
    }
   ],
   "source": [
    "20<<2"
   ]
  },
  {
   "cell_type": "code",
   "execution_count": 55,
   "id": "160ca7a0-6554-4ddb-be5a-538c620c20d5",
   "metadata": {},
   "outputs": [
    {
     "data": {
      "text/plain": [
       "160"
      ]
     },
     "execution_count": 55,
     "metadata": {},
     "output_type": "execute_result"
    }
   ],
   "source": [
    "20<<3"
   ]
  },
  {
   "cell_type": "code",
   "execution_count": 56,
   "id": "3f2c9029-0a94-4429-9f01-38a7fa33934d",
   "metadata": {},
   "outputs": [
    {
     "data": {
      "text/plain": [
       "320"
      ]
     },
     "execution_count": 56,
     "metadata": {},
     "output_type": "execute_result"
    }
   ],
   "source": [
    "20<<4 #shifting left and adding 4 zeroes."
   ]
  },
  {
   "cell_type": "code",
   "execution_count": 57,
   "id": "73606c54-42a2-4dbd-93b1-591e4c30c2d4",
   "metadata": {},
   "outputs": [
    {
     "data": {
      "text/plain": [
       "'0b10100'"
      ]
     },
     "execution_count": 57,
     "metadata": {},
     "output_type": "execute_result"
    }
   ],
   "source": [
    "bin(20)"
   ]
  },
  {
   "cell_type": "code",
   "execution_count": 58,
   "id": "dc130661-1158-4daf-b72d-73fad75d732a",
   "metadata": {},
   "outputs": [
    {
     "data": {
      "text/plain": [
       "'0b1010000'"
      ]
     },
     "execution_count": 58,
     "metadata": {},
     "output_type": "execute_result"
    }
   ],
   "source": [
    "bin(80)"
   ]
  },
  {
   "cell_type": "code",
   "execution_count": 59,
   "id": "866de1ce-a6b3-4c15-bb09-b3949e9ab6e6",
   "metadata": {},
   "outputs": [
    {
     "data": {
      "text/plain": [
       "'0b10100000'"
      ]
     },
     "execution_count": 59,
     "metadata": {},
     "output_type": "execute_result"
    }
   ],
   "source": [
    "bin(160)"
   ]
  },
  {
   "cell_type": "code",
   "execution_count": 60,
   "id": "ceeefe07-96ec-4afa-8c8f-ef6f661175f1",
   "metadata": {},
   "outputs": [],
   "source": [
    "#Assignment operator\n",
    "a=2"
   ]
  },
  {
   "cell_type": "code",
   "execution_count": 61,
   "id": "d4660ce8-d80d-442b-8350-a5da44775035",
   "metadata": {},
   "outputs": [],
   "source": [
    "a+=2"
   ]
  },
  {
   "cell_type": "code",
   "execution_count": 62,
   "id": "1e3fea23-1be8-45a0-8b3a-601ed873dcdd",
   "metadata": {},
   "outputs": [
    {
     "data": {
      "text/plain": [
       "10"
      ]
     },
     "execution_count": 62,
     "metadata": {},
     "output_type": "execute_result"
    }
   ],
   "source": [
    "a"
   ]
  },
  {
   "cell_type": "code",
   "execution_count": 63,
   "id": "09971c7c-d2df-4592-a0bb-585ec50e7eda",
   "metadata": {},
   "outputs": [],
   "source": [
    "b=5"
   ]
  },
  {
   "cell_type": "code",
   "execution_count": 64,
   "id": "b624f21e-669c-4363-a5ab-d2f804437815",
   "metadata": {},
   "outputs": [],
   "source": [
    "b+=6"
   ]
  },
  {
   "cell_type": "code",
   "execution_count": 65,
   "id": "6e6fbbec-716d-45fa-9786-d14bc45f0bd4",
   "metadata": {},
   "outputs": [
    {
     "data": {
      "text/plain": [
       "11"
      ]
     },
     "execution_count": 65,
     "metadata": {},
     "output_type": "execute_result"
    }
   ],
   "source": [
    "b"
   ]
  },
  {
   "cell_type": "code",
   "execution_count": 67,
   "id": "920283c9-cb1b-498a-ae97-246a8ec42b96",
   "metadata": {},
   "outputs": [],
   "source": [
    "b+=2"
   ]
  },
  {
   "cell_type": "code",
   "execution_count": 70,
   "id": "aad4c7b9-f197-4116-b37b-493cae29a164",
   "metadata": {},
   "outputs": [
    {
     "data": {
      "text/plain": [
       "13"
      ]
     },
     "execution_count": 70,
     "metadata": {},
     "output_type": "execute_result"
    }
   ],
   "source": [
    "b"
   ]
  },
  {
   "cell_type": "code",
   "execution_count": 71,
   "id": "aaaa8df2-5083-4718-805e-4b3b2a7775ed",
   "metadata": {},
   "outputs": [],
   "source": [
    "c=19\n",
    "c-=2"
   ]
  },
  {
   "cell_type": "code",
   "execution_count": 72,
   "id": "cde04bd2-6a88-4090-8f9a-e6364f0e936d",
   "metadata": {},
   "outputs": [
    {
     "data": {
      "text/plain": [
       "17"
      ]
     },
     "execution_count": 72,
     "metadata": {},
     "output_type": "execute_result"
    }
   ],
   "source": [
    "c"
   ]
  },
  {
   "cell_type": "code",
   "execution_count": null,
   "id": "a8d3303c-29da-4a1c-8067-05c1e50b3ae1",
   "metadata": {},
   "outputs": [],
   "source": []
  }
 ],
 "metadata": {
  "kernelspec": {
   "display_name": "Python 3 (ipykernel)",
   "language": "python",
   "name": "python3"
  },
  "language_info": {
   "codemirror_mode": {
    "name": "ipython",
    "version": 3
   },
   "file_extension": ".py",
   "mimetype": "text/x-python",
   "name": "python",
   "nbconvert_exporter": "python",
   "pygments_lexer": "ipython3",
   "version": "3.10.8"
  }
 },
 "nbformat": 4,
 "nbformat_minor": 5
}
