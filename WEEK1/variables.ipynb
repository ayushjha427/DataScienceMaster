{
 "cells": [
  {
   "cell_type": "code",
   "execution_count": 1,
   "id": "b8949d4f-5dc3-4924-b823-fd0b2bbbbdea",
   "metadata": {},
   "outputs": [],
   "source": [
    "a=1"
   ]
  },
  {
   "cell_type": "code",
   "execution_count": 2,
   "id": "61b4b2c6-f546-44cc-bd3f-a818a4dbd40e",
   "metadata": {},
   "outputs": [
    {
     "data": {
      "text/plain": [
       "1"
      ]
     },
     "execution_count": 2,
     "metadata": {},
     "output_type": "execute_result"
    }
   ],
   "source": [
    "a"
   ]
  },
  {
   "cell_type": "code",
   "execution_count": 3,
   "id": "d9f72549-c6f9-4184-a1b2-086dd834d0c5",
   "metadata": {},
   "outputs": [
    {
     "data": {
      "text/plain": [
       "int"
      ]
     },
     "execution_count": 3,
     "metadata": {},
     "output_type": "execute_result"
    }
   ],
   "source": [
    "type(a)"
   ]
  },
  {
   "cell_type": "code",
   "execution_count": 4,
   "id": "ac1bbc6e-c8bf-48a9-a20a-2d4d4e9c2119",
   "metadata": {},
   "outputs": [],
   "source": [
    "b='ayush'"
   ]
  },
  {
   "cell_type": "code",
   "execution_count": 6,
   "id": "75cb6c09-3072-4721-9e2a-ffb7e681baea",
   "metadata": {},
   "outputs": [
    {
     "data": {
      "text/plain": [
       "str"
      ]
     },
     "execution_count": 6,
     "metadata": {},
     "output_type": "execute_result"
    }
   ],
   "source": [
    "type(b)"
   ]
  },
  {
   "cell_type": "code",
   "execution_count": 7,
   "id": "fe223aa7-1b99-4496-aba4-cc42fc7e398a",
   "metadata": {},
   "outputs": [
    {
     "data": {
      "text/plain": [
       "'ayush'"
      ]
     },
     "execution_count": 7,
     "metadata": {},
     "output_type": "execute_result"
    }
   ],
   "source": [
    "b"
   ]
  },
  {
   "cell_type": "code",
   "execution_count": 10,
   "id": "43ffc4be-ed12-41df-a005-46b583c9957c",
   "metadata": {},
   "outputs": [],
   "source": [
    "c=55\n"
   ]
  },
  {
   "cell_type": "code",
   "execution_count": 11,
   "id": "34170501-100e-4c8e-8f83-302e1696fd1c",
   "metadata": {},
   "outputs": [
    {
     "data": {
      "text/plain": [
       "56"
      ]
     },
     "execution_count": 11,
     "metadata": {},
     "output_type": "execute_result"
    }
   ],
   "source": [
    "a+c"
   ]
  },
  {
   "cell_type": "code",
   "execution_count": 12,
   "id": "fc878536-030b-45a8-bdb9-3f09a2cb5aad",
   "metadata": {},
   "outputs": [],
   "source": [
    "d=77.8"
   ]
  },
  {
   "cell_type": "code",
   "execution_count": 13,
   "id": "55b428e0-1336-4d61-8073-5c223dca772b",
   "metadata": {},
   "outputs": [
    {
     "data": {
      "text/plain": [
       "float"
      ]
     },
     "execution_count": 13,
     "metadata": {},
     "output_type": "execute_result"
    }
   ],
   "source": [
    "type(d)"
   ]
  },
  {
   "cell_type": "code",
   "execution_count": 14,
   "id": "4ae448df-7fec-4fd7-ab8f-636d2f05cbe4",
   "metadata": {},
   "outputs": [
    {
     "data": {
      "text/plain": [
       "78.8"
      ]
     },
     "execution_count": 14,
     "metadata": {},
     "output_type": "execute_result"
    }
   ],
   "source": [
    "a+d"
   ]
  },
  {
   "cell_type": "code",
   "execution_count": 15,
   "id": "5bd96b81-e069-4b2b-af8a-8b2bbe9044fb",
   "metadata": {},
   "outputs": [
    {
     "data": {
      "text/plain": [
       "133.8"
      ]
     },
     "execution_count": 15,
     "metadata": {},
     "output_type": "execute_result"
    }
   ],
   "source": [
    "a+c+d"
   ]
  },
  {
   "cell_type": "code",
   "execution_count": 16,
   "id": "da871dae-56e2-4bb9-8a58-bf18730f6c25",
   "metadata": {},
   "outputs": [],
   "source": [
    "ayush =555"
   ]
  },
  {
   "cell_type": "code",
   "execution_count": 17,
   "id": "f50f08a3-19f2-496d-8475-913ab1f66a25",
   "metadata": {},
   "outputs": [
    {
     "data": {
      "text/plain": [
       "555"
      ]
     },
     "execution_count": 17,
     "metadata": {},
     "output_type": "execute_result"
    }
   ],
   "source": [
    "ayush"
   ]
  },
  {
   "cell_type": "code",
   "execution_count": 18,
   "id": "a063e16d-8023-4807-b46f-d2de36df9b87",
   "metadata": {},
   "outputs": [
    {
     "data": {
      "text/plain": [
       "int"
      ]
     },
     "execution_count": 18,
     "metadata": {},
     "output_type": "execute_result"
    }
   ],
   "source": [
    "type(ayush)"
   ]
  },
  {
   "cell_type": "code",
   "execution_count": 19,
   "id": "71997533-f7d3-42f4-9b3d-764de89e8c1a",
   "metadata": {},
   "outputs": [
    {
     "data": {
      "text/plain": [
       "611"
      ]
     },
     "execution_count": 19,
     "metadata": {},
     "output_type": "execute_result"
    }
   ],
   "source": [
    "a+c+ayush"
   ]
  },
  {
   "cell_type": "code",
   "execution_count": 20,
   "id": "e60c61cf-685f-4826-b00e-d2cbe2e353b8",
   "metadata": {},
   "outputs": [
    {
     "data": {
      "text/plain": [
       "556"
      ]
     },
     "execution_count": 20,
     "metadata": {},
     "output_type": "execute_result"
    }
   ],
   "source": [
    "a+ayush"
   ]
  },
  {
   "cell_type": "code",
   "execution_count": 21,
   "id": "9982f220-0288-496f-b01d-261e5f714683",
   "metadata": {},
   "outputs": [],
   "source": [
    "d=True"
   ]
  },
  {
   "cell_type": "code",
   "execution_count": 22,
   "id": "260c18a4-86cf-44b3-8f28-85f343b12a1d",
   "metadata": {},
   "outputs": [
    {
     "data": {
      "text/plain": [
       "bool"
      ]
     },
     "execution_count": 22,
     "metadata": {},
     "output_type": "execute_result"
    }
   ],
   "source": [
    "type(d)"
   ]
  },
  {
   "cell_type": "code",
   "execution_count": 23,
   "id": "931ccd6c-7f1c-4f9a-ae93-7a33a3ec4925",
   "metadata": {},
   "outputs": [],
   "source": [
    "f=False"
   ]
  },
  {
   "cell_type": "code",
   "execution_count": 24,
   "id": "a74f00fb-42f8-475a-b9dd-395e743108c4",
   "metadata": {},
   "outputs": [
    {
     "data": {
      "text/plain": [
       "bool"
      ]
     },
     "execution_count": 24,
     "metadata": {},
     "output_type": "execute_result"
    }
   ],
   "source": [
    "type(f)"
   ]
  },
  {
   "cell_type": "code",
   "execution_count": 25,
   "id": "22793b43-e735-44b6-b9d9-bd46c3d750b3",
   "metadata": {},
   "outputs": [
    {
     "data": {
      "text/plain": [
       "1"
      ]
     },
     "execution_count": 25,
     "metadata": {},
     "output_type": "execute_result"
    }
   ],
   "source": [
    "True-False"
   ]
  },
  {
   "cell_type": "code",
   "execution_count": 26,
   "id": "00afe065-a174-4ff7-9f0a-373926d49761",
   "metadata": {},
   "outputs": [],
   "source": [
    "# we use # for commenting and this comment not excute by compilor.\n",
    "#true =1 and false=0,, "
   ]
  },
  {
   "cell_type": "code",
   "execution_count": 27,
   "id": "38a03b68-1172-46dc-adaf-51a3605bcae4",
   "metadata": {},
   "outputs": [
    {
     "data": {
      "text/plain": [
       "0"
      ]
     },
     "execution_count": 27,
     "metadata": {},
     "output_type": "execute_result"
    }
   ],
   "source": [
    "True*False\n"
   ]
  },
  {
   "cell_type": "code",
   "execution_count": 28,
   "id": "5e4a4ea6-f92b-4f3a-860a-66e26abfc140",
   "metadata": {},
   "outputs": [],
   "source": [
    "v=5+4j  #always only j using in the complex number in maths we use i and in programming we use j \n",
    "#if we use anything else then compiler show error."
   ]
  },
  {
   "cell_type": "code",
   "execution_count": 29,
   "id": "20572fff-3085-4999-934d-2947dcaac224",
   "metadata": {},
   "outputs": [
    {
     "data": {
      "text/plain": [
       "complex"
      ]
     },
     "execution_count": 29,
     "metadata": {},
     "output_type": "execute_result"
    }
   ],
   "source": [
    "type(v)"
   ]
  },
  {
   "cell_type": "code",
   "execution_count": 30,
   "id": "c3f14d12-89c1-44e9-b871-a89b5ef781ea",
   "metadata": {},
   "outputs": [
    {
     "ename": "SyntaxError",
     "evalue": "invalid decimal literal (1299504507.py, line 1)",
     "output_type": "error",
     "traceback": [
      "\u001b[0;36m  Cell \u001b[0;32mIn[30], line 1\u001b[0;36m\u001b[0m\n\u001b[0;31m    z=6+5i\u001b[0m\n\u001b[0m        ^\u001b[0m\n\u001b[0;31mSyntaxError\u001b[0m\u001b[0;31m:\u001b[0m invalid decimal literal\n"
     ]
    }
   ],
   "source": [
    "z=6+5i"
   ]
  },
  {
   "cell_type": "code",
   "execution_count": 31,
   "id": "0cf34e92-a9a0-4463-a7ba-0d4cd711a77e",
   "metadata": {},
   "outputs": [],
   "source": [
    "#variable name not be numeric or alpha numeric."
   ]
  },
  {
   "cell_type": "code",
   "execution_count": 33,
   "id": "4fc76757-fcc5-4a28-b419-33a4a2ba0b06",
   "metadata": {},
   "outputs": [
    {
     "data": {
      "text/plain": [
       "(5+4j)"
      ]
     },
     "execution_count": 33,
     "metadata": {},
     "output_type": "execute_result"
    }
   ],
   "source": [
    "v"
   ]
  },
  {
   "cell_type": "code",
   "execution_count": 34,
   "id": "9cf8c364-0897-46b6-9e03-691e92a4cff8",
   "metadata": {},
   "outputs": [
    {
     "data": {
      "text/plain": [
       "5.0"
      ]
     },
     "execution_count": 34,
     "metadata": {},
     "output_type": "execute_result"
    }
   ],
   "source": [
    "v.real # separating real number "
   ]
  },
  {
   "cell_type": "code",
   "execution_count": 35,
   "id": "457b4cfa-ab42-4f66-8445-69b879004e37",
   "metadata": {},
   "outputs": [
    {
     "data": {
      "text/plain": [
       "4.0"
      ]
     },
     "execution_count": 35,
     "metadata": {},
     "output_type": "execute_result"
    }
   ],
   "source": [
    "v.imag #for imaginary number separating from complex number"
   ]
  },
  {
   "cell_type": "code",
   "execution_count": 36,
   "id": "0ec1ea3c-0da9-41ab-b8f9-1e942b3a6aa4",
   "metadata": {},
   "outputs": [],
   "source": [
    "#.0 using by python during separating real and imaginary number python automatically convert data type in float"
   ]
  },
  {
   "cell_type": "code",
   "execution_count": null,
   "id": "71f0abbe-0316-418b-8013-e4435d674ae2",
   "metadata": {},
   "outputs": [],
   "source": []
  }
 ],
 "metadata": {
  "kernelspec": {
   "display_name": "Python 3 (ipykernel)",
   "language": "python",
   "name": "python3"
  },
  "language_info": {
   "codemirror_mode": {
    "name": "ipython",
    "version": 3
   },
   "file_extension": ".py",
   "mimetype": "text/x-python",
   "name": "python",
   "nbconvert_exporter": "python",
   "pygments_lexer": "ipython3",
   "version": "3.10.8"
  }
 },
 "nbformat": 4,
 "nbformat_minor": 5
}
