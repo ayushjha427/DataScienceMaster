{
 "cells": [
  {
   "cell_type": "code",
   "execution_count": 1,
   "id": "a8e509e5-2e57-4e5f-be69-3f3e03321df6",
   "metadata": {},
   "outputs": [],
   "source": [
    "s='ayush'"
   ]
  },
  {
   "cell_type": "code",
   "execution_count": 2,
   "id": "c65b6b88-9e9d-41d2-bcb7-aa826f52d301",
   "metadata": {},
   "outputs": [
    {
     "data": {
      "text/plain": [
       "str"
      ]
     },
     "execution_count": 2,
     "metadata": {},
     "output_type": "execute_result"
    }
   ],
   "source": [
    "type(s)"
   ]
  },
  {
   "cell_type": "code",
   "execution_count": 3,
   "id": "96ed0b80-702f-439e-aa61-e45b419dc2d8",
   "metadata": {},
   "outputs": [],
   "source": [
    "s1=\"ayush kumar jha\""
   ]
  },
  {
   "cell_type": "code",
   "execution_count": 4,
   "id": "ef297e94-e884-4701-beee-9d0c78df2c0a",
   "metadata": {},
   "outputs": [
    {
     "data": {
      "text/plain": [
       "str"
      ]
     },
     "execution_count": 4,
     "metadata": {},
     "output_type": "execute_result"
    }
   ],
   "source": [
    "type(s1)"
   ]
  },
  {
   "cell_type": "code",
   "execution_count": 5,
   "id": "b7df690d-d6b1-4068-b44e-31043057da60",
   "metadata": {},
   "outputs": [],
   "source": [
    "v=\"ayush jha\""
   ]
  },
  {
   "cell_type": "code",
   "execution_count": 6,
   "id": "a351ad62-20f7-47cb-8695-d09461a8c6cd",
   "metadata": {},
   "outputs": [
    {
     "data": {
      "text/plain": [
       "str"
      ]
     },
     "execution_count": 6,
     "metadata": {},
     "output_type": "execute_result"
    }
   ],
   "source": [
    "type(v)"
   ]
  },
  {
   "cell_type": "code",
   "execution_count": 7,
   "id": "7f061448-34b8-4f77-af9b-9f71f0a03622",
   "metadata": {},
   "outputs": [
    {
     "data": {
      "text/plain": [
       "'a'"
      ]
     },
     "execution_count": 7,
     "metadata": {},
     "output_type": "execute_result"
    }
   ],
   "source": [
    "v[0]"
   ]
  },
  {
   "cell_type": "code",
   "execution_count": 8,
   "id": "d4138b9f-944c-4086-8247-a132f9a625a3",
   "metadata": {},
   "outputs": [
    {
     "data": {
      "text/plain": [
       "'h'"
      ]
     },
     "execution_count": 8,
     "metadata": {},
     "output_type": "execute_result"
    }
   ],
   "source": [
    "v[4]"
   ]
  },
  {
   "cell_type": "code",
   "execution_count": 9,
   "id": "094676d3-8185-4f9f-8fdc-73a4326f1d51",
   "metadata": {},
   "outputs": [
    {
     "data": {
      "text/plain": [
       "' '"
      ]
     },
     "execution_count": 9,
     "metadata": {},
     "output_type": "execute_result"
    }
   ],
   "source": [
    "v[5]"
   ]
  },
  {
   "cell_type": "code",
   "execution_count": 10,
   "id": "b84c26ae-15be-4fd6-b08f-424e0558053f",
   "metadata": {},
   "outputs": [],
   "source": [
    "L=[2,3,2.33,\"ayush\",2+3j,8+7,True]\n"
   ]
  },
  {
   "cell_type": "code",
   "execution_count": 11,
   "id": "2e85648a-88e8-4d13-849e-f9f52644e58e",
   "metadata": {},
   "outputs": [
    {
     "data": {
      "text/plain": [
       "list"
      ]
     },
     "execution_count": 11,
     "metadata": {},
     "output_type": "execute_result"
    }
   ],
   "source": [
    "type(L)"
   ]
  },
  {
   "cell_type": "code",
   "execution_count": 12,
   "id": "9d3ec51f-b713-4c8b-95ab-92c5edf90f46",
   "metadata": {},
   "outputs": [],
   "source": [
    "#list is a collection on type of data types where we put all types of data types"
   ]
  },
  {
   "cell_type": "code",
   "execution_count": 13,
   "id": "abb05ef1-324a-4f9e-afe7-b18139468ce2",
   "metadata": {},
   "outputs": [
    {
     "data": {
      "text/plain": [
       "2.33"
      ]
     },
     "execution_count": 13,
     "metadata": {},
     "output_type": "execute_result"
    }
   ],
   "source": [
    "L[2]"
   ]
  },
  {
   "cell_type": "code",
   "execution_count": 14,
   "id": "e99fb807-4154-4c37-8b33-5ea8f3643401",
   "metadata": {},
   "outputs": [
    {
     "data": {
      "text/plain": [
       "15"
      ]
     },
     "execution_count": 14,
     "metadata": {},
     "output_type": "execute_result"
    }
   ],
   "source": [
    "L[5]"
   ]
  },
  {
   "cell_type": "code",
   "execution_count": 15,
   "id": "eb869ad9-f7af-4a9e-8369-13d83d0a7274",
   "metadata": {},
   "outputs": [
    {
     "data": {
      "text/plain": [
       "[2, 3, 2.33, 'ayush', (2+3j), 15, True]"
      ]
     },
     "execution_count": 15,
     "metadata": {},
     "output_type": "execute_result"
    }
   ],
   "source": [
    "L"
   ]
  },
  {
   "cell_type": "code",
   "execution_count": 16,
   "id": "84a38b52-fb27-45aa-8723-483815e55fb2",
   "metadata": {},
   "outputs": [],
   "source": [
    "L[1]=300"
   ]
  },
  {
   "cell_type": "code",
   "execution_count": 17,
   "id": "0905f6cc-e569-43ae-aa33-cfce9e29a8e9",
   "metadata": {},
   "outputs": [
    {
     "data": {
      "text/plain": [
       "[2, 300, 2.33, 'ayush', (2+3j), 15, True]"
      ]
     },
     "execution_count": 17,
     "metadata": {},
     "output_type": "execute_result"
    }
   ],
   "source": [
    "L"
   ]
  },
  {
   "cell_type": "code",
   "execution_count": 18,
   "id": "657b83dc-ec95-404f-80fd-c4341030c73d",
   "metadata": {},
   "outputs": [],
   "source": [
    "L[3]=\"pw skills\""
   ]
  },
  {
   "cell_type": "code",
   "execution_count": 19,
   "id": "c36dfc59-6062-4171-b7b7-b922e34bd9dd",
   "metadata": {},
   "outputs": [
    {
     "data": {
      "text/plain": [
       "[2, 300, 2.33, 'pw skills', (2+3j), 15, True]"
      ]
     },
     "execution_count": 19,
     "metadata": {},
     "output_type": "execute_result"
    }
   ],
   "source": [
    "L"
   ]
  },
  {
   "cell_type": "code",
   "execution_count": 20,
   "id": "d33b2431-134b-4962-9622-07d59917b450",
   "metadata": {},
   "outputs": [],
   "source": [
    "name=\"physics\""
   ]
  },
  {
   "cell_type": "code",
   "execution_count": 21,
   "id": "75bd3422-ed19-4411-99dd-b97c648c1a74",
   "metadata": {},
   "outputs": [
    {
     "ename": "TypeError",
     "evalue": "'str' object does not support item assignment",
     "output_type": "error",
     "traceback": [
      "\u001b[0;31m---------------------------------------------------------------------------\u001b[0m",
      "\u001b[0;31mTypeError\u001b[0m                                 Traceback (most recent call last)",
      "Cell \u001b[0;32mIn[21], line 1\u001b[0m\n\u001b[0;32m----> 1\u001b[0m \u001b[43mname\u001b[49m\u001b[43m[\u001b[49m\u001b[38;5;241;43m1\u001b[39;49m\u001b[43m]\u001b[49m\u001b[38;5;241m=\u001b[39ms\n",
      "\u001b[0;31mTypeError\u001b[0m: 'str' object does not support item assignment"
     ]
    }
   ],
   "source": [
    "name[1]=s"
   ]
  },
  {
   "cell_type": "code",
   "execution_count": null,
   "id": "4a6b31a7-0d0b-41bd-ad14-7c4954b8a9d9",
   "metadata": {},
   "outputs": [],
   "source": [
    "# so we can't able to change index in string so string is a immutable object.\n",
    "#but we able to change index in list so list is a mutable object."
   ]
  },
  {
   "cell_type": "code",
   "execution_count": null,
   "id": "209cfe83-f9ee-4f80-9c5a-26272c1fa2e1",
   "metadata": {},
   "outputs": [],
   "source": []
  },
  {
   "cell_type": "code",
   "execution_count": null,
   "id": "e9e3c1a7-7584-4268-b024-6f6361917c18",
   "metadata": {},
   "outputs": [],
   "source": []
  }
 ],
 "metadata": {
  "kernelspec": {
   "display_name": "Python 3 (ipykernel)",
   "language": "python",
   "name": "python3"
  },
  "language_info": {
   "codemirror_mode": {
    "name": "ipython",
    "version": 3
   },
   "file_extension": ".py",
   "mimetype": "text/x-python",
   "name": "python",
   "nbconvert_exporter": "python",
   "pygments_lexer": "ipython3",
   "version": "3.10.8"
  }
 },
 "nbformat": 4,
 "nbformat_minor": 5
}
