{
 "cells": [
  {
   "cell_type": "markdown",
   "id": "ce391cf8-ea4a-48f6-8603-3f8c159e67b0",
   "metadata": {},
   "source": [
    "\n",
    "Q1.Create one variable containing following type of data:\n",
    "(i) string\n",
    "(ii) list\n",
    "(iii) float\n",
    "(iv) tuple\n"
   ]
  },
  {
   "cell_type": "code",
   "execution_count": 31,
   "id": "cb822a23-d957-4902-9f97-3d4624f30efc",
   "metadata": {},
   "outputs": [],
   "source": [
    "#Answer\n",
    "name=\"ayush kumar jha\"\n",
    "l=[2,4,5.6,\"ayush\",\"pwskills\",True]\n",
    "number=55.6\n",
    "T=(20,44.5,\"ayush\",[1,2,3])"
   ]
  },
  {
   "cell_type": "markdown",
   "id": "5f4d7dd7-38ae-465f-a04a-37c8662505fb",
   "metadata": {},
   "source": [
    "Q2.Given are some following variables containing data:\n",
    "(i) var1 = ‘ ‘\n",
    "(ii) var2 = ‘[ DS , ML , Python]’\n",
    "(iii) var3 = [ ‘DS’ , ’ML’ , ‘Python’ ]\n",
    "(iv) var4 = 1.\n",
    "What will be the data type of the above given variable."
   ]
  },
  {
   "cell_type": "markdown",
   "id": "256dc990-ac5b-4fa4-b764-1982689ec221",
   "metadata": {},
   "source": [
    "ANSWER \n",
    "(i)=string\n",
    "(ii)=string\n",
    "(iii)=list\n",
    "(iv)=integer"
   ]
  },
  {
   "cell_type": "code",
   "execution_count": 32,
   "id": "3ea35717-550b-442b-86f2-8bd38602d7f6",
   "metadata": {},
   "outputs": [],
   "source": [
    "var1=''\n",
    "var2='[DS,ML,Python]'\n",
    "var3=['DS','ML','Python']\n",
    "var4=1\n",
    "      "
   ]
  },
  {
   "cell_type": "code",
   "execution_count": 33,
   "id": "8d0f76ae-349f-416c-b61a-cccc71f54607",
   "metadata": {},
   "outputs": [
    {
     "data": {
      "text/plain": [
       "str"
      ]
     },
     "execution_count": 33,
     "metadata": {},
     "output_type": "execute_result"
    }
   ],
   "source": [
    "type(var1)"
   ]
  },
  {
   "cell_type": "code",
   "execution_count": 34,
   "id": "ca119fd9-44ea-48cb-88ae-e8748a6623a3",
   "metadata": {},
   "outputs": [
    {
     "data": {
      "text/plain": [
       "str"
      ]
     },
     "execution_count": 34,
     "metadata": {},
     "output_type": "execute_result"
    }
   ],
   "source": [
    "type(var2)"
   ]
  },
  {
   "cell_type": "code",
   "execution_count": 35,
   "id": "6afd6874-5c4b-4ff7-9822-ceaa99f6329b",
   "metadata": {},
   "outputs": [
    {
     "data": {
      "text/plain": [
       "list"
      ]
     },
     "execution_count": 35,
     "metadata": {},
     "output_type": "execute_result"
    }
   ],
   "source": [
    "type(var3)"
   ]
  },
  {
   "cell_type": "code",
   "execution_count": 36,
   "id": "79aacbe9-d407-4029-8715-1c09291ec6d0",
   "metadata": {},
   "outputs": [
    {
     "data": {
      "text/plain": [
       "int"
      ]
     },
     "execution_count": 36,
     "metadata": {},
     "output_type": "execute_result"
    }
   ],
   "source": [
    "type(var4)"
   ]
  },
  {
   "cell_type": "markdown",
   "id": "e1f09982-38d2-4552-a591-1b4020245561",
   "metadata": {},
   "source": [
    "Q3.Explain the use of the following operators using an example:\n",
    "(i) /\n",
    "(ii) %\n",
    "(iii) //\n",
    "(iv) **"
   ]
  },
  {
   "cell_type": "code",
   "execution_count": 37,
   "id": "fbeceece-d6c7-4345-ab84-face9a6e1396",
   "metadata": {},
   "outputs": [
    {
     "data": {
      "text/plain": [
       "2.0"
      ]
     },
     "execution_count": 37,
     "metadata": {},
     "output_type": "execute_result"
    }
   ],
   "source": [
    "10/5  #division operator (i)"
   ]
  },
  {
   "cell_type": "code",
   "execution_count": 38,
   "id": "6f4977c7-2a52-4bf8-96ad-9faedbacf023",
   "metadata": {},
   "outputs": [
    {
     "data": {
      "text/plain": [
       "2"
      ]
     },
     "execution_count": 38,
     "metadata": {},
     "output_type": "execute_result"
    }
   ],
   "source": [
    "12%5 # module operator for reminer(ii)"
   ]
  },
  {
   "cell_type": "code",
   "execution_count": 39,
   "id": "21a0f8bc-12f9-4d0e-971a-7c004a810061",
   "metadata": {},
   "outputs": [
    {
     "data": {
      "text/plain": [
       "2"
      ]
     },
     "execution_count": 39,
     "metadata": {},
     "output_type": "execute_result"
    }
   ],
   "source": [
    "11//5 # division floor operator (iii)"
   ]
  },
  {
   "cell_type": "code",
   "execution_count": 40,
   "id": "87e1f0c1-f8bb-4066-8c95-3f7cf7a696fe",
   "metadata": {},
   "outputs": [
    {
     "data": {
      "text/plain": [
       "8"
      ]
     },
     "execution_count": 40,
     "metadata": {},
     "output_type": "execute_result"
    }
   ],
   "source": [
    "2**3 #power operator or exponential operator."
   ]
  },
  {
   "cell_type": "markdown",
   "id": "b77386a1-1bba-44e7-8cd8-42bf1c5f77ce",
   "metadata": {},
   "source": [
    "Q4. Create a list of length 10 of your choice containing multiple types of data. Using for loop print the\n",
    "element and its data type."
   ]
  },
  {
   "cell_type": "code",
   "execution_count": 41,
   "id": "44761cc2-b19b-4704-9ade-e75a8c278722",
   "metadata": {},
   "outputs": [
    {
     "name": "stdout",
     "output_type": "stream",
     "text": [
      "2\n",
      "<class 'int'>\n",
      "3\n",
      "<class 'int'>\n",
      "5\n",
      "<class 'int'>\n",
      "6\n",
      "<class 'int'>\n",
      "7\n",
      "<class 'int'>\n",
      "ayush\n",
      "<class 'str'>\n",
      "pw skills\n",
      "<class 'str'>\n",
      "False\n",
      "<class 'bool'>\n",
      "55.6\n",
      "<class 'float'>\n",
      "True\n",
      "<class 'bool'>\n"
     ]
    }
   ],
   "source": [
    "l=[2,3,5,6,7,'ayush','pw skills',False,55.6,True]\n",
    "for i in l:\n",
    "        print(i)\n",
    "        print(type(i))"
   ]
  },
  {
   "cell_type": "markdown",
   "id": "ffa70f65-a3e7-4505-9af7-f99722768d17",
   "metadata": {},
   "source": [
    "Q5. Using a while loop, verify if the number A is purely divisible by number B and if so then how many\n",
    "times it can be divisible."
   ]
  },
  {
   "cell_type": "code",
   "execution_count": 42,
   "id": "0d3bc2f7-02bd-4a87-8c44-66c147505f7b",
   "metadata": {},
   "outputs": [
    {
     "name": "stdout",
     "output_type": "stream",
     "text": [
      "The number A is divisible by B\n"
     ]
    }
   ],
   "source": [
    "A = 25\n",
    "B = 5\n",
    "A//B\n",
    "\n",
    "i = 0\n",
    "\n",
    "while A % B == 0:\n",
    "    A=A//B\n",
    "    i += 1\n",
    "\n",
    "if i > 0:\n",
    "    print(\"The number A is divisible by B\")\n",
    "else:\n",
    "    print(\"The number A is not divisible by B.\")\n"
   ]
  },
  {
   "cell_type": "markdown",
   "id": "db6530cd-4faf-48b8-8414-9a2007d7e448",
   "metadata": {},
   "source": [
    "Q6. Create a list containing 25 int type data. Using for loop and if-else condition print if the element is\n",
    "divisible by 3 or not."
   ]
  },
  {
   "cell_type": "code",
   "execution_count": 43,
   "id": "710b8575-7227-4e14-966f-9fff60b804a9",
   "metadata": {},
   "outputs": [
    {
     "name": "stdout",
     "output_type": "stream",
     "text": [
      "7 is not divisible by 3\n",
      "14 is not divisible by 3\n",
      "21 is divisible by 3\n",
      "4 is not divisible by 3\n",
      "9 is divisible by 3\n",
      "10 is not divisible by 3\n",
      "27 is divisible by 3\n",
      "30 is divisible by 3\n",
      "31 is not divisible by 3\n",
      "17 is not divisible by 3\n",
      "18 is divisible by 3\n",
      "36 is divisible by 3\n",
      "39 is divisible by 3\n",
      "42 is divisible by 3\n",
      "45 is divisible by 3\n",
      "49 is not divisible by 3\n",
      "51 is divisible by 3\n",
      "54 is divisible by 3\n",
      "57 is divisible by 3\n",
      "60 is divisible by 3\n",
      "62 is not divisible by 3\n",
      "66 is divisible by 3\n",
      "69 is divisible by 3\n",
      "71 is not divisible by 3\n",
      "99 is divisible by 3\n"
     ]
    }
   ],
   "source": [
    "list = [7, 14, 21, 4, 9, 10, 27, 30, 31, 17, 18, 36, 39, 42, 45, 49, 51, 54, 57, 60, 62, 66, 69, 71, 99]\n",
    "\n",
    "for i in list:\n",
    "    if i % 3 == 0:\n",
    "        print(f\"{i} is divisible by 3\")\n",
    "    else:\n",
    "        print(f\"{i} is not divisible by 3\")"
   ]
  },
  {
   "cell_type": "markdown",
   "id": "42601b35-858e-473a-a4ff-8f0ba0317c9d",
   "metadata": {},
   "source": [
    "Q7. What do you understand about mutable and immutable data types? Give examples for both showing\n",
    "this property."
   ]
  },
  {
   "cell_type": "code",
   "execution_count": 44,
   "id": "8baa41ad-8400-4e5d-9b96-b850d8566a89",
   "metadata": {},
   "outputs": [],
   "source": [
    "# the value of mutable is change after creation but not in case of immutable objects\n",
    "#list is a examble of mutable and string is example of immutable\n",
    "list =[2, 3, 2.33, 'ayush', (2+3j), 15, True]"
   ]
  },
  {
   "cell_type": "code",
   "execution_count": 45,
   "id": "7d948d29-ec1f-4d9c-a40a-b7bae2a05d73",
   "metadata": {},
   "outputs": [
    {
     "data": {
      "text/plain": [
       "[2, 3, 2.33, 'ayush', (2+3j), 15, True]"
      ]
     },
     "execution_count": 45,
     "metadata": {},
     "output_type": "execute_result"
    }
   ],
   "source": [
    "list"
   ]
  },
  {
   "cell_type": "code",
   "execution_count": 46,
   "id": "4f8d531e-a6c7-4589-88db-e051007bb9ed",
   "metadata": {},
   "outputs": [],
   "source": [
    "list[3]=1500"
   ]
  },
  {
   "cell_type": "code",
   "execution_count": 47,
   "id": "3326357b-aa47-453a-9529-6f8b5c8fe5aa",
   "metadata": {},
   "outputs": [
    {
     "data": {
      "text/plain": [
       "[2, 3, 2.33, 1500, (2+3j), 15, True]"
      ]
     },
     "execution_count": 47,
     "metadata": {},
     "output_type": "execute_result"
    }
   ],
   "source": [
    "list #value changes"
   ]
  },
  {
   "cell_type": "code",
   "execution_count": 48,
   "id": "41291f6a-2ba9-4405-b6fb-484df964c353",
   "metadata": {},
   "outputs": [],
   "source": [
    "a=\"ayush\""
   ]
  },
  {
   "cell_type": "code",
   "execution_count": 49,
   "id": "daf34ef2-2905-430a-8740-dcbbe3383a33",
   "metadata": {},
   "outputs": [
    {
     "data": {
      "text/plain": [
       "'s'"
      ]
     },
     "execution_count": 49,
     "metadata": {},
     "output_type": "execute_result"
    }
   ],
   "source": [
    "a[3]"
   ]
  },
  {
   "cell_type": "code",
   "execution_count": 50,
   "id": "1021f06a-7e22-457a-914a-01938031d00a",
   "metadata": {},
   "outputs": [
    {
     "ename": "TypeError",
     "evalue": "'str' object does not support item assignment",
     "output_type": "error",
     "traceback": [
      "\u001b[0;31m---------------------------------------------------------------------------\u001b[0m",
      "\u001b[0;31mTypeError\u001b[0m                                 Traceback (most recent call last)",
      "Cell \u001b[0;32mIn[50], line 1\u001b[0m\n\u001b[0;32m----> 1\u001b[0m \u001b[43ma\u001b[49m\u001b[43m[\u001b[49m\u001b[38;5;241;43m3\u001b[39;49m\u001b[43m]\u001b[49m\u001b[38;5;241m=\u001b[39m\u001b[38;5;124m\"\u001b[39m\u001b[38;5;124mh\u001b[39m\u001b[38;5;124m\"\u001b[39m \u001b[38;5;66;03m# string is immutable\u001b[39;00m\n",
      "\u001b[0;31mTypeError\u001b[0m: 'str' object does not support item assignment"
     ]
    }
   ],
   "source": [
    "a[3]=\"h\" # string is immutable"
   ]
  },
  {
   "cell_type": "code",
   "execution_count": null,
   "id": "80df693a-18c6-4640-a5fa-da5b79be2b8f",
   "metadata": {},
   "outputs": [],
   "source": []
  },
  {
   "cell_type": "code",
   "execution_count": 1,
   "id": "1f327a2e-9485-4162-be48-25d080ce4c92",
   "metadata": {},
   "outputs": [
    {
     "name": "stdin",
     "output_type": "stream",
     "text": [
      "Enter the dividend (A):  25\n",
      "Enter the divisor (B):  5\n"
     ]
    },
    {
     "name": "stdout",
     "output_type": "stream",
     "text": [
      "1.0 is purely divisible by 5, and it can be divided 2 times.\n"
     ]
    }
   ],
   "source": [
    "#correction code of question 5 \n",
    "# Input values for A and B\n",
    "A = int(input(\"Enter the dividend (A): \"))\n",
    "B = int(input(\"Enter the divisor (B): \"))\n",
    "\n",
    "# Initialize a count variable to keep track of the number of divisions\n",
    "count = 0\n",
    "\n",
    "# Use a while loop to perform division until A is no longer divisible by B\n",
    "while A % B == 0:\n",
    "    A = A / B  # Update A to the result of the division\n",
    "    count += 1  # Increment the count\n",
    "\n",
    "# Check if A eventually becomes 1 (purely divisible)\n",
    "if A == 1:\n",
    "    print(f\"{A} is purely divisible by {B}, and it can be divided {count} times.\")\n",
    "else:\n",
    "    print(f\"{A} is not purely divisible by {B}.\")\n"
   ]
  },
  {
   "cell_type": "code",
   "execution_count": null,
   "id": "d6afc757-f362-4016-89b7-5859deffef13",
   "metadata": {},
   "outputs": [],
   "source": []
  }
 ],
 "metadata": {
  "kernelspec": {
   "display_name": "Python 3 (ipykernel)",
   "language": "python",
   "name": "python3"
  },
  "language_info": {
   "codemirror_mode": {
    "name": "ipython",
    "version": 3
   },
   "file_extension": ".py",
   "mimetype": "text/x-python",
   "name": "python",
   "nbconvert_exporter": "python",
   "pygments_lexer": "ipython3",
   "version": "3.10.8"
  }
 },
 "nbformat": 4,
 "nbformat_minor": 5
}
