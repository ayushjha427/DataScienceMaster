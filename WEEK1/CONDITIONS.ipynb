{
 "cells": [
  {
   "cell_type": "code",
   "execution_count": 1,
   "id": "af88db16-68b2-4014-b0cf-7b455fb016bf",
   "metadata": {},
   "outputs": [
    {
     "name": "stdout",
     "output_type": "stream",
     "text": [
      "yes a is greater than 8\n"
     ]
    }
   ],
   "source": [
    "a=10\n",
    "if a>8:\n",
    "    print(\"yes a is greater than 8\")  "
   ]
  },
  {
   "cell_type": "code",
   "execution_count": 2,
   "id": "4d62aa4e-591a-4ee6-a0ac-3475e3bfed88",
   "metadata": {},
   "outputs": [],
   "source": [
    "# python not have concept of curly brases bracket \n",
    "# it self using tab option and  a vreate gap then write next line code"
   ]
  },
  {
   "cell_type": "code",
   "execution_count": 3,
   "id": "f96041a8-29ef-41c4-a51d-28784e1112d8",
   "metadata": {},
   "outputs": [
    {
     "data": {
      "text/plain": [
       "False"
      ]
     },
     "execution_count": 3,
     "metadata": {},
     "output_type": "execute_result"
    }
   ],
   "source": [
    "a<8"
   ]
  },
  {
   "cell_type": "code",
   "execution_count": 4,
   "id": "fa507f9c-2377-4192-91a5-795af4e2a852",
   "metadata": {},
   "outputs": [
    {
     "data": {
      "text/plain": [
       "True"
      ]
     },
     "execution_count": 4,
     "metadata": {},
     "output_type": "execute_result"
    }
   ],
   "source": [
    "a>8"
   ]
  },
  {
   "cell_type": "code",
   "execution_count": 6,
   "id": "110db039-d031-4034-a013-b3c43278ac7f",
   "metadata": {},
   "outputs": [
    {
     "name": "stdout",
     "output_type": "stream",
     "text": [
      "yes a is greater than 8\n"
     ]
    }
   ],
   "source": [
    "a=10\n",
    "if a>=8:\n",
    "    print(\"yes a is greater than 8\") "
   ]
  },
  {
   "cell_type": "code",
   "execution_count": 11,
   "id": "6097a2da-1d3d-4a3f-bbfe-9c659baf7134",
   "metadata": {},
   "outputs": [
    {
     "name": "stdout",
     "output_type": "stream",
     "text": [
      "yes b<40\n"
     ]
    }
   ],
   "source": [
    "b=20\n",
    "if b>30:\n",
    "    print(\"yes b is greater than 30\")\n",
    "elif b<40:\n",
    "    print(\"yes b<40\")"
   ]
  },
  {
   "cell_type": "code",
   "execution_count": 13,
   "id": "4c81523c-e779-4b7c-8055-90dd857e059d",
   "metadata": {},
   "outputs": [
    {
     "name": "stdout",
     "output_type": "stream",
     "text": [
      "no b is not greater than 30\n"
     ]
    }
   ],
   "source": [
    "b=20\n",
    "if b>30:\n",
    "    print(\"yes b is greater than 30\")\n",
    "else :\n",
    "     print(\"no b is not greater than 30\")"
   ]
  },
  {
   "cell_type": "code",
   "execution_count": 17,
   "id": "ff212745-5c67-4207-ae5b-ab3c34608c3b",
   "metadata": {},
   "outputs": [
    {
     "name": "stdout",
     "output_type": "stream",
     "text": [
      "this is my default\n"
     ]
    }
   ],
   "source": [
    "b=20\n",
    "if b>30:\n",
    "    print(\"yes b is greater than 30\")\n",
    "elif b>40:\n",
    "    print(\"yes b<40\")\n",
    "elif b>100:\n",
    "    print(\"yes b is greater than 100\")\n",
    "else:\n",
    "    print(\"this is my default\")"
   ]
  },
  {
   "cell_type": "code",
   "execution_count": 19,
   "id": "b00c6140-de08-4748-82c5-7cb0bf72a85c",
   "metadata": {},
   "outputs": [],
   "source": [
    "# not takking input from user\n",
    "#inout function"
   ]
  },
  {
   "cell_type": "code",
   "execution_count": 20,
   "id": "4e198c3e-ed87-433b-bb11-ed6cdaa2c93b",
   "metadata": {},
   "outputs": [
    {
     "name": "stdin",
     "output_type": "stream",
     "text": [
      " 334\n"
     ]
    },
    {
     "data": {
      "text/plain": [
       "'334'"
      ]
     },
     "execution_count": 20,
     "metadata": {},
     "output_type": "execute_result"
    }
   ],
   "source": [
    "input() # input function always convert in string but \n",
    "# we want integer so now we using typecasting.\n",
    "# typecasting i using for changing data types for example\n",
    "# int to string ,string to int,int to float"
   ]
  },
  {
   "cell_type": "code",
   "execution_count": 22,
   "id": "c655e874-72a1-4d73-a02c-5416353fcc7a",
   "metadata": {},
   "outputs": [
    {
     "data": {
      "text/plain": [
       "34"
      ]
     },
     "execution_count": 22,
     "metadata": {},
     "output_type": "execute_result"
    }
   ],
   "source": [
    "int('34')"
   ]
  },
  {
   "cell_type": "code",
   "execution_count": 3,
   "id": "c0e79a3a-339c-45fc-bd8f-159d04996234",
   "metadata": {},
   "outputs": [
    {
     "name": "stdin",
     "output_type": "stream",
     "text": [
      " 40\n"
     ]
    },
    {
     "name": "stdout",
     "output_type": "stream",
     "text": [
      "yes b is greater than 30\n"
     ]
    }
   ],
   "source": [
    "b=int(input())\n",
    "if b>30:\n",
    "    print(\"yes b is greater than 30\")\n",
    "elif b>40:\n",
    "    print(\"yes b<40\")\n",
    "elif b>100:\n",
    "    print(\"yes b is greater than 100\")\n",
    "else:\n",
    "    print(\"this is my default\")"
   ]
  },
  {
   "cell_type": "code",
   "execution_count": 4,
   "id": "0853d9eb-bfd0-4f10-8f1f-9f26fafe9ca5",
   "metadata": {},
   "outputs": [],
   "source": [
    "#loops do,while"
   ]
  },
  {
   "cell_type": "code",
   "execution_count": 5,
   "id": "4fcb97e1-9105-4009-8a0b-fa02e8263ce9",
   "metadata": {},
   "outputs": [
    {
     "data": {
      "text/plain": [
       "int"
      ]
     },
     "execution_count": 5,
     "metadata": {},
     "output_type": "execute_result"
    }
   ],
   "source": [
    "type(b)"
   ]
  },
  {
   "cell_type": "code",
   "execution_count": 8,
   "id": "3dae27da-07af-47c4-ae08-07ef5df10c94",
   "metadata": {},
   "outputs": [
    {
     "name": "stdout",
     "output_type": "stream",
     "text": [
      "1\n",
      "2\n",
      "3\n"
     ]
    }
   ],
   "source": [
    "n=4\n",
    "i=1\n",
    "while i<n:\n",
    "    print(i)\n",
    "    i=i+1"
   ]
  },
  {
   "cell_type": "code",
   "execution_count": 10,
   "id": "5b1bbc59-535a-4ab7-89b1-ab7324c40bf3",
   "metadata": {},
   "outputs": [
    {
     "name": "stdout",
     "output_type": "stream",
     "text": [
      "1\n",
      "2\n",
      "3\n",
      "end\n"
     ]
    }
   ],
   "source": [
    "n=4\n",
    "i=1\n",
    "while i<n:\n",
    "    print(i)\n",
    "    i=i+1\n",
    "else: \n",
    "    print(\"end\")"
   ]
  },
  {
   "cell_type": "code",
   "execution_count": 13,
   "id": "5d3a6d09-a691-4240-8aa1-99278acab145",
   "metadata": {},
   "outputs": [
    {
     "name": "stdout",
     "output_type": "stream",
     "text": [
      "1\n",
      "2\n"
     ]
    }
   ],
   "source": [
    "n=4\n",
    "i=1\n",
    "while i<n:\n",
    "    print(i)\n",
    "    i=i+1\n",
    "    if i==3:\n",
    "        break # break stop the program and end\n",
    "else: \n",
    "    print(\"end\")"
   ]
  },
  {
   "cell_type": "code",
   "execution_count": 15,
   "id": "3ac4c534-64d4-4850-85d9-44a87bb32057",
   "metadata": {},
   "outputs": [],
   "source": [
    "# for loop "
   ]
  },
  {
   "cell_type": "code",
   "execution_count": 20,
   "id": "142e35e7-e1d5-482d-8ecd-55336cee90e7",
   "metadata": {},
   "outputs": [
    {
     "name": "stdout",
     "output_type": "stream",
     "text": [
      "a\n",
      "y\n",
      "u\n",
      "s\n",
      "h\n",
      " \n",
      "k\n",
      "u\n",
      "m\n",
      "a\n",
      "r\n",
      " \n",
      "j\n",
      "h\n",
      "a\n"
     ]
    }
   ],
   "source": [
    "s='ayush kumar jha'\n",
    "for i in s:\n",
    "    print(i)"
   ]
  },
  {
   "cell_type": "code",
   "execution_count": 23,
   "id": "92b5d48d-1af2-4816-8a97-88ddadd1d1f5",
   "metadata": {},
   "outputs": [
    {
     "name": "stdout",
     "output_type": "stream",
     "text": [
      "2\n",
      "<class 'int'>\n",
      "3\n",
      "<class 'int'>\n",
      "5\n",
      "<class 'int'>\n",
      "6\n",
      "<class 'int'>\n",
      "7\n",
      "<class 'int'>\n",
      "ayush\n",
      "<class 'str'>\n",
      "pw skills\n",
      "<class 'str'>\n",
      "False\n",
      "<class 'bool'>\n"
     ]
    }
   ],
   "source": [
    "l=[2,3,5,6,7,'ayush','pw skills',False]\n",
    "for i in l:\n",
    "        print(i)\n",
    "        print(type(i))"
   ]
  },
  {
   "cell_type": "code",
   "execution_count": 24,
   "id": "317fc55e-86a9-4411-8ba3-5eb5a93bf0c2",
   "metadata": {},
   "outputs": [
    {
     "name": "stdout",
     "output_type": "stream",
     "text": [
      "<class 'int'>\n",
      "<class 'int'>\n",
      "<class 'int'>\n",
      "<class 'int'>\n",
      "<class 'int'>\n",
      "<class 'str'>\n",
      "<class 'str'>\n",
      "<class 'bool'>\n",
      "this is excute after sucessfully completion of for loop\n"
     ]
    }
   ],
   "source": [
    "for i in l:\n",
    "    print(type(i))\n",
    "else:\n",
    "    print(\"this is excute after sucessfully completion of for loop\")"
   ]
  },
  {
   "cell_type": "code",
   "execution_count": 25,
   "id": "a3ecd5db-112d-4a57-8c47-829804a15786",
   "metadata": {},
   "outputs": [
    {
     "name": "stdout",
     "output_type": "stream",
     "text": [
      "<class 'int'>\n",
      "<class 'int'>\n",
      "<class 'int'>\n",
      "<class 'int'>\n"
     ]
    }
   ],
   "source": [
    "for i in l:\n",
    "    print(type(i))\n",
    "    if i==6:\n",
    "        break\n",
    "else:\n",
    "    print(\"this is excute after sucessfully completion of for loop\")"
   ]
  },
  {
   "cell_type": "code",
   "execution_count": 26,
   "id": "c94d7b7f-6e18-436d-98d7-aded97c747cd",
   "metadata": {},
   "outputs": [],
   "source": [
    "# else only excute when for complete sucessfuly \n",
    "#if not then only that particular part of for show in output and rest is not and else also not excute\n"
   ]
  },
  {
   "cell_type": "code",
   "execution_count": 27,
   "id": "6a7bc53f-09c3-47ae-9176-354bd49dca27",
   "metadata": {},
   "outputs": [],
   "source": [
    "#continue condition when we need to resume our loop we use continue"
   ]
  },
  {
   "cell_type": "code",
   "execution_count": 5,
   "id": "e05c236f-9b9f-4ba1-8b72-12f385a32c17",
   "metadata": {},
   "outputs": [
    {
     "name": "stdout",
     "output_type": "stream",
     "text": [
      "<class 'int'>\n",
      "<class 'int'>\n",
      "<class 'int'>\n",
      "<class 'int'>\n",
      "<class 'int'>\n",
      "<class 'str'>\n",
      "<class 'str'>\n",
      "<class 'bool'>\n",
      "excute after for loop\n"
     ]
    }
   ],
   "source": [
    "l=[2,3,5,6,7,'ayush','pw skills',False]\n",
    "for i in l:\n",
    "    print(type(i))\n",
    "    if i==6:\n",
    "        continue\n",
    "        print(i)\n",
    "else:\n",
    "    print(\"excute after for loop\")"
   ]
  },
  {
   "cell_type": "code",
   "execution_count": 6,
   "id": "8d556fa2-9fef-4ec2-acfb-dbd1a5a64d9e",
   "metadata": {},
   "outputs": [],
   "source": [
    "#range function use for data producing in loops"
   ]
  },
  {
   "cell_type": "code",
   "execution_count": 7,
   "id": "7328a649-50db-4c54-952e-6849e77550d5",
   "metadata": {},
   "outputs": [
    {
     "data": {
      "text/plain": [
       "range(0, 10)"
      ]
     },
     "execution_count": 7,
     "metadata": {},
     "output_type": "execute_result"
    }
   ],
   "source": [
    "range(10)"
   ]
  },
  {
   "cell_type": "code",
   "execution_count": 10,
   "id": "6b815a8c-61ec-43cd-a0ac-acd196a92790",
   "metadata": {},
   "outputs": [
    {
     "data": {
      "text/plain": [
       "[0, 1, 2, 3, 4]"
      ]
     },
     "execution_count": 10,
     "metadata": {},
     "output_type": "execute_result"
    }
   ],
   "source": [
    "list(range(5))"
   ]
  },
  {
   "cell_type": "code",
   "execution_count": null,
   "id": "f30d5809-4e7f-49d8-bc2b-f2c104e56308",
   "metadata": {},
   "outputs": [],
   "source": [
    "#range work with ony loop and lists."
   ]
  }
 ],
 "metadata": {
  "kernelspec": {
   "display_name": "Python 3 (ipykernel)",
   "language": "python",
   "name": "python3"
  },
  "language_info": {
   "codemirror_mode": {
    "name": "ipython",
    "version": 3
   },
   "file_extension": ".py",
   "mimetype": "text/x-python",
   "name": "python",
   "nbconvert_exporter": "python",
   "pygments_lexer": "ipython3",
   "version": "3.10.8"
  }
 },
 "nbformat": 4,
 "nbformat_minor": 5
}
