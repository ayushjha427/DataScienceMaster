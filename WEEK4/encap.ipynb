{
 "cells": [
  {
   "cell_type": "code",
   "execution_count": 6,
   "id": "fc5634ac-8cd7-4ecd-95ea-ec90f70e8241",
   "metadata": {},
   "outputs": [],
   "source": [
    "class test:\n",
    "    \n",
    "    def __init__(self , a,b ):\n",
    "        self.a = a\n",
    "        self.b =b\n",
    "        \n",
    "t = test(23,34)\n"
   ]
  },
  {
   "cell_type": "code",
   "execution_count": 7,
   "id": "272be515-6b68-432d-9b8d-93887299731b",
   "metadata": {},
   "outputs": [],
   "source": [
    "t.a = 2345345"
   ]
  },
  {
   "cell_type": "code",
   "execution_count": 8,
   "id": "3d8955a4-c64f-43c1-8a60-5fba4f33a9e1",
   "metadata": {},
   "outputs": [
    {
     "data": {
      "text/plain": [
       "2345345"
      ]
     },
     "execution_count": 8,
     "metadata": {},
     "output_type": "execute_result"
    }
   ],
   "source": [
    "t.a"
   ]
  },
  {
   "cell_type": "code",
   "execution_count": 9,
   "id": "69153ec6-9c5b-454b-b580-6e073de30cd4",
   "metadata": {},
   "outputs": [],
   "source": [
    "t.a = 5445"
   ]
  },
  {
   "cell_type": "code",
   "execution_count": 10,
   "id": "1e430887-d7b2-45f5-a602-c63591f78eaa",
   "metadata": {},
   "outputs": [
    {
     "data": {
      "text/plain": [
       "5445"
      ]
     },
     "execution_count": 10,
     "metadata": {},
     "output_type": "execute_result"
    }
   ],
   "source": [
    "t.a"
   ]
  },
  {
   "cell_type": "code",
   "execution_count": 11,
   "id": "d8aace73-02c6-4339-b7d3-86c7d9c5c931",
   "metadata": {},
   "outputs": [
    {
     "data": {
      "text/plain": [
       "34"
      ]
     },
     "execution_count": 11,
     "metadata": {},
     "output_type": "execute_result"
    }
   ],
   "source": [
    "t.b"
   ]
  },
  {
   "cell_type": "code",
   "execution_count": 12,
   "id": "d880691f-4dc0-4d2e-b0ec-dc378259b16b",
   "metadata": {},
   "outputs": [],
   "source": [
    "t.b= 5544"
   ]
  },
  {
   "cell_type": "code",
   "execution_count": 13,
   "id": "f2e77ad3-f7ee-4567-81bc-a9fff7ab133d",
   "metadata": {},
   "outputs": [
    {
     "data": {
      "text/plain": [
       "5544"
      ]
     },
     "execution_count": 13,
     "metadata": {},
     "output_type": "execute_result"
    }
   ],
   "source": [
    "t.b"
   ]
  },
  {
   "cell_type": "markdown",
   "id": "191e7891-efbf-4c73-a320-401f9bb0f53f",
   "metadata": {},
   "source": [
    "encapsulation basically hide internal so the user not see and modify the internal \n",
    "part. we wrap the code and user see only that part we want to see by user"
   ]
  },
  {
   "cell_type": "code",
   "execution_count": 15,
   "id": "a38bf2f8-353d-418c-a017-08c19dc71d23",
   "metadata": {},
   "outputs": [],
   "source": [
    "class car :\n",
    "    def __init__(self,year,make,model,speed) :\n",
    "        self.__year = year\n",
    "        self.__make = make\n",
    "        self.model = model\n",
    "        self.__speed = speed\n",
    "        "
   ]
  },
  {
   "cell_type": "code",
   "execution_count": 16,
   "id": "eee470fa-69e2-4105-96c0-c9d549e003ad",
   "metadata": {},
   "outputs": [],
   "source": [
    "c = car(2021,\"toyata\",\"innova\" ,100)"
   ]
  },
  {
   "cell_type": "code",
   "execution_count": 17,
   "id": "60df3747-1198-4960-a112-71cef7d0d83c",
   "metadata": {},
   "outputs": [
    {
     "ename": "AttributeError",
     "evalue": "'car' object has no attribute 'year'",
     "output_type": "error",
     "traceback": [
      "\u001b[0;31m---------------------------------------------------------------------------\u001b[0m",
      "\u001b[0;31mAttributeError\u001b[0m                            Traceback (most recent call last)",
      "Cell \u001b[0;32mIn[17], line 1\u001b[0m\n\u001b[0;32m----> 1\u001b[0m \u001b[43mc\u001b[49m\u001b[38;5;241;43m.\u001b[39;49m\u001b[43myear\u001b[49m\n",
      "\u001b[0;31mAttributeError\u001b[0m: 'car' object has no attribute 'year'"
     ]
    }
   ],
   "source": [
    "c.year # encap"
   ]
  },
  {
   "cell_type": "code",
   "execution_count": 18,
   "id": "fca704ec-ca24-4eed-a093-a424ff2c405a",
   "metadata": {},
   "outputs": [
    {
     "data": {
      "text/plain": [
       "'innova'"
      ]
     },
     "execution_count": 18,
     "metadata": {},
     "output_type": "execute_result"
    }
   ],
   "source": [
    "c.model  #not encap"
   ]
  },
  {
   "cell_type": "code",
   "execution_count": 19,
   "id": "83d9def7-9e98-42aa-afde-b68435d6fb41",
   "metadata": {},
   "outputs": [
    {
     "data": {
      "text/plain": [
       "2021"
      ]
     },
     "execution_count": 19,
     "metadata": {},
     "output_type": "execute_result"
    }
   ],
   "source": [
    "c._car__year"
   ]
  },
  {
   "cell_type": "code",
   "execution_count": 20,
   "id": "3b16ac7a-abf3-4f27-b976-8f88e4c2893a",
   "metadata": {},
   "outputs": [],
   "source": [
    "#double underscore use for encap in python"
   ]
  },
  {
   "cell_type": "code",
   "execution_count": 24,
   "id": "fd4385aa-f19e-44ed-99ee-4bb5be9f025d",
   "metadata": {},
   "outputs": [],
   "source": [
    "class car :\n",
    "    def __init__(self,year,make,model,speed) :\n",
    "        self.__year = year\n",
    "        self.__make = make\n",
    "        self.model = model\n",
    "        self.__speed = 0\n",
    "        \n",
    "    def set_speed(self,speed):\n",
    "        self.__speed = 0 if speed<0 else speed\n",
    "    \n",
    "    def get_speed(self) :\n",
    "        return self.__speed"
   ]
  },
  {
   "cell_type": "code",
   "execution_count": 26,
   "id": "59a84a2b-cb90-431e-8fc0-906a24c72544",
   "metadata": {},
   "outputs": [],
   "source": [
    "c = car(2021,\"toyata\",\"innova\" ,100)"
   ]
  },
  {
   "cell_type": "code",
   "execution_count": 27,
   "id": "a7f396d9-bfc4-47fd-b05c-72398dfc920e",
   "metadata": {},
   "outputs": [
    {
     "data": {
      "text/plain": [
       "0"
      ]
     },
     "execution_count": 27,
     "metadata": {},
     "output_type": "execute_result"
    }
   ],
   "source": [
    "c.get_speed()"
   ]
  },
  {
   "cell_type": "code",
   "execution_count": 28,
   "id": "07c933f6-7fa1-48cb-afdb-aa1a45f8af3d",
   "metadata": {},
   "outputs": [],
   "source": [
    "c.set_speed(300)"
   ]
  },
  {
   "cell_type": "code",
   "execution_count": 29,
   "id": "7c25fd71-fa6c-4bda-b3c5-fd4a9a9d882c",
   "metadata": {},
   "outputs": [
    {
     "data": {
      "text/plain": [
       "300"
      ]
     },
     "execution_count": 29,
     "metadata": {},
     "output_type": "execute_result"
    }
   ],
   "source": [
    "c.get_speed()"
   ]
  },
  {
   "cell_type": "code",
   "execution_count": 41,
   "id": "ce86aae0-829a-4de0-8fe1-d3560faaf2c9",
   "metadata": {},
   "outputs": [],
   "source": [
    "class bank_account :\n",
    "    def __init__(self,balance) :\n",
    "        self.__balance= balance\n",
    "    \n",
    "    def deposite(self, amount) :\n",
    "        self.__balance = self.__balance + amount\n",
    "        \n",
    "    def withdraw(self, amount) :\n",
    "        if self.__balance >= amount :\n",
    "            self.__balance = self.__balance - amount\n",
    "            return True\n",
    "        else : \n",
    "            return False\n",
    "    \n",
    "    def get_balance(self) :\n",
    "        return self.__balance"
   ]
  },
  {
   "cell_type": "code",
   "execution_count": 42,
   "id": "198d3ac2-9c81-4e52-8da8-0bfa713e007c",
   "metadata": {},
   "outputs": [],
   "source": [
    "ayush = bank_account(20000)"
   ]
  },
  {
   "cell_type": "code",
   "execution_count": 43,
   "id": "c319daa0-c3fb-4031-a89f-fbf974c1f90e",
   "metadata": {},
   "outputs": [
    {
     "data": {
      "text/plain": [
       "20000"
      ]
     },
     "execution_count": 43,
     "metadata": {},
     "output_type": "execute_result"
    }
   ],
   "source": [
    "ayush.get_balance()"
   ]
  },
  {
   "cell_type": "code",
   "execution_count": 44,
   "id": "1bfe9582-6c22-439e-bffc-0d534f19bb81",
   "metadata": {},
   "outputs": [],
   "source": [
    "ayush.deposite(5000)"
   ]
  },
  {
   "cell_type": "code",
   "execution_count": 45,
   "id": "66107ecb-8540-4f4e-9cd8-eb777c7c5b08",
   "metadata": {},
   "outputs": [
    {
     "data": {
      "text/plain": [
       "25000"
      ]
     },
     "execution_count": 45,
     "metadata": {},
     "output_type": "execute_result"
    }
   ],
   "source": [
    "ayush.get_balance()"
   ]
  },
  {
   "cell_type": "code",
   "execution_count": 46,
   "id": "6a7fbcc5-5a08-4cfc-b02b-ab76729e84d5",
   "metadata": {},
   "outputs": [
    {
     "data": {
      "text/plain": [
       "True"
      ]
     },
     "execution_count": 46,
     "metadata": {},
     "output_type": "execute_result"
    }
   ],
   "source": [
    "ayush.withdraw(2500)"
   ]
  },
  {
   "cell_type": "code",
   "execution_count": 47,
   "id": "e76a5a48-6fa9-421b-abe4-bb0ed9024515",
   "metadata": {},
   "outputs": [
    {
     "data": {
      "text/plain": [
       "22500"
      ]
     },
     "execution_count": 47,
     "metadata": {},
     "output_type": "execute_result"
    }
   ],
   "source": [
    "ayush.get_balance()"
   ]
  },
  {
   "cell_type": "code",
   "execution_count": 48,
   "id": "3e7bceb4-1eb2-4218-a2f9-130e1303f361",
   "metadata": {},
   "outputs": [
    {
     "data": {
      "text/plain": [
       "False"
      ]
     },
     "execution_count": 48,
     "metadata": {},
     "output_type": "execute_result"
    }
   ],
   "source": [
    "ayush.withdraw(25000)"
   ]
  },
  {
   "cell_type": "code",
   "execution_count": 54,
   "id": "e9a4e7b9-aef3-452b-9921-e3488df0d423",
   "metadata": {},
   "outputs": [
    {
     "data": {
      "text/plain": [
       "38500"
      ]
     },
     "execution_count": 54,
     "metadata": {},
     "output_type": "execute_result"
    }
   ],
   "source": [
    "ayush.get_balance()"
   ]
  },
  {
   "cell_type": "code",
   "execution_count": null,
   "id": "7352b12c-9e11-4abd-b63a-13392c9ac144",
   "metadata": {},
   "outputs": [],
   "source": []
  }
 ],
 "metadata": {
  "kernelspec": {
   "display_name": "Python 3 (ipykernel)",
   "language": "python",
   "name": "python3"
  },
  "language_info": {
   "codemirror_mode": {
    "name": "ipython",
    "version": 3
   },
   "file_extension": ".py",
   "mimetype": "text/x-python",
   "name": "python",
   "nbconvert_exporter": "python",
   "pygments_lexer": "ipython3",
   "version": "3.10.8"
  }
 },
 "nbformat": 4,
 "nbformat_minor": 5
}
