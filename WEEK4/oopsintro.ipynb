{
 "cells": [
  {
   "cell_type": "code",
   "execution_count": 1,
   "id": "f0590b74-55a3-4d67-aa41-2163816cc569",
   "metadata": {},
   "outputs": [
    {
     "name": "stdout",
     "output_type": "stream",
     "text": [
      "<class 'int'>\n"
     ]
    }
   ],
   "source": [
    "a = 1\n",
    "print(type(a))"
   ]
  },
  {
   "cell_type": "code",
   "execution_count": 2,
   "id": "bc509388-0a70-487b-8bc1-a80f4f8dc228",
   "metadata": {},
   "outputs": [
    {
     "name": "stdout",
     "output_type": "stream",
     "text": [
      "<class 'str'>\n"
     ]
    }
   ],
   "source": [
    "print(type(\"pwskills\"))"
   ]
  },
  {
   "cell_type": "code",
   "execution_count": 3,
   "id": "c0cddca5-083b-4507-9b6b-d40c3749dfdc",
   "metadata": {},
   "outputs": [],
   "source": [
    "# class is a classifier of real world entity\n",
    "#whereas object use inside class that is real world entity itself\n",
    "#obeject stands for real world entity"
   ]
  },
  {
   "cell_type": "code",
   "execution_count": 5,
   "id": "82c51f14-9b7c-431f-99a3-ebbceb111188",
   "metadata": {},
   "outputs": [],
   "source": [
    "class test :\n",
    "    pass       #blank class "
   ]
  },
  {
   "cell_type": "code",
   "execution_count": 6,
   "id": "1aa3c8d5-b739-4135-9ec8-c43906a70e60",
   "metadata": {},
   "outputs": [],
   "source": [
    "a = test()"
   ]
  },
  {
   "cell_type": "code",
   "execution_count": 7,
   "id": "c0b1b695-c668-48b6-9d75-600792663462",
   "metadata": {},
   "outputs": [
    {
     "data": {
      "text/plain": [
       "__main__.test"
      ]
     },
     "execution_count": 7,
     "metadata": {},
     "output_type": "execute_result"
    }
   ],
   "source": [
    "type(a)"
   ]
  },
  {
   "cell_type": "code",
   "execution_count": 8,
   "id": "9a7f6746-7900-4ee1-bcb2-940f6c0c3d87",
   "metadata": {},
   "outputs": [
    {
     "name": "stdout",
     "output_type": "stream",
     "text": [
      "<class '__main__.test'>\n"
     ]
    }
   ],
   "source": [
    "print(type(a))"
   ]
  },
  {
   "cell_type": "code",
   "execution_count": 16,
   "id": "5a64051c-b94d-44a3-883f-79080ddd4e9f",
   "metadata": {},
   "outputs": [],
   "source": [
    "class pwskills :\n",
    "    def welcome_msg(self):\n",
    "        print(\"welcome to pwkills\")"
   ]
  },
  {
   "cell_type": "code",
   "execution_count": 17,
   "id": "d5e56330-2a34-4594-a04c-e9be940683d3",
   "metadata": {},
   "outputs": [],
   "source": [
    "rohan = pwskills()"
   ]
  },
  {
   "cell_type": "code",
   "execution_count": 18,
   "id": "a64d84e9-3cc9-4ca4-8303-9ec4cd42a725",
   "metadata": {},
   "outputs": [
    {
     "name": "stdout",
     "output_type": "stream",
     "text": [
      "<class '__main__.pwskills'>\n"
     ]
    }
   ],
   "source": [
    "print(type(rohan))"
   ]
  },
  {
   "cell_type": "code",
   "execution_count": 19,
   "id": "97683648-e6ab-4ee1-b126-6c232cbc0fad",
   "metadata": {},
   "outputs": [
    {
     "name": "stdout",
     "output_type": "stream",
     "text": [
      "welcome to pwkills\n"
     ]
    }
   ],
   "source": [
    "rohan.welcome_msg()"
   ]
  },
  {
   "cell_type": "code",
   "execution_count": 22,
   "id": "02e95f19-7f06-4f9d-8e63-0d7c7adf5ba5",
   "metadata": {},
   "outputs": [],
   "source": [
    "gaurav = pwskills()"
   ]
  },
  {
   "cell_type": "code",
   "execution_count": 49,
   "id": "bbb8c0bd-372f-4b93-a141-e142140db1a1",
   "metadata": {},
   "outputs": [
    {
     "name": "stdout",
     "output_type": "stream",
     "text": [
      "welcome to pwkills\n"
     ]
    }
   ],
   "source": [
    "gaurav.welcome_msg()"
   ]
  },
  {
   "cell_type": "code",
   "execution_count": 50,
   "id": "cbae924d-55b5-478e-a9cf-bdcfd3317eb7",
   "metadata": {},
   "outputs": [],
   "source": [
    "class pwskills1 :\n",
    "    \n",
    "    def __init__(self ,phone_number , email_id , student_id ):\n",
    "        self.phone_number = phone_number\n",
    "        self.email_id = email_id\n",
    "        self.student_id = student_id\n",
    "    def return_student_details(self) :\n",
    "        return self.student_id,self.phone_number , self.email_id"
   ]
  },
  {
   "cell_type": "code",
   "execution_count": 51,
   "id": "b2488425-817e-4fc1-90a0-478afe6f75f4",
   "metadata": {},
   "outputs": [
    {
     "ename": "TypeError",
     "evalue": "pwskills1.__init__() missing 3 required positional arguments: 'phone_number', 'email_id', and 'student_id'",
     "output_type": "error",
     "traceback": [
      "\u001b[0;31m---------------------------------------------------------------------------\u001b[0m",
      "\u001b[0;31mTypeError\u001b[0m                                 Traceback (most recent call last)",
      "Cell \u001b[0;32mIn[51], line 1\u001b[0m\n\u001b[0;32m----> 1\u001b[0m rohan \u001b[38;5;241m=\u001b[39m \u001b[43mpwskills1\u001b[49m\u001b[43m(\u001b[49m\u001b[43m)\u001b[49m\n",
      "\u001b[0;31mTypeError\u001b[0m: pwskills1.__init__() missing 3 required positional arguments: 'phone_number', 'email_id', and 'student_id'"
     ]
    }
   ],
   "source": [
    "rohan = pwskills1()"
   ]
  },
  {
   "cell_type": "code",
   "execution_count": 52,
   "id": "2933f820-83c7-426a-a2ab-0e13d938945f",
   "metadata": {},
   "outputs": [],
   "source": [
    "rohan = pwskills1(2234223 ,\"rohan2gmail.com\" ,101)"
   ]
  },
  {
   "cell_type": "code",
   "execution_count": 54,
   "id": "a354bb93-9ebf-42eb-b79e-bdb19706e3c4",
   "metadata": {},
   "outputs": [
    {
     "data": {
      "text/plain": [
       "(101, 2234223, 'rohan2gmail.com')"
      ]
     },
     "execution_count": 54,
     "metadata": {},
     "output_type": "execute_result"
    }
   ],
   "source": [
    "rohan.return_student_details()"
   ]
  },
  {
   "cell_type": "code",
   "execution_count": 55,
   "id": "65f343bd-02b0-4df7-947d-a882bd9e93f7",
   "metadata": {},
   "outputs": [
    {
     "data": {
      "text/plain": [
       "2234223"
      ]
     },
     "execution_count": 55,
     "metadata": {},
     "output_type": "execute_result"
    }
   ],
   "source": [
    "rohan.phone_number"
   ]
  },
  {
   "cell_type": "code",
   "execution_count": 56,
   "id": "a9a61292-4fd3-4eae-adf2-d40df33166d1",
   "metadata": {},
   "outputs": [
    {
     "data": {
      "text/plain": [
       "101"
      ]
     },
     "execution_count": 56,
     "metadata": {},
     "output_type": "execute_result"
    }
   ],
   "source": [
    "rohan.student_id "
   ]
  },
  {
   "cell_type": "code",
   "execution_count": 57,
   "id": "03eff478-f419-49da-99fa-79298f3f4166",
   "metadata": {},
   "outputs": [
    {
     "data": {
      "text/plain": [
       "'rohan2gmail.com'"
      ]
     },
     "execution_count": 57,
     "metadata": {},
     "output_type": "execute_result"
    }
   ],
   "source": [
    "rohan.email_id"
   ]
  },
  {
   "cell_type": "code",
   "execution_count": 61,
   "id": "fba1800f-ea99-48a3-8faa-619cac634e4f",
   "metadata": {},
   "outputs": [],
   "source": [
    "class pwskills2 :\n",
    "    \n",
    "    def __init__(ayush ,phone_number , email_id , student_id ):\n",
    "        ayush.phone_number1 = phone_number\n",
    "        ayush.email_id1 = email_id\n",
    "        ayush.student_id1 = student_id\n",
    "    def return_student_details(self) :\n",
    "        return ayush.student_id1 ,ayush.phone_number1 , ayush.email_id1"
   ]
  },
  {
   "cell_type": "code",
   "execution_count": 62,
   "id": "4143a6c5-8c6d-443e-8565-7804b184f304",
   "metadata": {},
   "outputs": [],
   "source": [
    "rohan = pwskills2(34344,\"rohan@mail\" ,999)"
   ]
  },
  {
   "cell_type": "code",
   "execution_count": 63,
   "id": "243c0b4b-0b49-4394-8b79-c3be029ef14a",
   "metadata": {},
   "outputs": [
    {
     "data": {
      "text/plain": [
       "34344"
      ]
     },
     "execution_count": 63,
     "metadata": {},
     "output_type": "execute_result"
    }
   ],
   "source": [
    "rohan.phone_number1"
   ]
  },
  {
   "cell_type": "code",
   "execution_count": 64,
   "id": "89ef5dab-2f3d-4206-aeae-2c1700cbb12e",
   "metadata": {},
   "outputs": [],
   "source": [
    "#so basically here we understand\n",
    "#self is not a reservered keyword you pass anything in place of self \n",
    "#its just a pointer needed to pass initially"
   ]
  },
  {
   "cell_type": "code",
   "execution_count": null,
   "id": "e510dfb9-be9a-45ec-9e0e-625b333a9627",
   "metadata": {},
   "outputs": [],
   "source": []
  }
 ],
 "metadata": {
  "kernelspec": {
   "display_name": "Python 3 (ipykernel)",
   "language": "python",
   "name": "python3"
  },
  "language_info": {
   "codemirror_mode": {
    "name": "ipython",
    "version": 3
   },
   "file_extension": ".py",
   "mimetype": "text/x-python",
   "name": "python",
   "nbconvert_exporter": "python",
   "pygments_lexer": "ipython3",
   "version": "3.10.8"
  }
 },
 "nbformat": 4,
 "nbformat_minor": 5
}
