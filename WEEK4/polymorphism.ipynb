{
 "cells": [
  {
   "cell_type": "code",
   "execution_count": 1,
   "id": "cd82257b-60fc-4ecc-8f03-4f249d085c74",
   "metadata": {},
   "outputs": [],
   "source": [
    "#the behaviour or roles of a entity have different behaviour or roles\n",
    "#that known as polymorphism"
   ]
  },
  {
   "cell_type": "code",
   "execution_count": 2,
   "id": "8f6677f3-4874-4b7f-99cf-acb35056d97b",
   "metadata": {},
   "outputs": [],
   "source": [
    "def test (a , b) :\n",
    "    return a+b"
   ]
  },
  {
   "cell_type": "code",
   "execution_count": 3,
   "id": "7d5b1851-151b-4924-9b31-614e3a7f2e8f",
   "metadata": {},
   "outputs": [
    {
     "data": {
      "text/plain": [
       "7"
      ]
     },
     "execution_count": 3,
     "metadata": {},
     "output_type": "execute_result"
    }
   ],
   "source": [
    "test(3,4)"
   ]
  },
  {
   "cell_type": "code",
   "execution_count": 5,
   "id": "c25acd63-75ef-46a4-9f0b-fd1f3ccbac53",
   "metadata": {},
   "outputs": [
    {
     "data": {
      "text/plain": [
       "'ayushjha'"
      ]
     },
     "execution_count": 5,
     "metadata": {},
     "output_type": "execute_result"
    }
   ],
   "source": [
    "test(\"ayush\",\"jha\") "
   ]
  },
  {
   "cell_type": "code",
   "execution_count": 6,
   "id": "948b4865-a5aa-44e5-bdaa-8f25390f218b",
   "metadata": {},
   "outputs": [],
   "source": [
    "#behaviour change in string congnitate\n",
    "#but in integer add the values"
   ]
  },
  {
   "cell_type": "code",
   "execution_count": 7,
   "id": "10a6892e-5ec6-4c9b-b5b2-47193abc017e",
   "metadata": {},
   "outputs": [
    {
     "data": {
      "text/plain": [
       "[1, 2, 3, 4, 5, 6, 7, 8, 9]"
      ]
     },
     "execution_count": 7,
     "metadata": {},
     "output_type": "execute_result"
    }
   ],
   "source": [
    "test([1,2,3,4] ,[5,6,7,8,9])"
   ]
  },
  {
   "cell_type": "code",
   "execution_count": 27,
   "id": "87a5ef28-a83e-4030-9ff4-bfbfda3984d2",
   "metadata": {},
   "outputs": [],
   "source": [
    "class data_science :\n",
    "    \n",
    "    def syllabus(self) :\n",
    "        print(\"this is my syllbus for this course\")"
   ]
  },
  {
   "cell_type": "code",
   "execution_count": 28,
   "id": "6aa26ad2-1c19-440d-9d80-6561a59a6433",
   "metadata": {},
   "outputs": [],
   "source": [
    "class web_dev :\n",
    "    \n",
    "    def syllabus(self) :\n",
    "        print(\"this is web dev syllabus\")"
   ]
  },
  {
   "cell_type": "code",
   "execution_count": 29,
   "id": "07a723f1-8a65-4cba-9fd4-d66aa9938c3c",
   "metadata": {},
   "outputs": [],
   "source": [
    "def class_parcer(class_obj):\n",
    "    for i in class_obj :\n",
    "        i.syllabus()"
   ]
  },
  {
   "cell_type": "code",
   "execution_count": 30,
   "id": "5401c5a6-ba24-4b71-9214-a36d5c0d5722",
   "metadata": {},
   "outputs": [],
   "source": [
    "data_science = data_science()"
   ]
  },
  {
   "cell_type": "code",
   "execution_count": 31,
   "id": "da3c877b-95cf-4f1f-b9fa-f7903420cfc2",
   "metadata": {},
   "outputs": [],
   "source": [
    "web_dev = web_dev()"
   ]
  },
  {
   "cell_type": "code",
   "execution_count": 32,
   "id": "09a39292-4b04-4d91-b0d3-13d608e1b7d8",
   "metadata": {},
   "outputs": [],
   "source": [
    "class_obj = [data_science ,web_dev]"
   ]
  },
  {
   "cell_type": "code",
   "execution_count": 33,
   "id": "8970b5bc-70c7-4803-bdc8-5d2d732cff13",
   "metadata": {},
   "outputs": [
    {
     "name": "stdout",
     "output_type": "stream",
     "text": [
      "this is my syllbus for this course\n",
      "this is web dev syllabus\n"
     ]
    }
   ],
   "source": [
    "class_parcer(class_obj)"
   ]
  },
  {
   "cell_type": "code",
   "execution_count": null,
   "id": "14301077-3932-452c-a303-ec89f4b2d204",
   "metadata": {},
   "outputs": [],
   "source": []
  }
 ],
 "metadata": {
  "kernelspec": {
   "display_name": "Python 3 (ipykernel)",
   "language": "python",
   "name": "python3"
  },
  "language_info": {
   "codemirror_mode": {
    "name": "ipython",
    "version": 3
   },
   "file_extension": ".py",
   "mimetype": "text/x-python",
   "name": "python",
   "nbconvert_exporter": "python",
   "pygments_lexer": "ipython3",
   "version": "3.10.8"
  }
 },
 "nbformat": 4,
 "nbformat_minor": 5
}
