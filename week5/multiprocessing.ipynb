{
 "cells": [
  {
   "cell_type": "code",
   "execution_count": 1,
   "id": "f111dc70-1a7d-42ca-9d17-0e46933ab734",
   "metadata": {},
   "outputs": [
    {
     "name": "stdout",
     "output_type": "stream",
     "text": [
      "this is my multiprocessing program\n",
      "None\n",
      "this is my main program\n",
      "this is my multiprocessing program\n"
     ]
    }
   ],
   "source": [
    "import multiprocessing\n",
    "def test() :\n",
    "    print(\"this is my multiprocessing program\")\n",
    "\n",
    "print(test())\n",
    "\n",
    "if __name__ == '__main__':\n",
    "    m = multiprocessing.Process(target=test)\n",
    "    print(\"this is my main program\")\n",
    "    m.start()\n",
    "    m.join()\n",
    "    "
   ]
  },
  {
   "cell_type": "code",
   "execution_count": 2,
   "id": "357b5b92-578e-402d-925c-2887b02601ca",
   "metadata": {},
   "outputs": [
    {
     "name": "stdout",
     "output_type": "stream",
     "text": [
      "[1, 4, 9, 16, 25, 36, 49, 64, 81, 121, 196, 361]\n"
     ]
    }
   ],
   "source": [
    "def square(n):\n",
    "    return n**2\n",
    "\n",
    "if __name__=='__main__':\n",
    "    #for achiveing multiprocess we have keywords\n",
    "    #process ,pool,pipe\n",
    "    #processes = 2 is allocating the process core\n",
    "    #for fast programming use maximum number of core\n",
    "    with multiprocessing.Pool(processes=2) as pool :\n",
    "        output =  pool.map(square,[1,2,3,4,5,6,7,8,9,11,14,19])\n",
    "        print(output)"
   ]
  },
  {
   "cell_type": "code",
   "execution_count": null,
   "id": "8015dc98-7c20-44cf-a337-a629c38b42a0",
   "metadata": {},
   "outputs": [
    {
     "name": "stdout",
     "output_type": "stream",
     "text": [
      "0\n",
      "1\n",
      "2\n",
      "3\n",
      "4\n",
      "5\n",
      "6\n",
      "7\n",
      "8\n",
      "9\n",
      "ayush\n"
     ]
    }
   ],
   "source": [
    "import multiprocessing\n",
    "def producer(q) :\n",
    "    for i in range(10):\n",
    "        q.put(i)\n",
    "\n",
    "def consume(q) :\n",
    "    while True :\n",
    "        item = q.get()\n",
    "        if item is None :\n",
    "            break\n",
    "        print(item)\n",
    "        \n",
    "if __name__ =='__main__' :\n",
    "    queue = multiprocessing.Queue()\n",
    "    m1 = multiprocessing.Process(target=producer, args= (queue,))\n",
    "    m2 = multiprocessing.Process(target=consume , args =  (queue,))\n",
    "    m1.start()\n",
    "    m2.start()\n",
    "    queue.put(\"ayush\")\n",
    "    m1.join()\n",
    "    m2.join()"
   ]
  },
  {
   "cell_type": "code",
   "execution_count": 4,
   "id": "c5e6f471-4dfc-49a1-962c-6e7d96802d28",
   "metadata": {},
   "outputs": [
    {
     "name": "stdout",
     "output_type": "stream",
     "text": [
      "[2, 3, 4, 5, 6, 7, 64]\n"
     ]
    }
   ],
   "source": [
    "import multiprocessing\n",
    "def square(index, value) :\n",
    "    value[index] = value[index]**2\n",
    "    \n",
    "if __name__ == '__main__':\n",
    "    arr = multiprocessing.Array('i' ,[2,3,4,5,6,7,8])\n",
    "    process = []\n",
    "    for i in range(7):\n",
    "        m = multiprocessing.Process(target=square,args=(i,arr))\n",
    "    process.append(m)\n",
    "    m.start()\n",
    "for m in process:\n",
    "    m.join()\n",
    "    print(list(arr))"
   ]
  },
  {
   "cell_type": "code",
   "execution_count": null,
   "id": "faf60f86-edb2-419d-83f3-dbe8cb0a9d7c",
   "metadata": {},
   "outputs": [
    {
     "name": "stdout",
     "output_type": "stream",
     "text": [
      "my name is ayush\n",
      "this is my message to students\n",
      "i am teaching python\n"
     ]
    }
   ],
   "source": [
    "import multiprocessing\n",
    "def sender(conn , msg) :\n",
    "    for i in msg:\n",
    "        conn.send(i)\n",
    "    conn.close()\n",
    "\n",
    "def receive(conn):\n",
    "    while True :\n",
    "        try :\n",
    "            msg = conn.recv()\n",
    "        except Exception as e :\n",
    "            print(e)\n",
    "            break\n",
    "        print(msg)\n",
    "\n",
    "if __name__ == '__main__' :\n",
    "    msg = [\"my name is ayush\" ,\"this is my message to students\",\"i am teaching python\"]\n",
    "    parent_conn , child_conn = multiprocessing.Pipe()\n",
    "    m1 = multiprocessing.Process(target = sender,args=(child_conn,msg))\n",
    "    m2 = multiprocessing.Process(target =receive , args = (parent_conn,))\n",
    "    m1.start()\n",
    "    m2.start()\n",
    "    m1.join()\n",
    "    child_conn.close()\n",
    "    m2.join()\n",
    "    parent_conn.close()\n",
    "    \n",
    "    "
   ]
  },
  {
   "cell_type": "markdown",
   "id": "d503e01d-5cc9-4399-a79a-05acea2f1e8d",
   "metadata": {},
   "source": [
    "pipe in python use for connection establich and sending or receiving messages \n",
    "use in two way communication or networking \n"
   ]
  },
  {
   "cell_type": "code",
   "execution_count": null,
   "id": "5da257af-d681-4b2d-9653-35713f8ef3b2",
   "metadata": {},
   "outputs": [],
   "source": []
  }
 ],
 "metadata": {
  "kernelspec": {
   "display_name": "Python 3 (ipykernel)",
   "language": "python",
   "name": "python3"
  },
  "language_info": {
   "codemirror_mode": {
    "name": "ipython",
    "version": 3
   },
   "file_extension": ".py",
   "mimetype": "text/x-python",
   "name": "python",
   "nbconvert_exporter": "python",
   "pygments_lexer": "ipython3",
   "version": "3.10.8"
  }
 },
 "nbformat": 4,
 "nbformat_minor": 5
}
