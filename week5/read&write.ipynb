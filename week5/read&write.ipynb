{
 "cells": [
  {
   "cell_type": "code",
   "execution_count": 1,
   "id": "4550aa41-799e-411a-8d9f-898238831095",
   "metadata": {},
   "outputs": [],
   "source": [
    "data = {\n",
    "    \"name\" : \"ayush\",\n",
    "    \"mail_id\" : \"ayush@gnmail.com\",\n",
    "    \"ph_no\" : 98923892,\n",
    "    \"subject\" : [\"data science\" ,\"big data\" , \"data science\"]\n",
    "}"
   ]
  },
  {
   "cell_type": "code",
   "execution_count": 2,
   "id": "b8036b40-ee36-4079-aceb-c2d1df7c3ab1",
   "metadata": {},
   "outputs": [],
   "source": [
    "import json\n",
    "with open(\"data.json\" ,\"w\" ) as f:\n",
    "    json.dump (data ,f)"
   ]
  },
  {
   "cell_type": "markdown",
   "id": "6400d4f9-64c4-4c58-af30-fa984d587ab8",
   "metadata": {},
   "source": [
    "key and value pair should be in json"
   ]
  },
  {
   "cell_type": "code",
   "execution_count": 5,
   "id": "27c9ac11-79ef-4e00-b979-852ff4d9a1f4",
   "metadata": {},
   "outputs": [],
   "source": [
    "with open(\"data.json\" ,\"r\") as f:\n",
    "    data = json.load(f)"
   ]
  },
  {
   "cell_type": "code",
   "execution_count": 6,
   "id": "89655a4e-abff-4edd-a792-e7d95ef093d7",
   "metadata": {},
   "outputs": [
    {
     "data": {
      "text/plain": [
       "{'name': 'ayush',\n",
       " 'mail_id': 'ayush@gnmail.com',\n",
       " 'ph_no': 98923892,\n",
       " 'subject': ['data science', 'big data', 'data science']}"
      ]
     },
     "execution_count": 6,
     "metadata": {},
     "output_type": "execute_result"
    }
   ],
   "source": [
    "data"
   ]
  },
  {
   "cell_type": "code",
   "execution_count": 9,
   "id": "7d775b2d-d234-493f-8610-71e660b9344c",
   "metadata": {},
   "outputs": [
    {
     "data": {
      "text/plain": [
       "'big data'"
      ]
     },
     "execution_count": 9,
     "metadata": {},
     "output_type": "execute_result"
    }
   ],
   "source": [
    "data['subject'][1]"
   ]
  },
  {
   "cell_type": "code",
   "execution_count": 10,
   "id": "46d543a0-1e79-4953-8354-b752c114e46e",
   "metadata": {},
   "outputs": [
    {
     "data": {
      "text/plain": [
       "'data science'"
      ]
     },
     "execution_count": 10,
     "metadata": {},
     "output_type": "execute_result"
    }
   ],
   "source": [
    "data['subject'][0]"
   ]
  },
  {
   "cell_type": "code",
   "execution_count": 11,
   "id": "bbdf6eea-946c-4241-b68b-08e0f9b2989a",
   "metadata": {},
   "outputs": [
    {
     "data": {
      "text/plain": [
       "'ayush@gnmail.com'"
      ]
     },
     "execution_count": 11,
     "metadata": {},
     "output_type": "execute_result"
    }
   ],
   "source": [
    "data['mail_id']"
   ]
  },
  {
   "cell_type": "code",
   "execution_count": null,
   "id": "c9844749-80a7-4b02-8cca-6c289ff6eef6",
   "metadata": {},
   "outputs": [],
   "source": []
  }
 ],
 "metadata": {
  "kernelspec": {
   "display_name": "Python 3 (ipykernel)",
   "language": "python",
   "name": "python3"
  },
  "language_info": {
   "codemirror_mode": {
    "name": "ipython",
    "version": 3
   },
   "file_extension": ".py",
   "mimetype": "text/x-python",
   "name": "python",
   "nbconvert_exporter": "python",
   "pygments_lexer": "ipython3",
   "version": "3.10.8"
  }
 },
 "nbformat": 4,
 "nbformat_minor": 5
}
