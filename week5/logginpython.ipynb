{
 "cells": [
  {
   "cell_type": "code",
   "execution_count": 1,
   "id": "7d1352b3-44d8-4328-8cf2-5e713d29144c",
   "metadata": {},
   "outputs": [
    {
     "name": "stdout",
     "output_type": "stream",
     "text": [
      "my name is ayush kumar jha\n"
     ]
    }
   ],
   "source": [
    "print(\"my name is ayush kumar jha\")"
   ]
  },
  {
   "cell_type": "code",
   "execution_count": 2,
   "id": "84c984d5-2534-4fbf-aa27-c968efd355f2",
   "metadata": {},
   "outputs": [],
   "source": [
    "import logging \n",
    "logging.basicConfig(filename= \"test.log\",level = logging.INFO)"
   ]
  },
  {
   "cell_type": "code",
   "execution_count": 3,
   "id": "51c7df17-f381-4ca5-aa79-6cf8b113093b",
   "metadata": {},
   "outputs": [],
   "source": [
    "logging.info(\"log this line of excution\")"
   ]
  },
  {
   "cell_type": "code",
   "execution_count": 4,
   "id": "fc763b81-0934-4133-88ed-726fa758f763",
   "metadata": {},
   "outputs": [],
   "source": [
    "logging.info(\"this is my print sattement\")"
   ]
  },
  {
   "cell_type": "code",
   "execution_count": 5,
   "id": "7c173d3b-907b-46e7-a869-4f82a35b1f90",
   "metadata": {},
   "outputs": [],
   "source": [
    "logging.info(\"my name is ayush kumar jha\")"
   ]
  },
  {
   "cell_type": "code",
   "execution_count": 8,
   "id": "e214d08c-435f-4a37-97a4-570f815148c5",
   "metadata": {},
   "outputs": [],
   "source": [
    "logging.debug(\"this is my name\")"
   ]
  },
  {
   "cell_type": "code",
   "execution_count": 6,
   "id": "1ddea99c-0b86-4519-9b93-d3d6ef142718",
   "metadata": {},
   "outputs": [],
   "source": [
    "#logging not print in consol this print in file so its better than print try to use logging every time intstead of print"
   ]
  },
  {
   "cell_type": "markdown",
   "id": "6eb61a58-3470-4836-a5a4-1b4facb1b3e9",
   "metadata": {},
   "source": [
    "1. NOTSET\n",
    "2. DEBUG\n",
    "3. INFO\n",
    "4. WARNING\n",
    "5. ERROR\n",
    "6. CRITICAL"
   ]
  },
  {
   "cell_type": "code",
   "execution_count": 17,
   "id": "9d300411-a8e1-472d-b24e-022c8929fcf2",
   "metadata": {},
   "outputs": [],
   "source": [
    "import logging \n",
    "logging.basicConfig(filename= \"test.log\",level = logging.INFO)"
   ]
  },
  {
   "cell_type": "code",
   "execution_count": 15,
   "id": "c6871279-5584-459d-aa92-02773e68dc97",
   "metadata": {},
   "outputs": [],
   "source": [
    "logging.warning(\"this is warning message\")"
   ]
  },
  {
   "cell_type": "code",
   "execution_count": 16,
   "id": "e0540e47-2007-464c-a8c8-58f989b74b10",
   "metadata": {},
   "outputs": [],
   "source": [
    "logging.error(\"this is  error message in this logging file\")"
   ]
  },
  {
   "cell_type": "code",
   "execution_count": 18,
   "id": "067946ca-ebd9-4dc1-8c75-c26e0b14d52c",
   "metadata": {},
   "outputs": [],
   "source": [
    "logging.critical(\"this is critical message\")"
   ]
  },
  {
   "cell_type": "code",
   "execution_count": 30,
   "id": "be4963ff-7275-4c86-a35d-1106eff1857f",
   "metadata": {},
   "outputs": [],
   "source": [
    "logging.shutdown()"
   ]
  },
  {
   "cell_type": "code",
   "execution_count": 31,
   "id": "380018dd-71cb-4902-81b8-5369fab65fb9",
   "metadata": {},
   "outputs": [],
   "source": [
    "import logging\n",
    "logging.basicConfig(filename = \"logdata.log\", level = logging.DEBUG, format = '%(asctime)s 5(message)s')"
   ]
  },
  {
   "cell_type": "code",
   "execution_count": 32,
   "id": "08f0c68d-2852-497f-9cd3-6917925d07f7",
   "metadata": {},
   "outputs": [],
   "source": [
    "logging.info(\"this is my message\")\n",
    "logging.error(\"this is my error messsage\")\n",
    "logging.critical(\"this is critical\")"
   ]
  },
  {
   "cell_type": "code",
   "execution_count": 33,
   "id": "160ce1e5-ba6a-4f55-b9b5-a48383805bea",
   "metadata": {},
   "outputs": [],
   "source": [
    "logging.shutdown()"
   ]
  },
  {
   "cell_type": "code",
   "execution_count": 34,
   "id": "3e27b0c7-8688-4b28-8ffa-2f0aea568dbc",
   "metadata": {},
   "outputs": [],
   "source": [
    "import logging\n",
    "logging.basicConfig(filename = \"logdata.log\", level = logging.DEBUG, format = '%(asctime)s 5(message)s')"
   ]
  },
  {
   "cell_type": "code",
   "execution_count": 35,
   "id": "f47136c9-1eb7-4c17-9e16-9a93f7eafce3",
   "metadata": {},
   "outputs": [],
   "source": [
    "logging.info(\"this is my message\")\n",
    "logging.error(\"this is my error messsage\")\n",
    "logging.critical(\"this is critical\")"
   ]
  },
  {
   "cell_type": "code",
   "execution_count": null,
   "id": "064bf5a7-90d6-466e-9fdc-265f2e390a86",
   "metadata": {},
   "outputs": [],
   "source": []
  }
 ],
 "metadata": {
  "kernelspec": {
   "display_name": "Python 3 (ipykernel)",
   "language": "python",
   "name": "python3"
  },
  "language_info": {
   "codemirror_mode": {
    "name": "ipython",
    "version": 3
   },
   "file_extension": ".py",
   "mimetype": "text/x-python",
   "name": "python",
   "nbconvert_exporter": "python",
   "pygments_lexer": "ipython3",
   "version": "3.10.8"
  }
 },
 "nbformat": 4,
 "nbformat_minor": 5
}
