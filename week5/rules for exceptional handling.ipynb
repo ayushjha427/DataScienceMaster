{
 "cells": [
  {
   "cell_type": "code",
   "execution_count": 1,
   "id": "b4cd3baf-902e-4f98-acb1-42a2bf892266",
   "metadata": {},
   "outputs": [
    {
     "name": "stdout",
     "output_type": "stream",
     "text": [
      "division by zero\n"
     ]
    }
   ],
   "source": [
    "#user always a specific exception not a gemeric one\n",
    "try :\n",
    "    10/0\n",
    "except Exception as e :\n",
    "    print(e)\n",
    "    #this is a generic one"
   ]
  },
  {
   "cell_type": "code",
   "execution_count": 2,
   "id": "6668cd5b-cb86-4b3a-a86d-3bd1a6c79978",
   "metadata": {},
   "outputs": [
    {
     "name": "stdout",
     "output_type": "stream",
     "text": [
      "division by zero\n"
     ]
    }
   ],
   "source": [
    "try :\n",
    "    10/0\n",
    "except ZeroDivisionError as e :\n",
    "    print(e)\n",
    "    #this is a specific one"
   ]
  },
  {
   "cell_type": "code",
   "execution_count": 3,
   "id": "1f091ea2-b35d-4a9f-b189-44f67210d56c",
   "metadata": {},
   "outputs": [
    {
     "name": "stdout",
     "output_type": "stream",
     "text": [
      "i am trying to handle a zerodivision error division by zero\n"
     ]
    }
   ],
   "source": [
    "try :\n",
    "    10/0\n",
    "except ZeroDivisionError as e :\n",
    "    print(\"i am trying to handle a zerodivision error\" ,e)\n",
    "    #use print statement proper"
   ]
  },
  {
   "cell_type": "code",
   "execution_count": 7,
   "id": "718a880d-ccae-4a6c-8177-4111a11565c2",
   "metadata": {},
   "outputs": [],
   "source": [
    "#always try to use log instead of print\n",
    "import logging\n",
    "logging.basicConfig(filename = \"error.log\" , level = logging.error)\n",
    "try :\n",
    "    10/0\n",
    "except ZeroDivisionError as e :\n",
    "    logging.info(\"i am trying to handle a zerodivision error{}\".format(e))"
   ]
  },
  {
   "cell_type": "code",
   "execution_count": 8,
   "id": "7a14c197-bb4f-4d3c-8602-9ff6d198db7b",
   "metadata": {},
   "outputs": [],
   "source": [
    "#always avoid to write a multiple exception handling\n",
    "import logging\n",
    "logging.basicConfig(filename = \"error.log\" , level = logging.error)\n",
    "try :\n",
    "    10/0\n",
    "except FileNotFoundError as e :\n",
    "    logging.error(\"i am handling file not foud {}\".format(e))\n",
    "except AttributeError as e :\n",
    "    logging.error(\"i am handling attribute error {}\".format(e))\n",
    "except ZeroDivisionError as e :\n",
    "    logging.info(\"i am trying to handle a zerodivision error{}\".format(e))"
   ]
  },
  {
   "cell_type": "code",
   "execution_count": 9,
   "id": "810b1c90-27d0-4be6-9f23-92f892df450d",
   "metadata": {},
   "outputs": [],
   "source": [
    "#document all the error\n",
    "#cleanup all the resources\n",
    "try :\n",
    "    with open(\"test.txt\" ,'w') as f :\n",
    "        f.write(\"this is my data to file\")\n",
    "        \n",
    "except FileNotFoundError as e :\n",
    "    logging.error(\"i am handling file not foud {}\".format(e))\n",
    "finally :\n",
    "    f.close() #always need to clear the resource by usung \n",
    "    #finally keyword \n"
   ]
  },
  {
   "cell_type": "code",
   "execution_count": null,
   "id": "b7eedc1c-f2df-4c10-a3b5-a44b789dda05",
   "metadata": {},
   "outputs": [],
   "source": []
  }
 ],
 "metadata": {
  "kernelspec": {
   "display_name": "Python 3 (ipykernel)",
   "language": "python",
   "name": "python3"
  },
  "language_info": {
   "codemirror_mode": {
    "name": "ipython",
    "version": 3
   },
   "file_extension": ".py",
   "mimetype": "text/x-python",
   "name": "python",
   "nbconvert_exporter": "python",
   "pygments_lexer": "ipython3",
   "version": "3.10.8"
  }
 },
 "nbformat": 4,
 "nbformat_minor": 5
}
