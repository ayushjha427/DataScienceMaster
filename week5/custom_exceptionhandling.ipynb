{
 "cells": [
  {
   "cell_type": "code",
   "execution_count": 8,
   "id": "2aa6749a-b3a7-4241-a6b3-f0c8545887d0",
   "metadata": {},
   "outputs": [],
   "source": [
    "class validateage(Exception):\n",
    "    \n",
    "    def __init__(self, msg) :\n",
    "        self.msg = msg"
   ]
  },
  {
   "cell_type": "code",
   "execution_count": 9,
   "id": "ca208f0f-1e00-4c22-92e7-e70ac44fa101",
   "metadata": {},
   "outputs": [],
   "source": [
    "def validate(age):\n",
    "    if age < 0 :\n",
    "        raise validateage(\"entered age is negative\")\n",
    "    elif age > 150 :\n",
    "        raise validateage(\"entered age is high\")\n",
    "    else:\n",
    "        print(\"age is valid\")\n",
    "        \n",
    "    #raise. is keyword for raising exception"
   ]
  },
  {
   "cell_type": "code",
   "execution_count": 13,
   "id": "68e848b8-1835-4d2d-8309-700d8fb3db69",
   "metadata": {},
   "outputs": [
    {
     "name": "stdin",
     "output_type": "stream",
     "text": [
      "enter your age  989\n"
     ]
    },
    {
     "name": "stdout",
     "output_type": "stream",
     "text": [
      "entered age is high\n"
     ]
    }
   ],
   "source": [
    "try :\n",
    "    age = int(input(\"enter your age \"))\n",
    "    validate(age)\n",
    "except validateage as e :\n",
    "    print(e)"
   ]
  },
  {
   "cell_type": "code",
   "execution_count": null,
   "id": "a0f5d8fd-7367-4499-abba-33e99a49c7d2",
   "metadata": {},
   "outputs": [],
   "source": []
  }
 ],
 "metadata": {
  "kernelspec": {
   "display_name": "Python 3 (ipykernel)",
   "language": "python",
   "name": "python3"
  },
  "language_info": {
   "codemirror_mode": {
    "name": "ipython",
    "version": 3
   },
   "file_extension": ".py",
   "mimetype": "text/x-python",
   "name": "python",
   "nbconvert_exporter": "python",
   "pygments_lexer": "ipython3",
   "version": "3.10.8"
  }
 },
 "nbformat": 4,
 "nbformat_minor": 5
}
