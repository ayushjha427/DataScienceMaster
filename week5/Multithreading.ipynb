{
 "cells": [
  {
   "cell_type": "code",
   "execution_count": 1,
   "id": "0139cde4-6ad1-452b-9a93-da7683796bc9",
   "metadata": {},
   "outputs": [],
   "source": [
    "import threading\n",
    "def test(id) :\n",
    "    print(\"program start %d\" ,id)"
   ]
  },
  {
   "cell_type": "code",
   "execution_count": 2,
   "id": "6b3cb3df-06c9-4b1e-902e-0cd391fe8603",
   "metadata": {},
   "outputs": [
    {
     "name": "stdout",
     "output_type": "stream",
     "text": [
      "program start %d 45\n"
     ]
    }
   ],
   "source": [
    "test(45)"
   ]
  },
  {
   "cell_type": "code",
   "execution_count": 6,
   "id": "30ca43b3-19be-4d69-abe9-bf1facc98d82",
   "metadata": {},
   "outputs": [],
   "source": [
    "thread = [threading.Thread(target=test, args = (i,) )for i in range (10)]"
   ]
  },
  {
   "cell_type": "code",
   "execution_count": 7,
   "id": "0f328795-ac09-44c1-a012-faa8aca0f674",
   "metadata": {},
   "outputs": [
    {
     "name": "stdout",
     "output_type": "stream",
     "text": [
      "program start %d 0\n",
      "program start %d 1\n",
      "program start %d 2\n",
      "program start %d 3\n",
      "program start %d 4\n",
      "program start %d 5\n",
      "program start %d 6\n",
      "program start %d 7\n",
      "program start %d 8\n",
      "program start %d 9\n"
     ]
    }
   ],
   "source": [
    "for t in thread :\n",
    "    t.start()"
   ]
  },
  {
   "cell_type": "code",
   "execution_count": 8,
   "id": "9f9f817b-e078-4a2b-8e63-23a01fccaf8b",
   "metadata": {},
   "outputs": [
    {
     "data": {
      "text/plain": [
       "[0, 1, 2, 3, 4]"
      ]
     },
     "execution_count": 8,
     "metadata": {},
     "output_type": "execute_result"
    }
   ],
   "source": [
    "list(range(5))"
   ]
  },
  {
   "cell_type": "code",
   "execution_count": 9,
   "id": "148cfd02-48cd-4a9a-acec-0b2646612d9f",
   "metadata": {},
   "outputs": [
    {
     "data": {
      "text/plain": [
       "[<Thread(Thread-5 (test), stopped 140499343091264)>,\n",
       " <Thread(Thread-6 (test), stopped 140499343091264)>,\n",
       " <Thread(Thread-7 (test), stopped 140499343091264)>,\n",
       " <Thread(Thread-8 (test), stopped 140499343091264)>,\n",
       " <Thread(Thread-9 (test), stopped 140499343091264)>,\n",
       " <Thread(Thread-10 (test), stopped 140499343091264)>,\n",
       " <Thread(Thread-11 (test), stopped 140499343091264)>,\n",
       " <Thread(Thread-12 (test), stopped 140499343091264)>,\n",
       " <Thread(Thread-13 (test), stopped 140499343091264)>,\n",
       " <Thread(Thread-14 (test), stopped 140499343091264)>]"
      ]
     },
     "execution_count": 9,
     "metadata": {},
     "output_type": "execute_result"
    }
   ],
   "source": [
    "thread"
   ]
  },
  {
   "cell_type": "code",
   "execution_count": 10,
   "id": "13d91220-e9cc-4c54-bb49-f2948b062049",
   "metadata": {},
   "outputs": [
    {
     "data": {
      "text/plain": [
       "140499725518336"
      ]
     },
     "execution_count": 10,
     "metadata": {},
     "output_type": "execute_result"
    }
   ],
   "source": [
    "id(thread)"
   ]
  },
  {
   "cell_type": "code",
   "execution_count": 21,
   "id": "fd6f7972-0ac9-4396-af49-53cb07ece63b",
   "metadata": {},
   "outputs": [],
   "source": [
    "import threading\n",
    "import urllib.request\n",
    "\n",
    "def file_download(url , filename) :\n",
    "    urllib.request.urlretrieve(url,filename)\n",
    "    \n",
    "file_download(\"https://github.com/ayushjha427/ASSIGNMENTS-PWSKILLS/blob/main/assignment2.ipynb\" ,\"test.txt\")"
   ]
  },
  {
   "cell_type": "code",
   "execution_count": 14,
   "id": "185e957e-1a47-4921-9ed5-e502883674c9",
   "metadata": {},
   "outputs": [],
   "source": [
    "#now the data is retrive in local system fle test.txt"
   ]
  },
  {
   "cell_type": "code",
   "execution_count": 15,
   "id": "308b58e2-a8ce-44e8-933c-464a2363520a",
   "metadata": {},
   "outputs": [],
   "source": [
    "url_list = [\"https://github.com/ayushjha427/ASSIGNMENTS-PWSKILLS/blob/main/assignment2.ipynb\"\n",
    "           ,\"https://github.com/ayushjha427/ASSIGNMENTS-PWSKILLS/blob/main/w-1%2CAssignment-%201.ipynb\"]"
   ]
  },
  {
   "cell_type": "code",
   "execution_count": 16,
   "id": "30281f4a-b32a-4c7e-a924-4d47eceb82b7",
   "metadata": {},
   "outputs": [
    {
     "data": {
      "text/plain": [
       "['https://github.com/ayushjha427/ASSIGNMENTS-PWSKILLS/blob/main/assignment2.ipynb',\n",
       " 'https://github.com/ayushjha427/ASSIGNMENTS-PWSKILLS/blob/main/w-1%2CAssignment-%201.ipynb']"
      ]
     },
     "execution_count": 16,
     "metadata": {},
     "output_type": "execute_result"
    }
   ],
   "source": [
    "url_list"
   ]
  },
  {
   "cell_type": "code",
   "execution_count": 17,
   "id": "229eb281-d3ab-416d-9025-509b210f8cde",
   "metadata": {},
   "outputs": [],
   "source": [
    "file_name_list = ['data1.txt' ,'data2.txt']"
   ]
  },
  {
   "cell_type": "code",
   "execution_count": 23,
   "id": "f3e1f64a-a38f-484f-905f-f8626c23892a",
   "metadata": {},
   "outputs": [],
   "source": [
    "ther = [threading.Thread(target= file_download, args = (url_list[i],\n",
    "file_name_list[i])) for i in range(len(url_list))]"
   ]
  },
  {
   "cell_type": "code",
   "execution_count": 24,
   "id": "a4f90e23-bad0-457f-8691-a6b456b59f2b",
   "metadata": {},
   "outputs": [
    {
     "data": {
      "text/plain": [
       "[<Thread(Thread-15 (file_download), initial)>,\n",
       " <Thread(Thread-16 (file_download), initial)>]"
      ]
     },
     "execution_count": 24,
     "metadata": {},
     "output_type": "execute_result"
    }
   ],
   "source": [
    "ther"
   ]
  },
  {
   "cell_type": "code",
   "execution_count": 25,
   "id": "70a8759b-cb98-4adc-99c7-eb69b401434a",
   "metadata": {},
   "outputs": [],
   "source": [
    "for t in ther :\n",
    "    t.start()"
   ]
  },
  {
   "cell_type": "code",
   "execution_count": 26,
   "id": "dd20a473-b7de-4986-a87f-85336bd76b50",
   "metadata": {},
   "outputs": [],
   "source": [
    "# now all the data of link retrieved in data1 and \n",
    "#data2 file"
   ]
  },
  {
   "cell_type": "code",
   "execution_count": 50,
   "id": "533c024c-d837-463e-b6e4-4bfbdc0ee661",
   "metadata": {},
   "outputs": [],
   "source": [
    "import time"
   ]
  },
  {
   "cell_type": "code",
   "execution_count": 56,
   "id": "5e2437bf-9662-425f-a6d3-8b6bdfb78831",
   "metadata": {},
   "outputs": [],
   "source": [
    "def test1(id) :\n",
    "    for i in range(10) :\n",
    "        print(\"test1 %d printing %d\" %(id,i))\n",
    "       # time.sleep(1)"
   ]
  },
  {
   "cell_type": "code",
   "execution_count": 52,
   "id": "dabff17d-5f9a-4e9d-9448-191398157be7",
   "metadata": {},
   "outputs": [
    {
     "name": "stdout",
     "output_type": "stream",
     "text": [
      "test1 1 printing 0\n",
      "test1 1 printing 1\n",
      "test1 1 printing 2\n",
      "test1 1 printing 3\n",
      "test1 1 printing 4\n",
      "test1 1 printing 5\n",
      "test1 1 printing 6\n",
      "test1 1 printing 7\n",
      "test1 1 printing 8\n",
      "test1 1 printing 9\n"
     ]
    }
   ],
   "source": [
    "test1(1)"
   ]
  },
  {
   "cell_type": "code",
   "execution_count": 64,
   "id": "ad1f9142-dcd6-419e-9f9f-548c202c162b",
   "metadata": {},
   "outputs": [],
   "source": [
    "thread1 = [threading.Thread(target= test1 , args = (i,)) for i in range(3)]"
   ]
  },
  {
   "cell_type": "code",
   "execution_count": 55,
   "id": "d7891256-312e-43b2-92f5-580e340a6327",
   "metadata": {},
   "outputs": [
    {
     "name": "stdout",
     "output_type": "stream",
     "text": [
      "test1 0 printing 0\n",
      "test1 1 printing 0\n",
      "test1 2 printing 0\n",
      "test1 1 printing 1\n",
      "test1 0 printing 1\n",
      "test1 2 printing 1\n",
      "test1 1 printing 2test1 0 printing 2\n",
      "test1 2 printing 2\n",
      "\n",
      "test1 0 printing 3test1 2 printing 3\n",
      "test1 1 printing 3\n",
      "\n",
      "test1 2 printing 4\n",
      "test1 1 printing 4\n",
      "test1 0 printing 4\n",
      "test1 0 printing 5\n",
      "test1 2 printing 5\n",
      "test1 1 printing 5\n",
      "test1 0 printing 6\n",
      "test1 2 printing 6\n",
      "test1 1 printing 6\n",
      "test1 0 printing 7\n",
      "test1 2 printing 7\n",
      "test1 1 printing 7\n",
      "test1 0 printing 8\n",
      "test1 2 printing 8\n",
      "test1 1 printing 8\n",
      "test1 0 printing 9\n",
      "test1 1 printing 9\n",
      "test1 2 printing 9\n"
     ]
    }
   ],
   "source": [
    "for t in thread1:\n",
    "    t.start()"
   ]
  },
  {
   "cell_type": "code",
   "execution_count": 48,
   "id": "f1a0699b-38fa-49ac-8688-50d05f0a2d15",
   "metadata": {},
   "outputs": [
    {
     "name": "stdout",
     "output_type": "stream",
     "text": [
      "test1 0 printing 0\n",
      "test1 0 printing 1\n",
      "test1 0 printing 2\n",
      "test1 0 printing 3\n",
      "test1 0 printing 4\n",
      "test1 0 printing 5\n",
      "test1 0 printing 6\n",
      "test1 0 printing 7\n",
      "test1 0 printing 8\n",
      "test1 0 printing 9\n"
     ]
    }
   ],
   "source": [
    "test1(0)"
   ]
  },
  {
   "cell_type": "code",
   "execution_count": 60,
   "id": "27369acf-a3df-408b-a698-d1b9c2b483d8",
   "metadata": {},
   "outputs": [
    {
     "name": "stdout",
     "output_type": "stream",
     "text": [
      "test1 0 printing 0\n",
      "test1 0 printing 1\n",
      "test1 0 printing 2\n",
      "test1 0 printing 3\n",
      "test1 0 printing 4\n",
      "test1 0 printing 5\n",
      "test1 0 printing 6\n",
      "test1 0 printing 7\n",
      "test1 0 printing 8\n",
      "test1 0 printing 9\n",
      "test1 1 printing 0\n",
      "test1 1 printing 1\n",
      "test1 1 printing 2\n",
      "test1 1 printing 3\n",
      "test1 1 printing 4\n",
      "test1 1 printing 5\n",
      "test1 1 printing 6\n",
      "test1 1 printing 7\n",
      "test1 1 printing 8\n",
      "test1 1 printing 9\n",
      "test1 2 printing 0\n",
      "test1 2 printing 1\n",
      "test1 2 printing 2\n",
      "test1 2 printing 3\n",
      "test1 2 printing 4\n",
      "test1 2 printing 5\n",
      "test1 2 printing 6\n",
      "test1 2 printing 7\n",
      "test1 2 printing 8\n",
      "test1 2 printing 9\n"
     ]
    }
   ],
   "source": [
    "for t in thread1:\n",
    "    t.start()\n",
    "    #when we comment our sleep line and not giving sleep time\n",
    "    #so the program firslty compelet i d) then 1 then 2\n",
    "    #but if we use sleep then the porgram internally switching\n",
    "    #and excuting 3 other argument at a same time."
   ]
  },
  {
   "cell_type": "code",
   "execution_count": 62,
   "id": "e259ea1c-b3bb-4b2a-9f51-321f41f4895a",
   "metadata": {},
   "outputs": [],
   "source": [
    "def test1(id) :\n",
    "    for i in range(10) :\n",
    "        print(\"test1 %d printing %d %s\" %(id,i,time.ctime))\n",
    "        time.sleep(1)"
   ]
  },
  {
   "cell_type": "code",
   "execution_count": 65,
   "id": "ad1ac728-9e41-4718-bed9-937c92a199f9",
   "metadata": {},
   "outputs": [
    {
     "name": "stdout",
     "output_type": "stream",
     "text": [
      "test1 0 printing 0 <built-in function ctime>\n",
      "test1 1 printing 0 <built-in function ctime>\n",
      "test1 2 printing 0 <built-in function ctime>\n",
      "test1 2 printing 1 <built-in function ctime>\n",
      "test1 0 printing 1 <built-in function ctime>\n",
      "test1 1 printing 1 <built-in function ctime>\n",
      "test1 2 printing 2 <built-in function ctime>test1 1 printing 2 <built-in function ctime>\n",
      "\n",
      "test1 0 printing 2 <built-in function ctime>\n",
      "test1 1 printing 3 <built-in function ctime>\n",
      "test1 0 printing 3 <built-in function ctime>\n",
      "test1 2 printing 3 <built-in function ctime>\n",
      "test1 1 printing 4 <built-in function ctime>\n",
      "test1 0 printing 4 <built-in function ctime>\n",
      "test1 2 printing 4 <built-in function ctime>\n",
      "test1 1 printing 5 <built-in function ctime>test1 2 printing 5 <built-in function ctime>\n",
      "test1 0 printing 5 <built-in function ctime>\n",
      "\n",
      "test1 2 printing 6 <built-in function ctime>test1 0 printing 6 <built-in function ctime>\n",
      "test1 1 printing 6 <built-in function ctime>\n",
      "\n",
      "test1 0 printing 7 <built-in function ctime>test1 1 printing 7 <built-in function ctime>\n",
      "test1 2 printing 7 <built-in function ctime>\n",
      "\n",
      "test1 1 printing 8 <built-in function ctime>test1 2 printing 8 <built-in function ctime>\n",
      "test1 0 printing 8 <built-in function ctime>\n",
      "\n",
      "test1 2 printing 9 <built-in function ctime>\n",
      "test1 0 printing 9 <built-in function ctime>\n",
      "test1 1 printing 9 <built-in function ctime>\n"
     ]
    }
   ],
   "source": [
    "for t in thread1:\n",
    "    t.start()\n",
    "    #rescource utilization "
   ]
  },
  {
   "cell_type": "code",
   "execution_count": 66,
   "id": "077c96ea-d067-4de3-b6af-ed3f23764ed6",
   "metadata": {},
   "outputs": [],
   "source": [
    "shared_var = 0\n",
    "lock_var = threading.Lock()"
   ]
  },
  {
   "cell_type": "code",
   "execution_count": 67,
   "id": "85c3dbbc-cfda-4dc7-b824-57aa5d5ecdec",
   "metadata": {},
   "outputs": [],
   "source": [
    "def test2(id) :\n",
    "    global shared_var # global is thread access by all\n",
    "    with lock_var:\n",
    "        shared_var = shared_var+1\n",
    "        print(\"test2 id is %d ahs increase the shared varible by %d\"\n",
    "              %(id,shared_var))"
   ]
  },
  {
   "cell_type": "code",
   "execution_count": 69,
   "id": "b35c4b1b-22d0-4dcd-a088-e0c62f0fdb94",
   "metadata": {},
   "outputs": [],
   "source": [
    "ther3 = [threading.Thread(target= test2 , args = (id,) ) for i in range(3)]"
   ]
  },
  {
   "cell_type": "code",
   "execution_count": 70,
   "id": "03f83290-8f04-40f0-b51b-cb16d5f1b0ac",
   "metadata": {},
   "outputs": [
    {
     "data": {
      "text/plain": [
       "[<Thread(Thread-32 (test2), initial)>,\n",
       " <Thread(Thread-33 (test2), initial)>,\n",
       " <Thread(Thread-34 (test2), initial)>]"
      ]
     },
     "execution_count": 70,
     "metadata": {},
     "output_type": "execute_result"
    }
   ],
   "source": [
    "ther3"
   ]
  },
  {
   "cell_type": "code",
   "execution_count": 80,
   "id": "98a36cac-5e18-4dc8-81ba-2d73676df309",
   "metadata": {},
   "outputs": [
    {
     "name": "stderr",
     "output_type": "stream",
     "text": [
      "Exception in thread Thread-56 (test2):\n",
      "Traceback (most recent call last):\n",
      "  File \"/opt/conda/lib/python3.10/threading.py\", line 1016, in _bootstrap_inner\n",
      "Exception in thread Thread-57 (test2):\n",
      "Traceback (most recent call last):\n",
      "  File \"/opt/conda/lib/python3.10/threading.py\", line 1016, in _bootstrap_inner\n",
      "Exception in thread Thread-58 (test2):\n",
      "Traceback (most recent call last):\n",
      "  File \"/opt/conda/lib/python3.10/threading.py\", line 1016, in _bootstrap_inner\n",
      "    self.run()\n",
      "  File \"/opt/conda/lib/python3.10/threading.py\", line 953, in run\n",
      "    self.run()\n",
      "  File \"/opt/conda/lib/python3.10/threading.py\", line 953, in run\n",
      "    self._target(*self._args, **self._kwargs)\n",
      "  File \"/tmp/ipykernel_127/3927464752.py\", line 13, in test2\n",
      "    self._target(*self._args, **self._kwargs)\n",
      "  File \"/tmp/ipykernel_127/3927464752.py\", line 13, in test2\n",
      "    self.run()\n",
      "  File \"/opt/conda/lib/python3.10/threading.py\", line 953, in run\n",
      "TypeError: %d format: a real number is required, not builtin_function_or_method\n",
      "    self._target(*self._args, **self._kwargs)\n",
      "  File \"/tmp/ipykernel_127/3927464752.py\", line 13, in test2\n",
      "TypeError: %d format: a real number is required, not builtin_function_or_method\n",
      "TypeError: %d format: a real number is required, not builtin_function_or_method\n"
     ]
    }
   ],
   "source": [
    "import threading\n",
    "import time\n",
    "\n",
    "shared_var = 0\n",
    "lock_var = threading.Lock()\n",
    "\n",
    "\n",
    "\n",
    "def test2(id):\n",
    "    global shared_var # global is thread access by all\n",
    "    with lock_var:\n",
    "        shared_var = shared_var+1\n",
    "        print(\"test2 id is %d ahs increase the shared varible by %d\"%(id,shared_var))\n",
    "theards = [threading.Thread(target= test2 , args = (id,) ) for i in range(3)]\n",
    "\n",
    "for t in theards:\n",
    "     t.start()"
   ]
  },
  {
   "cell_type": "code",
   "execution_count": 78,
   "id": "afc89854-050c-4164-bf50-2ebe74cf7540",
   "metadata": {},
   "outputs": [
    {
     "name": "stdout",
     "output_type": "stream",
     "text": [
      "test2 id is 0 has increased the shared variable by 1\n",
      "test2 id is 1 has increased the shared variable by 2\n",
      "test2 id is 2 has increased the shared variable by 3\n"
     ]
    }
   ],
   "source": [
    "import threading\n",
    "import time\n",
    "\n",
    "shared_var = 0\n",
    "lock_var = threading.Lock()\n",
    "\n",
    "def test2(id):\n",
    "    global shared_var\n",
    "    with lock_var:\n",
    "        shared_var = shared_var + 1\n",
    "        print(\"test2 id is %d has increased the shared variable by %d\" % (id, shared_var))\n",
    "\n",
    "threads = [threading.Thread(target=test2, args=(i,)) for i in range(3)]\n",
    "\n",
    "for t in threads:\n",
    "    t.start()\n"
   ]
  },
  {
   "cell_type": "code",
   "execution_count": null,
   "id": "688af732-fcaa-4728-93d9-fa263a710566",
   "metadata": {},
   "outputs": [],
   "source": []
  }
 ],
 "metadata": {
  "kernelspec": {
   "display_name": "Python 3 (ipykernel)",
   "language": "python",
   "name": "python3"
  },
  "language_info": {
   "codemirror_mode": {
    "name": "ipython",
    "version": 3
   },
   "file_extension": ".py",
   "mimetype": "text/x-python",
   "name": "python",
   "nbconvert_exporter": "python",
   "pygments_lexer": "ipython3",
   "version": "3.10.8"
  }
 },
 "nbformat": 4,
 "nbformat_minor": 5
}
