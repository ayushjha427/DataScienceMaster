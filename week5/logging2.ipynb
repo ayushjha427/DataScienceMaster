{
 "cells": [
  {
   "cell_type": "markdown",
   "id": "87421ba0-a114-48c4-b93c-083262dd125e",
   "metadata": {},
   "source": [
    "import logging\n",
    "logging.basicConfig(filename = \"logdata.log\", level = logging.DEBUG, format = '%(asctime)s 5(message)s')"
   ]
  },
  {
   "cell_type": "code",
   "execution_count": 2,
   "id": "3b1bec5f-d6bb-40f8-8005-432096e54468",
   "metadata": {},
   "outputs": [],
   "source": [
    "logging.info(\"this is my message\")\n",
    "logging.error(\"this is my error messsage\")\n",
    "logging.critical(\"this is critical\")"
   ]
  },
  {
   "cell_type": "code",
   "execution_count": 3,
   "id": "c641315a-ce18-41f5-b74d-22ba1c41e52a",
   "metadata": {},
   "outputs": [],
   "source": [
    "logging.shutdown()"
   ]
  },
  {
   "cell_type": "code",
   "execution_count": 2,
   "id": "a18a0cea-d32a-4c8d-a0de-b082c48a603b",
   "metadata": {},
   "outputs": [],
   "source": [
    "import logging\n",
    "logging.basicConfig(filename = \"logdata2.log\" , level = logging.DEBUG , format = '%(asctime)s %(name)s %(levelname)s %(message)s')"
   ]
  },
  {
   "cell_type": "code",
   "execution_count": 3,
   "id": "2a2e06ff-c367-4dba-b88f-608b192c3297",
   "metadata": {},
   "outputs": [],
   "source": [
    "logging.info(\"this is my message\")\n",
    "logging.error(\"this is my error messsage\")\n",
    "logging.critical(\"this is critical\")"
   ]
  },
  {
   "cell_type": "code",
   "execution_count": 22,
   "id": "32c57ccc-3113-4c7a-89a2-514bfb568e35",
   "metadata": {},
   "outputs": [],
   "source": [
    "l = [1,2,3,4,4,[2,3,4],\"ayush\" ,\"jha\"]"
   ]
  },
  {
   "cell_type": "code",
   "execution_count": 24,
   "id": "22823d41-7778-4e06-bd0b-71e23c514e89",
   "metadata": {},
   "outputs": [],
   "source": [
    "l1_int = []\n",
    "l2_str=[]\n",
    "for i in l :\n",
    "    logging.info(\"we are iterating through our list and local variable is {}\".format(l ))\n",
    "    if type(i) == list :\n",
    "        logging.info(\"i amd inside if trying to check list type\"+str(i))\n",
    "        for j in i :\n",
    "            if type(j) == int :\n",
    "                logging.info(\"checking list inside list type\")\n",
    "                l1_int.append(j)\n",
    "                logging.info(\"chekking j \")\n",
    "    elif type(i) == int :\n",
    "        l1_int.append(i)\n",
    "    else:\n",
    "        if type(i) == str :\n",
    "            l2_str.append(i)\n",
    "logging.info(\"my final result is int {} and str {}\".format(l1_int , l2_str))"
   ]
  },
  {
   "cell_type": "code",
   "execution_count": 7,
   "id": "238f1fa1-63ea-4ece-b6e2-4d9ed056bdbf",
   "metadata": {},
   "outputs": [
    {
     "data": {
      "text/plain": [
       "[1, 2, 3, 4, 4, 2, 3, 4]"
      ]
     },
     "execution_count": 7,
     "metadata": {},
     "output_type": "execute_result"
    }
   ],
   "source": [
    "l1_int"
   ]
  },
  {
   "cell_type": "code",
   "execution_count": 8,
   "id": "7b19287b-3b8a-4da1-9a6d-4fbe5621805b",
   "metadata": {},
   "outputs": [
    {
     "data": {
      "text/plain": [
       "['ayush', 'jha']"
      ]
     },
     "execution_count": 8,
     "metadata": {},
     "output_type": "execute_result"
    }
   ],
   "source": [
    "l2_str"
   ]
  },
  {
   "cell_type": "markdown",
   "id": "c962aa4b-63a6-4b53-8099-6951742a1031",
   "metadata": {},
   "source": [
    "now check log2 file  our code is logged"
   ]
  },
  {
   "cell_type": "code",
   "execution_count": null,
   "id": "8e4cc1d9-d791-4e72-aaa5-885af66b16f6",
   "metadata": {},
   "outputs": [],
   "source": []
  }
 ],
 "metadata": {
  "kernelspec": {
   "display_name": "Python 3 (ipykernel)",
   "language": "python",
   "name": "python3"
  },
  "language_info": {
   "codemirror_mode": {
    "name": "ipython",
    "version": 3
   },
   "file_extension": ".py",
   "mimetype": "text/x-python",
   "name": "python",
   "nbconvert_exporter": "python",
   "pygments_lexer": "ipython3",
   "version": "3.10.8"
  }
 },
 "nbformat": 4,
 "nbformat_minor": 5
}
